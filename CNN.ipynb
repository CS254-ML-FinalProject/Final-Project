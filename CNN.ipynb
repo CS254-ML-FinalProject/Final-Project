{
 "cells": [
  {
   "cell_type": "code",
   "execution_count": 106,
   "metadata": {},
   "outputs": [],
   "source": [
    "import numpy as np\n",
    "import pandas as pd\n",
    "\n",
    "#Keras\n",
    "from tensorflow import keras\n",
    "from tensorflow.keras.models import Sequential\n",
    "from tensorflow.keras.layers import Dense\n",
    "from tensorflow.keras.layers import BatchNormalization, LayerNormalization\n",
    "from tensorflow.keras.optimizers import Adam\n",
    "from tensorflow.keras.callbacks import EarlyStopping\n",
    "\n",
    "# sklearn utilities\n",
    "import sklearn\n",
    "from sklearn import preprocessing\n",
    "from sklearn.model_selection import train_test_split\n",
    "from sklearn.metrics import r2_score\n",
    "from sklearn.preprocessing import robust_scale\n",
    "\n",
    "import matplotlib.pyplot as plt\n",
    "%matplotlib inline"
   ]
  },
  {
   "cell_type": "code",
   "execution_count": 2,
   "metadata": {},
   "outputs": [],
   "source": [
    "county_area = pd.read_csv('county_area.csv')\n",
    "county_area = county_area.drop([\"Areaname\"], axis=1)\n",
    "county_area = county_area.rename(columns={\"STCOU\": \"fips\"})"
   ]
  },
  {
   "cell_type": "code",
   "execution_count": 3,
   "metadata": {},
   "outputs": [],
   "source": [
    "county_mask_use = pd.read_csv('mask_use.csv')\n",
    "county_mask_use = county_mask_use.rename(columns={\"COUNTYFP\": \"fips\"})"
   ]
  },
  {
   "cell_type": "code",
   "execution_count": 4,
   "metadata": {},
   "outputs": [],
   "source": [
    "county_cases = pd.read_csv('county_cases.csv')\n",
    "county_cases = county_cases.drop([\"county\",\"state\"], axis=1)"
   ]
  },
  {
   "cell_type": "code",
   "execution_count": 5,
   "metadata": {},
   "outputs": [],
   "source": [
    "county_pop = pd.read_csv('county_pop.csv', encoding='latin-1')\n",
    "county_pop = county_pop.rename(columns={\"COUNTY\": \"fips\"})"
   ]
  },
  {
   "cell_type": "code",
   "execution_count": 181,
   "metadata": {
    "scrolled": true
   },
   "outputs": [
    {
     "data": {
      "text/html": [
       "<div>\n",
       "<style scoped>\n",
       "    .dataframe tbody tr th:only-of-type {\n",
       "        vertical-align: middle;\n",
       "    }\n",
       "\n",
       "    .dataframe tbody tr th {\n",
       "        vertical-align: top;\n",
       "    }\n",
       "\n",
       "    .dataframe thead th {\n",
       "        text-align: right;\n",
       "    }\n",
       "</style>\n",
       "<table border=\"1\" class=\"dataframe\">\n",
       "  <thead>\n",
       "    <tr style=\"text-align: right;\">\n",
       "      <th></th>\n",
       "      <th>fips</th>\n",
       "      <th>&lt; HS</th>\n",
       "      <th>HS</th>\n",
       "      <th>Some College</th>\n",
       "      <th>Bachelors</th>\n",
       "      <th>% &lt; HS</th>\n",
       "      <th>% HS</th>\n",
       "      <th>% Some College</th>\n",
       "      <th>% Bachelors</th>\n",
       "    </tr>\n",
       "  </thead>\n",
       "  <tbody>\n",
       "    <tr>\n",
       "      <th>0</th>\n",
       "      <td>0</td>\n",
       "      <td>28587748.0</td>\n",
       "      <td>58440600.0</td>\n",
       "      <td>60821634.0</td>\n",
       "      <td>61206147.0</td>\n",
       "      <td>13.7</td>\n",
       "      <td>28.0</td>\n",
       "      <td>29.1</td>\n",
       "      <td>29.3</td>\n",
       "    </tr>\n",
       "    <tr>\n",
       "      <th>1</th>\n",
       "      <td>1000</td>\n",
       "      <td>524368.0</td>\n",
       "      <td>999761.0</td>\n",
       "      <td>951960.0</td>\n",
       "      <td>741813.0</td>\n",
       "      <td>16.3</td>\n",
       "      <td>31.1</td>\n",
       "      <td>29.6</td>\n",
       "      <td>23.1</td>\n",
       "    </tr>\n",
       "    <tr>\n",
       "      <th>2</th>\n",
       "      <td>1001</td>\n",
       "      <td>5012.0</td>\n",
       "      <td>12139.0</td>\n",
       "      <td>11132.0</td>\n",
       "      <td>7950.0</td>\n",
       "      <td>13.8</td>\n",
       "      <td>33.5</td>\n",
       "      <td>30.7</td>\n",
       "      <td>21.9</td>\n",
       "    </tr>\n",
       "  </tbody>\n",
       "</table>\n",
       "</div>"
      ],
      "text/plain": [
       "   fips        < HS          HS  Some College   Bachelors  % < HS  % HS  \\\n",
       "0     0  28587748.0  58440600.0    60821634.0  61206147.0    13.7  28.0   \n",
       "1  1000    524368.0    999761.0      951960.0    741813.0    16.3  31.1   \n",
       "2  1001      5012.0     12139.0       11132.0      7950.0    13.8  33.5   \n",
       "\n",
       "   % Some College  % Bachelors  \n",
       "0            29.1         29.3  \n",
       "1            29.6         23.1  \n",
       "2            30.7         21.9  "
      ]
     },
     "execution_count": 181,
     "metadata": {},
     "output_type": "execute_result"
    }
   ],
   "source": [
    "education = pd.read_csv('Education.csv')\n",
    "education = education.rename(columns={\"FIPS Code\": \"fips\", \n",
    "                            \"Less than a high school diploma, 2010-2014\": \"< HS\",\n",
    "                            \"High school diploma only, 2010-2014\":\"HS\", \n",
    "                            \"Some college or associate's degree, 2010-2014\": \"Some College\",\n",
    "                            \"Bachelor's degree or higher, 2010-2014\": \"Bachelors\",\n",
    "                            \"Percent of adults with less than a high school diploma, 2010-2014\" : \"% < HS\",\n",
    "                            \"Percent of adults with a high school diploma only, 2010-2014\" : \"% HS\",\n",
    "                            \"Percent of adults completing some college or associate's degree, 2010-2014\" : \"% Some College\",\n",
    "                            \"Percent of adults with a bachelor's degree or higher, 2010-2014\" : \"% Bachelors\"})\n",
    "\n",
    "education = education.drop([\"State\", \"Area name\"], axis=1)\n",
    "education.head(3)"
   ]
  },
  {
   "cell_type": "code",
   "execution_count": 168,
   "metadata": {},
   "outputs": [],
   "source": [
    "def new_normal(table):\n",
    "    normal = robust_scale(table)\n",
    "    return normal"
   ]
  },
  {
   "cell_type": "code",
   "execution_count": 222,
   "metadata": {},
   "outputs": [],
   "source": [
    "df = county_pop.merge(county_mask_use, how='left', on=\"fips\")\n",
    "df = df.merge(county_area, how=\"left\", on=\"fips\")\n",
    "df = df.merge(county_cases, how=\"left\", on=\"fips\")\n",
    "\n",
    "\n",
    "df['POP_DEN'] = df['POPESTIMATE2019'] / df['AREA']\n",
    "df['POP_DENxALWAYS'] = df['POP_DEN'] * df['ALWAYS']\n",
    "# df['POP_DENxFREQUENTLY'] =df['POP_DEN'] * df['FREQUENTLY']\n",
    "# df['POP_DENxSOMETIMES'] = df['POP_DEN'] * df['SOMETIMES']\n",
    "# df['POP_DENxRARELY'] = df['POP_DEN'] * df['RARELY']\n",
    "# df['POP_DENxNEVER'] = df['POP_DEN'] * df['NEVER']\n",
    "# df['POPxALWAYS'] = df['POPESTIMATE2019'] * df['ALWAYS']\n",
    "# df['POPxFREQUENTLY'] =df['POPESTIMATE2019'] * df['FREQUENTLY']\n",
    "# df['POPxSOMETIMES'] = df['POPESTIMATE2019'] * df['SOMETIMES']\n",
    "# df['POPxRARELY'] = df['POPESTIMATE2019'] * df['RARELY']\n",
    "# df['POPxNEVER'] = df['POPESTIMATE2019'] * df['NEVER']\n",
    "\n",
    "df = df.merge(education, how=\"left\", on=\"fips\")\n",
    "df['% < HS']  = df['% < HS'] / 100\n",
    "df['% HS'] = df['% HS'] / 100\n",
    "df['% Some College'] = df['% Some College'] / 100\n",
    "df['% Bachelors'] = df['% Bachelors'] / 100\n",
    "\n",
    "df.insert(0, 'Ones', 1)"
   ]
  },
  {
   "cell_type": "code",
   "execution_count": 223,
   "metadata": {},
   "outputs": [],
   "source": [
    "#print(df.dtypes)"
   ]
  },
  {
   "cell_type": "code",
   "execution_count": 231,
   "metadata": {},
   "outputs": [],
   "source": [
    "\n",
    "#df.columns\n",
    "\n",
    "column_titles =  ['POPESTIMATE2019', 'NEVER',\n",
    "                  'RARELY', 'SOMETIMES', 'FREQUENTLY', 'ALWAYS', 'AREA', \n",
    "                  'POP_DEN', 'POP_DENxALWAYS', '< HS', 'HS', 'Some College',\n",
    "                  'Bachelors', '% < HS', '% HS', '% Some College', '% Bachelors']\n",
    "\n",
    "new_df = df.reindex(columns=column_titles)\n",
    "normal_all = new_normal(new_df)\n",
    "normal_df = pd.DataFrame(normal_all)\n",
    "normal_df.columns = column_titles\n",
    "normal_df['fips'] = df['fips']\n",
    "normal_df = normal_df.merge(county_cases, how=\"left\", on=\"fips\")\n",
    "column_titles = ['fips','cases','deaths','POPESTIMATE2019', 'NEVER',\n",
    "                 'RARELY', 'SOMETIMES', 'FREQUENTLY', 'ALWAYS', 'AREA',\n",
    "                 '< HS', 'HS', 'Some College','Bachelors', \n",
    "                 '% < HS', '% HS', '% Some College', '% Bachelors']\n",
    "\n",
    "# ['fips','cases','deaths','POPESTIMATE2019', 'NEVER',\n",
    "#  'RARELY', 'SOMETIMES', 'FREQUENTLY', 'ALWAYS', 'AREA', 'cases',\n",
    "#  'deaths', 'POP_DEN', 'POP_DENxALWAYS', '< HS', 'HS', 'Some College',\n",
    "#  'Bachelors', '% < HS', '% HS', '% Some College', '% Bachelors']\n",
    "\n",
    "#column_titles = [\"cases\",\"deaths\",\"POPESTIMATE2019\",\"NEVER\",\"RARELY\",\"SOMETIMES\",\"FREQUENTLY\",\"ALWAYS\"]\n",
    "\n",
    "normal_df = normal_df.reindex(columns=column_titles)\n"
   ]
  },
  {
   "cell_type": "code",
   "execution_count": 232,
   "metadata": {},
   "outputs": [
    {
     "data": {
      "text/html": [
       "<div>\n",
       "<style scoped>\n",
       "    .dataframe tbody tr th:only-of-type {\n",
       "        vertical-align: middle;\n",
       "    }\n",
       "\n",
       "    .dataframe tbody tr th {\n",
       "        vertical-align: top;\n",
       "    }\n",
       "\n",
       "    .dataframe thead th {\n",
       "        text-align: right;\n",
       "    }\n",
       "</style>\n",
       "<table border=\"1\" class=\"dataframe\">\n",
       "  <thead>\n",
       "    <tr style=\"text-align: right;\">\n",
       "      <th></th>\n",
       "      <th>fips</th>\n",
       "      <th>cases</th>\n",
       "      <th>deaths</th>\n",
       "      <th>POPESTIMATE2019</th>\n",
       "      <th>NEVER</th>\n",
       "      <th>RARELY</th>\n",
       "      <th>SOMETIMES</th>\n",
       "      <th>FREQUENTLY</th>\n",
       "      <th>ALWAYS</th>\n",
       "      <th>AREA</th>\n",
       "      <th>&lt; HS</th>\n",
       "      <th>HS</th>\n",
       "      <th>Some College</th>\n",
       "      <th>Bachelors</th>\n",
       "      <th>% &lt; HS</th>\n",
       "      <th>% HS</th>\n",
       "      <th>% Some College</th>\n",
       "      <th>% Bachelors</th>\n",
       "    </tr>\n",
       "  </thead>\n",
       "  <tbody>\n",
       "    <tr>\n",
       "      <th>count</th>\n",
       "      <td>3128.000000</td>\n",
       "      <td>3128.000000</td>\n",
       "      <td>3128.000000</td>\n",
       "      <td>3128.000000</td>\n",
       "      <td>3128.000000</td>\n",
       "      <td>3128.000000</td>\n",
       "      <td>3128.000000</td>\n",
       "      <td>3128.000000</td>\n",
       "      <td>3128.000000</td>\n",
       "      <td>3128.000000</td>\n",
       "      <td>3128.000000</td>\n",
       "      <td>3128.000000</td>\n",
       "      <td>3128.000000</td>\n",
       "      <td>3128.000000</td>\n",
       "      <td>3128.000000</td>\n",
       "      <td>3128.000000</td>\n",
       "      <td>3128.000000</td>\n",
       "      <td>3128.000000</td>\n",
       "    </tr>\n",
       "    <tr>\n",
       "      <th>mean</th>\n",
       "      <td>30399.191176</td>\n",
       "      <td>2649.581202</td>\n",
       "      <td>63.391304</td>\n",
       "      <td>1.341580</td>\n",
       "      <td>0.152579</td>\n",
       "      <td>0.135516</td>\n",
       "      <td>0.071628</td>\n",
       "      <td>0.044842</td>\n",
       "      <td>0.047745</td>\n",
       "      <td>1.022555</td>\n",
       "      <td>1.163560</td>\n",
       "      <td>0.962769</td>\n",
       "      <td>1.207973</td>\n",
       "      <td>1.949881</td>\n",
       "      <td>0.150113</td>\n",
       "      <td>-0.041796</td>\n",
       "      <td>-0.013306</td>\n",
       "      <td>0.219881</td>\n",
       "    </tr>\n",
       "    <tr>\n",
       "      <th>std</th>\n",
       "      <td>15160.277769</td>\n",
       "      <td>10055.894415</td>\n",
       "      <td>263.073556</td>\n",
       "      <td>5.759200</td>\n",
       "      <td>0.741562</td>\n",
       "      <td>0.739335</td>\n",
       "      <td>0.742910</td>\n",
       "      <td>0.760078</td>\n",
       "      <td>0.692113</td>\n",
       "      <td>7.340426</td>\n",
       "      <td>7.248165</td>\n",
       "      <td>3.905503</td>\n",
       "      <td>4.999559</td>\n",
       "      <td>8.363146</td>\n",
       "      <td>0.718906</td>\n",
       "      <td>0.743050</td>\n",
       "      <td>0.733205</td>\n",
       "      <td>0.897076</td>\n",
       "    </tr>\n",
       "    <tr>\n",
       "      <th>min</th>\n",
       "      <td>1001.000000</td>\n",
       "      <td>1.000000</td>\n",
       "      <td>0.000000</td>\n",
       "      <td>-0.448839</td>\n",
       "      <td>-0.860759</td>\n",
       "      <td>-0.973333</td>\n",
       "      <td>-1.474359</td>\n",
       "      <td>-2.108434</td>\n",
       "      <td>-1.742303</td>\n",
       "      <td>-1.207108</td>\n",
       "      <td>-0.530900</td>\n",
       "      <td>-0.518212</td>\n",
       "      <td>-0.434673</td>\n",
       "      <td>-0.346276</td>\n",
       "      <td>-1.308511</td>\n",
       "      <td>-2.811671</td>\n",
       "      <td>-2.464789</td>\n",
       "      <td>-1.363636</td>\n",
       "    </tr>\n",
       "    <tr>\n",
       "      <th>25%</th>\n",
       "      <td>18178.500000</td>\n",
       "      <td>209.750000</td>\n",
       "      <td>2.000000</td>\n",
       "      <td>-0.260846</td>\n",
       "      <td>-0.430380</td>\n",
       "      <td>-0.440000</td>\n",
       "      <td>-0.474359</td>\n",
       "      <td>-0.481928</td>\n",
       "      <td>-0.474344</td>\n",
       "      <td>-0.380531</td>\n",
       "      <td>-0.311471</td>\n",
       "      <td>-0.293995</td>\n",
       "      <td>-0.243628</td>\n",
       "      <td>-0.212118</td>\n",
       "      <td>-0.393617</td>\n",
       "      <td>-0.519894</td>\n",
       "      <td>-0.521127</td>\n",
       "      <td>-0.404040</td>\n",
       "    </tr>\n",
       "    <tr>\n",
       "      <th>50%</th>\n",
       "      <td>29174.000000</td>\n",
       "      <td>602.500000</td>\n",
       "      <td>10.000000</td>\n",
       "      <td>0.000000</td>\n",
       "      <td>0.000000</td>\n",
       "      <td>0.000000</td>\n",
       "      <td>0.000000</td>\n",
       "      <td>0.000000</td>\n",
       "      <td>0.000000</td>\n",
       "      <td>0.000000</td>\n",
       "      <td>0.000000</td>\n",
       "      <td>0.000000</td>\n",
       "      <td>0.000000</td>\n",
       "      <td>0.000000</td>\n",
       "      <td>0.000000</td>\n",
       "      <td>0.000000</td>\n",
       "      <td>0.000000</td>\n",
       "      <td>0.000000</td>\n",
       "    </tr>\n",
       "    <tr>\n",
       "      <th>75%</th>\n",
       "      <td>45083.500000</td>\n",
       "      <td>1692.250000</td>\n",
       "      <td>34.000000</td>\n",
       "      <td>0.739154</td>\n",
       "      <td>0.569620</td>\n",
       "      <td>0.560000</td>\n",
       "      <td>0.525641</td>\n",
       "      <td>0.518072</td>\n",
       "      <td>0.525656</td>\n",
       "      <td>0.619469</td>\n",
       "      <td>0.688529</td>\n",
       "      <td>0.706005</td>\n",
       "      <td>0.756372</td>\n",
       "      <td>0.787882</td>\n",
       "      <td>0.606383</td>\n",
       "      <td>0.480106</td>\n",
       "      <td>0.478873</td>\n",
       "      <td>0.595960</td>\n",
       "    </tr>\n",
       "    <tr>\n",
       "      <th>max</th>\n",
       "      <td>56045.000000</td>\n",
       "      <td>299760.000000</td>\n",
       "      <td>6993.000000</td>\n",
       "      <td>176.569363</td>\n",
       "      <td>4.607595</td>\n",
       "      <td>4.146667</td>\n",
       "      <td>3.923077</td>\n",
       "      <td>4.156627</td>\n",
       "      <td>1.787913</td>\n",
       "      <td>294.231761</td>\n",
       "      <td>294.675275</td>\n",
       "      <td>109.815729</td>\n",
       "      <td>149.583158</td>\n",
       "      <td>239.121734</td>\n",
       "      <td>4.223404</td>\n",
       "      <td>1.899204</td>\n",
       "      <td>2.295775</td>\n",
       "      <td>5.777778</td>\n",
       "    </tr>\n",
       "  </tbody>\n",
       "</table>\n",
       "</div>"
      ],
      "text/plain": [
       "               fips          cases       deaths  POPESTIMATE2019        NEVER  \\\n",
       "count   3128.000000    3128.000000  3128.000000      3128.000000  3128.000000   \n",
       "mean   30399.191176    2649.581202    63.391304         1.341580     0.152579   \n",
       "std    15160.277769   10055.894415   263.073556         5.759200     0.741562   \n",
       "min     1001.000000       1.000000     0.000000        -0.448839    -0.860759   \n",
       "25%    18178.500000     209.750000     2.000000        -0.260846    -0.430380   \n",
       "50%    29174.000000     602.500000    10.000000         0.000000     0.000000   \n",
       "75%    45083.500000    1692.250000    34.000000         0.739154     0.569620   \n",
       "max    56045.000000  299760.000000  6993.000000       176.569363     4.607595   \n",
       "\n",
       "            RARELY    SOMETIMES   FREQUENTLY       ALWAYS         AREA  \\\n",
       "count  3128.000000  3128.000000  3128.000000  3128.000000  3128.000000   \n",
       "mean      0.135516     0.071628     0.044842     0.047745     1.022555   \n",
       "std       0.739335     0.742910     0.760078     0.692113     7.340426   \n",
       "min      -0.973333    -1.474359    -2.108434    -1.742303    -1.207108   \n",
       "25%      -0.440000    -0.474359    -0.481928    -0.474344    -0.380531   \n",
       "50%       0.000000     0.000000     0.000000     0.000000     0.000000   \n",
       "75%       0.560000     0.525641     0.518072     0.525656     0.619469   \n",
       "max       4.146667     3.923077     4.156627     1.787913   294.231761   \n",
       "\n",
       "              < HS           HS  Some College    Bachelors       % < HS  \\\n",
       "count  3128.000000  3128.000000   3128.000000  3128.000000  3128.000000   \n",
       "mean      1.163560     0.962769      1.207973     1.949881     0.150113   \n",
       "std       7.248165     3.905503      4.999559     8.363146     0.718906   \n",
       "min      -0.530900    -0.518212     -0.434673    -0.346276    -1.308511   \n",
       "25%      -0.311471    -0.293995     -0.243628    -0.212118    -0.393617   \n",
       "50%       0.000000     0.000000      0.000000     0.000000     0.000000   \n",
       "75%       0.688529     0.706005      0.756372     0.787882     0.606383   \n",
       "max     294.675275   109.815729    149.583158   239.121734     4.223404   \n",
       "\n",
       "              % HS  % Some College  % Bachelors  \n",
       "count  3128.000000     3128.000000  3128.000000  \n",
       "mean     -0.041796       -0.013306     0.219881  \n",
       "std       0.743050        0.733205     0.897076  \n",
       "min      -2.811671       -2.464789    -1.363636  \n",
       "25%      -0.519894       -0.521127    -0.404040  \n",
       "50%       0.000000        0.000000     0.000000  \n",
       "75%       0.480106        0.478873     0.595960  \n",
       "max       1.899204        2.295775     5.777778  "
      ]
     },
     "execution_count": 232,
     "metadata": {},
     "output_type": "execute_result"
    }
   ],
   "source": [
    "normal_df.describe()"
   ]
  },
  {
   "cell_type": "code",
   "execution_count": 233,
   "metadata": {},
   "outputs": [
    {
     "data": {
      "text/plain": [
       "count     3052.000000\n",
       "mean      1593.497379\n",
       "std       2798.154179\n",
       "min          1.000000\n",
       "25%        205.000000\n",
       "50%        576.000000\n",
       "75%       1539.000000\n",
       "max      19726.000000\n",
       "Name: cases, dtype: float64"
      ]
     },
     "execution_count": 233,
     "metadata": {},
     "output_type": "execute_result"
    }
   ],
   "source": [
    "# df['cases'] = np.log(df['cases'])\n",
    "df['cases'].describe()\n",
    "\n",
    "index = df[(df['cases'] >= 20000)|(df['cases'] <= 0)].index\n",
    "df.drop(index, inplace=True)\n",
    "normal_df.drop(index, inplace=True)\n",
    "df['cases'].describe()\n",
    "\n"
   ]
  },
  {
   "cell_type": "code",
   "execution_count": 234,
   "metadata": {},
   "outputs": [],
   "source": [
    "# Split Data\n",
    "normal_svm_df = normal_df.drop(['cases','fips'], axis=1)\n",
    "cols = df.shape[1]\n",
    "\n",
    "X = np.array(normal_svm_df) # iloc slicing function \n",
    "y = np.array(df['cases'])"
   ]
  },
  {
   "cell_type": "code",
   "execution_count": 235,
   "metadata": {},
   "outputs": [
    {
     "name": "stdout",
     "output_type": "stream",
     "text": [
      "(3052, 16)\n",
      "(3052,)\n"
     ]
    }
   ],
   "source": [
    "#X = X.reshape(X.shape[0], X.shape[1], 1)\n",
    "print(X.shape)\n",
    "print(y.shape)"
   ]
  },
  {
   "cell_type": "code",
   "execution_count": 236,
   "metadata": {},
   "outputs": [],
   "source": [
    "xtrain, xtest, ytrain, ytest=train_test_split(X, y, test_size=0.2,  random_state=0) \n",
    "\n",
    "ytrain = np.log(ytrain)\n",
    "ytest = np.log(ytest)"
   ]
  },
  {
   "cell_type": "code",
   "execution_count": 51,
   "metadata": {},
   "outputs": [],
   "source": [
    "# Scale both training and testing input data\n",
    "\n",
    "#xtrain = preprocessing.scale(xtrain)\n",
    "#xtest = preprocessing.scale(xtest)"
   ]
  },
  {
   "cell_type": "code",
   "execution_count": 15,
   "metadata": {},
   "outputs": [
    {
     "data": {
      "image/png": "[encoded data removed]",
      "text/plain": [
       "<Figure size 432x288 with 1 Axes>"
      ]
     },
     "metadata": {
      "needs_background": "light"
     },
     "output_type": "display_data"
    },
    {
     "data": {
      "image/png": "[encoded data removed]",
      "text/plain": [
       "<Figure size 432x288 with 1 Axes>"
      ]
     },
     "metadata": {
      "needs_background": "light"
     },
     "output_type": "display_data"
    },
    {
     "data": {
      "image/png": "[encoded data removed]",
      "text/plain": [
       "<Figure size 432x288 with 1 Axes>"
      ]
     },
     "metadata": {
      "needs_background": "light"
     },
     "output_type": "display_data"
    }
   ],
   "source": [
    "# Plots the results of a learning rate of 100, 1000, and 10000 respectively, with all other parameters constant\n",
    "\n",
    "LR = [.01,.1,1]\n",
    "\n",
    "for i in LR:\n",
    "    #Defines linear regression model and its structure\n",
    "    model = Sequential()\n",
    "    model.add(Dense(1, input_shape=(9,)))\n",
    "    \n",
    "    #Compiles model\n",
    "    model.compile(Adam(lr=i), 'mean_squared_error')\n",
    "    \n",
    "    #Fits model\n",
    "    history = model.fit(xtrain, ytrain, epochs = 500, validation_split = 0.1,verbose = 0)\n",
    "    history_dict=history.history\n",
    "    \n",
    "    #Plots model's training cost/loss and model's validation split cost/loss\n",
    "    loss_values = history_dict['loss']\n",
    "    val_loss_values=history_dict['val_loss']\n",
    "    plt.figure()\n",
    "    plt.plot(loss_values,'bo',label='training loss')\n",
    "    plt.plot(val_loss_values,'r',label='val training loss')"
   ]
  },
  {
   "cell_type": "code",
   "execution_count": 16,
   "metadata": {},
   "outputs": [
    {
     "data": {
      "image/png": "[encoded data removed]",
      "text/plain": [
       "<Figure size 432x288 with 1 Axes>"
      ]
     },
     "metadata": {
      "needs_background": "light"
     },
     "output_type": "display_data"
    }
   ],
   "source": [
    "# Runs and plots the performance of a model with the same parameters from before (and a learning rate of 10000), \n",
    "# but now with an activation function (Relu)\n",
    "\n",
    "#Defines linear regression model and its structure\n",
    "model = Sequential()\n",
    "model.add(Dense(1, input_shape=(9,)))\n",
    "\n",
    "#Compiles model\n",
    "model.compile(Adam(lr=10000), 'mean_squared_error')\n",
    "\n",
    "#Fits model\n",
    "history = model.fit(xtrain, ytrain, epochs = 500, validation_split = 0.1,verbose = 0)\n",
    "history_dict=history.history\n",
    "\n",
    "#Plots model's training cost/loss and model's validation split cost/loss\n",
    "loss_values = history_dict['loss']\n",
    "val_loss_values=history_dict['val_loss']\n",
    "plt.figure()\n",
    "plt.plot(loss_values,'bo',label='training loss')\n",
    "plt.plot(val_loss_values,'r',label='val training loss')\n",
    "plt.show()"
   ]
  },
  {
   "cell_type": "code",
   "execution_count": 17,
   "metadata": {},
   "outputs": [
    {
     "name": "stdout",
     "output_type": "stream",
     "text": [
      "The R2 score on the Train set is:\t-25712.085\n",
      "The R2 score on the Test set is:\t-13413.271\n"
     ]
    }
   ],
   "source": [
    "# Runs model (the one with the activation function, although this doesn't really matter as they perform the same) \n",
    "# with its current weights on the training and testing data\n",
    "ytrain_pred = model.predict(xtrain)\n",
    "ytest_pred = model.predict(xtest)\n",
    "\n",
    "# Calculates and prints r2 score of training and testing data\n",
    "print(\"The R2 score on the Train set is:\\t{:0.3f}\".format(r2_score(ytrain, ytrain_pred)))\n",
    "print(\"The R2 score on the Test set is:\\t{:0.3f}\".format(r2_score(ytest, ytest_pred)))"
   ]
  },
  {
   "cell_type": "code",
   "execution_count": 18,
   "metadata": {},
   "outputs": [
    {
     "data": {
      "text/plain": [
       "[<matplotlib.lines.Line2D at 0x7f8dcb241bb0>]"
      ]
     },
     "execution_count": 18,
     "metadata": {},
     "output_type": "execute_result"
    },
    {
     "data": {
      "image/png": "[encoded data removed]",
      "text/plain": [
       "<Figure size 432x288 with 1 Axes>"
      ]
     },
     "metadata": {
      "needs_background": "light"
     },
     "output_type": "display_data"
    }
   ],
   "source": [
    "# Defines \"deep\" model and its structure\n",
    "model = Sequential()\n",
    "model.add(Dense(13, input_shape=(9,), activation='relu'))\n",
    "model.add(Dense(13, activation='relu'))\n",
    "model.add(Dense(13, activation='relu'))\n",
    "model.add(Dense(13, activation='relu'))\n",
    "model.add(Dense(13, activation='relu'))\n",
    "model.add(Dense(1,))\n",
    "model.compile(Adam(lr=0.003), 'mean_squared_error')\n",
    "\n",
    "# Runs model for 2000 iterations and assigns this to 'history'\n",
    "history = model.fit(xtrain, ytrain, epochs = 2000, validation_split = 0.2, verbose = 0)\n",
    "\n",
    "# Plots 'history'\n",
    "history_dict=history.history\n",
    "loss_values = history_dict['loss']\n",
    "val_loss_values=history_dict['val_loss']\n",
    "plt.plot(loss_values,'bo',label='training loss')\n",
    "plt.plot(val_loss_values,'r',label='training loss val')"
   ]
  },
  {
   "cell_type": "code",
   "execution_count": 241,
   "metadata": {
    "scrolled": false
   },
   "outputs": [
    {
     "name": "stdout",
     "output_type": "stream",
     "text": [
      "Epoch 00233: early stopping\n",
      "77/77 [==============================] - 0s 1ms/step - loss: 0.2143 - mae: 0.3490\n",
      "[0.21433283388614655, 0.34896138310432434]\n",
      "The R2 score on the Train set is:\t0.916\n",
      "The R2 score on the Test set is:\t0.851\n"
     ]
    },
    {
     "data": {
      "image/png": "[encoded data removed]",
      "text/plain": [
       "<Figure size 432x288 with 1 Axes>"
      ]
     },
     "metadata": {
      "needs_background": "light"
     },
     "output_type": "display_data"
    }
   ],
   "source": [
    "# Defines \"deep\" model and its structure\n",
    "\n",
    "model = Sequential()\n",
    "model.add(Dense(64, input_shape=(16,), activation='relu'))\n",
    "model.add(Dense(13, activation='relu'))\n",
    "model.add(Dense(13, activation='relu'))\n",
    "model.add(Dense(13, activation='relu'))\n",
    "model.add(Dense(13, activation='relu'))\n",
    "model.add(Dense(13, activation='relu'))\n",
    "model.add(Dense(13, activation='relu'))\n",
    "model.add(Dense(1,))\n",
    "model.compile(Adam(lr=0.0003), 'mean_squared_error', metrics=['mae'])\n",
    "\n",
    "# Pass several parameters to 'EarlyStopping' function and assigns it to 'earlystopper'\n",
    "earlystopper = EarlyStopping(monitor='loss', min_delta=0, patience=30, verbose=1, mode='auto')\n",
    "\n",
    "# Fits model over 2000 iterations with 'earlystopper' callback, and assigns it to history\n",
    "history = model.fit(xtrain, ytrain, epochs = 2000, validation_split = 0.25, shuffle = True, verbose = 0, \n",
    "                    callbacks = [earlystopper])\n",
    "print(model.evaluate(xtrain, ytrain))\n",
    "\n",
    "# Plots 'history'\n",
    "history_dict=history.history\n",
    "loss_values = history_dict['loss']\n",
    "val_loss_values=history_dict['val_loss']\n",
    "plt.plot(loss_values,'bo',label='training loss')\n",
    "plt.plot(val_loss_values,'r',label='training loss val')\n",
    "\n",
    "# Runs model with its current weights on the training and testing data\n",
    "ytrain_pred = model.predict(xtrain)\n",
    "ytest_pred = model.predict(xtest)\n",
    "\n",
    "# Calculates and prints r2 score of training and testing data\n",
    "print(\"The R2 score on the Train set is:\\t{:0.3f}\".format(r2_score(ytrain, ytrain_pred)))\n",
    "print(\"The R2 score on the Test set is:\\t{:0.3f}\".format(r2_score(ytest, ytest_pred)))"
   ]
  },
  {
   "cell_type": "code",
   "execution_count": 242,
   "metadata": {},
   "outputs": [
    {
     "data": {
      "text/plain": [
       "<Figure size 432x288 with 0 Axes>"
      ]
     },
     "execution_count": 242,
     "metadata": {},
     "output_type": "execute_result"
    },
    {
     "data": {
      "image/png": "[encoded data removed]",
      "text/plain": [
       "<Figure size 432x288 with 1 Axes>"
      ]
     },
     "metadata": {
      "needs_background": "light"
     },
     "output_type": "display_data"
    },
    {
     "data": {
      "text/plain": [
       "<Figure size 432x288 with 0 Axes>"
      ]
     },
     "metadata": {},
     "output_type": "display_data"
    }
   ],
   "source": [
    "plt.plot(ytrain, ytrain_pred,'*r')\n",
    "plt.plot(ytest, ytest_pred, '*g')\n",
    "\n",
    "# for i in range(400,1000):\n",
    "#     plt.plot(i/100,i/100,'*y')\n",
    "plt.figure()"
   ]
  },
  {
   "cell_type": "code",
   "execution_count": null,
   "metadata": {},
   "outputs": [],
   "source": []
  }
 ],
 "metadata": {
  "kernelspec": {
   "display_name": "Python 3",
   "language": "python",
   "name": "python3"
  },
  "language_info": {
   "codemirror_mode": {
    "name": "ipython",
    "version": 3
   },
   "file_extension": ".py",
   "mimetype": "text/x-python",
   "name": "python",
   "nbconvert_exporter": "python",
   "pygments_lexer": "ipython3",
   "version": "3.8.5"
  }
 },
 "nbformat": 4,
 "nbformat_minor": 4
}
