{
 "cells": [
  {
   "cell_type": "code",
   "execution_count": 1,
   "metadata": {},
   "outputs": [],
   "source": [
    "import numpy as np\n",
    "import pandas as pd\n",
    "\n",
    "#Keras\n",
    "from tensorflow import keras\n",
    "from tensorflow.keras.models import Sequential\n",
    "from tensorflow.keras.layers import Dense\n",
    "from tensorflow.keras.layers import BatchNormalization\n",
    "from tensorflow.keras.optimizers import Adam\n",
    "from tensorflow.keras.callbacks import EarlyStopping\n",
    "\n",
    "# sklearn utilities\n",
    "import sklearn\n",
    "from sklearn import preprocessing\n",
    "from sklearn.model_selection import train_test_split\n",
    "from sklearn.metrics import r2_score\n",
    "from sklearn.preprocessing import robust_scale\n",
    "\n",
    "import matplotlib.pyplot as plt\n",
    "%matplotlib inline"
   ]
  },
  {
   "cell_type": "code",
   "execution_count": 2,
   "metadata": {},
   "outputs": [],
   "source": [
    "county_area = pd.read_csv('county_area.csv')\n",
    "county_area = county_area.drop([\"Areaname\"], axis=1)\n",
    "county_area = county_area.rename(columns={\"STCOU\": \"fips\"})"
   ]
  },
  {
   "cell_type": "code",
   "execution_count": 3,
   "metadata": {},
   "outputs": [],
   "source": [
    "county_mask_use = pd.read_csv('mask_use.csv')\n",
    "county_mask_use = county_mask_use.rename(columns={\"COUNTYFP\": \"fips\"})"
   ]
  },
  {
   "cell_type": "code",
   "execution_count": 4,
   "metadata": {},
   "outputs": [],
   "source": [
    "county_cases = pd.read_csv('county_cases.csv')\n",
    "county_cases = county_cases.drop([\"county\",\"state\"], axis=1)"
   ]
  },
  {
   "cell_type": "code",
   "execution_count": 5,
   "metadata": {},
   "outputs": [],
   "source": [
    "county_pop = pd.read_csv('county_pop.csv', encoding='latin-1')\n",
    "county_pop = county_pop.rename(columns={\"COUNTY\": \"fips\"})"
   ]
  },
  {
   "cell_type": "code",
   "execution_count": 6,
   "metadata": {},
   "outputs": [],
   "source": [
    "def new_normal(table):\n",
    "    normal = robust_scale(table)\n",
    "    return normal"
   ]
  },
  {
   "cell_type": "code",
   "execution_count": 7,
   "metadata": {},
   "outputs": [],
   "source": [
    "df = county_pop.merge(county_mask_use, how='left', on=\"fips\")\n",
    "df = df.merge(county_area, how=\"left\", on=\"fips\")\n",
    "df['POP_DEN'] = df['POPESTIMATE2019'] / df['AREA']\n",
    "df['POP_DENxALWAYS'] = df['POP_DEN'] * df['ALWAYS']\n",
    "df['POP_DENxFREQUENTLY'] =df['POP_DEN'] * df['FREQUENTLY']\n",
    "df['POP_DENxSOMETIMES'] = df['POP_DEN'] * df['SOMETIMES']\n",
    "df['POP_DENxRARELY'] = df['POP_DEN'] * df['RARELY']\n",
    "df['POP_DENxNEVER'] = df['POP_DEN'] * df['NEVER']\n",
    "df['POPxALWAYS'] = df['POPESTIMATE2019'] * df['ALWAYS']\n",
    "df['POPxFREQUENTLY'] =df['POPESTIMATE2019'] * df['FREQUENTLY']\n",
    "df['POPxSOMETIMES'] = df['POPESTIMATE2019'] * df['SOMETIMES']\n",
    "df['POPxRARELY'] = df['POPESTIMATE2019'] * df['RARELY']\n",
    "df['POPxNEVER'] = df['POPESTIMATE2019'] * df['NEVER']"
   ]
  },
  {
   "cell_type": "code",
   "execution_count": 8,
   "metadata": {},
   "outputs": [],
   "source": [
    "df = df.merge(county_cases, how=\"left\", on=\"fips\")\n",
    "df.insert(0, 'Ones', 1)\n",
    "column_titles = [\"POPESTIMATE2019\",\"NEVER\",\"RARELY\",\"SOMETIMES\",\"FREQUENTLY\",\"ALWAYS\",\"AREA\",\"POP_DEN\",\"POP_DENxALWAYS\",\"POP_DENxFREQUENTLY\",\"POP_DENxSOMETIMES\",\"POP_DENxRARELY\",\"POP_DENxNEVER\",'POPxALWAYS','POPxFREQUENTLY','POPxSOMETIMES','POPxRARELY','POPxNEVER']\n",
    "new_df = df.reindex(columns=column_titles)\n",
    "normal_all = new_normal(new_df)\n",
    "normal_df = pd.DataFrame(normal_all)\n",
    "normal_df.columns = column_titles\n",
    "normal_df['fips'] = df['fips']\n",
    "normal_df = normal_df.merge(county_cases, how=\"left\", on=\"fips\")\n",
    "column_titles = [\"fips\",\"cases\",\"deaths\",\"POPESTIMATE2019\",\"NEVER\",\"RARELY\",\"SOMETIMES\",\"FREQUENTLY\",\"ALWAYS\",\"AREA\",\"POP_DEN\",\"POP_DENxALWAYS\",\"POP_DENxFREQUENTLY\",\"POP_DENxSOMETIMES\",\"POP_DENxRARELY\",\"POP_DENxNEVER\",'POPxALWAYS','POPxFREQUENTLY','POPxSOMETIMES','POPxRARELY','POPxNEVER']\n",
    "\n",
    "#column_titles = [\"cases\",\"deaths\",\"POPESTIMATE2019\",\"NEVER\",\"RARELY\",\"SOMETIMES\",\"FREQUENTLY\",\"ALWAYS\"]\n",
    "\n",
    "normal_df = normal_df.reindex(columns=column_titles)\n"
   ]
  },
  {
   "cell_type": "code",
   "execution_count": 9,
   "metadata": {},
   "outputs": [
    {
     "data": {
      "text/html": [
       "<div>\n",
       "<style scoped>\n",
       "    .dataframe tbody tr th:only-of-type {\n",
       "        vertical-align: middle;\n",
       "    }\n",
       "\n",
       "    .dataframe tbody tr th {\n",
       "        vertical-align: top;\n",
       "    }\n",
       "\n",
       "    .dataframe thead th {\n",
       "        text-align: right;\n",
       "    }\n",
       "</style>\n",
       "<table border=\"1\" class=\"dataframe\">\n",
       "  <thead>\n",
       "    <tr style=\"text-align: right;\">\n",
       "      <th></th>\n",
       "      <th>Ones</th>\n",
       "      <th>fips</th>\n",
       "      <th>POPESTIMATE2019</th>\n",
       "      <th>NEVER</th>\n",
       "      <th>RARELY</th>\n",
       "      <th>SOMETIMES</th>\n",
       "      <th>FREQUENTLY</th>\n",
       "      <th>ALWAYS</th>\n",
       "      <th>AREA</th>\n",
       "      <th>POP_DEN</th>\n",
       "      <th>...</th>\n",
       "      <th>POP_DENxSOMETIMES</th>\n",
       "      <th>POP_DENxRARELY</th>\n",
       "      <th>POP_DENxNEVER</th>\n",
       "      <th>POPxALWAYS</th>\n",
       "      <th>POPxFREQUENTLY</th>\n",
       "      <th>POPxSOMETIMES</th>\n",
       "      <th>POPxRARELY</th>\n",
       "      <th>POPxNEVER</th>\n",
       "      <th>cases</th>\n",
       "      <th>deaths</th>\n",
       "    </tr>\n",
       "  </thead>\n",
       "  <tbody>\n",
       "    <tr>\n",
       "      <th>count</th>\n",
       "      <td>3128.0</td>\n",
       "      <td>3128.000000</td>\n",
       "      <td>3.128000e+03</td>\n",
       "      <td>3128.000000</td>\n",
       "      <td>3128.000000</td>\n",
       "      <td>3128.000000</td>\n",
       "      <td>3128.000000</td>\n",
       "      <td>3128.000000</td>\n",
       "      <td>3128.000000</td>\n",
       "      <td>3128.000000</td>\n",
       "      <td>...</td>\n",
       "      <td>3128.000000</td>\n",
       "      <td>3128.000000</td>\n",
       "      <td>3128.000000</td>\n",
       "      <td>3.128000e+03</td>\n",
       "      <td>3.128000e+03</td>\n",
       "      <td>3128.000000</td>\n",
       "      <td>3128.000000</td>\n",
       "      <td>3128.000000</td>\n",
       "      <td>3128.000000</td>\n",
       "      <td>3128.000000</td>\n",
       "    </tr>\n",
       "    <tr>\n",
       "      <th>mean</th>\n",
       "      <td>1.0</td>\n",
       "      <td>30399.191176</td>\n",
       "      <td>1.018080e+05</td>\n",
       "      <td>0.080054</td>\n",
       "      <td>0.083164</td>\n",
       "      <td>0.121587</td>\n",
       "      <td>0.207722</td>\n",
       "      <td>0.507468</td>\n",
       "      <td>1201.750959</td>\n",
       "      <td>189.197356</td>\n",
       "      <td>...</td>\n",
       "      <td>15.715272</td>\n",
       "      <td>8.329482</td>\n",
       "      <td>8.152766</td>\n",
       "      <td>6.622361e+04</td>\n",
       "      <td>1.812400e+04</td>\n",
       "      <td>8461.713067</td>\n",
       "      <td>4620.537216</td>\n",
       "      <td>4373.188840</td>\n",
       "      <td>2649.581202</td>\n",
       "      <td>63.391304</td>\n",
       "    </tr>\n",
       "    <tr>\n",
       "      <th>std</th>\n",
       "      <td>0.0</td>\n",
       "      <td>15160.277769</td>\n",
       "      <td>3.266086e+05</td>\n",
       "      <td>0.058583</td>\n",
       "      <td>0.055450</td>\n",
       "      <td>0.057947</td>\n",
       "      <td>0.063086</td>\n",
       "      <td>0.151746</td>\n",
       "      <td>3950.341979</td>\n",
       "      <td>641.317191</td>\n",
       "      <td>...</td>\n",
       "      <td>41.922789</td>\n",
       "      <td>18.970393</td>\n",
       "      <td>22.226932</td>\n",
       "      <td>2.460537e+05</td>\n",
       "      <td>4.918925e+04</td>\n",
       "      <td>20005.210436</td>\n",
       "      <td>8627.136800</td>\n",
       "      <td>8834.387137</td>\n",
       "      <td>10055.894415</td>\n",
       "      <td>263.073556</td>\n",
       "    </tr>\n",
       "    <tr>\n",
       "      <th>min</th>\n",
       "      <td>1.0</td>\n",
       "      <td>1001.000000</td>\n",
       "      <td>2.720000e+02</td>\n",
       "      <td>0.000000</td>\n",
       "      <td>0.000000</td>\n",
       "      <td>0.001000</td>\n",
       "      <td>0.029000</td>\n",
       "      <td>0.115000</td>\n",
       "      <td>1.830000</td>\n",
       "      <td>0.032894</td>\n",
       "      <td>...</td>\n",
       "      <td>0.002195</td>\n",
       "      <td>0.000000</td>\n",
       "      <td>0.000000</td>\n",
       "      <td>1.079840e+02</td>\n",
       "      <td>3.959200e+01</td>\n",
       "      <td>14.954000</td>\n",
       "      <td>0.000000</td>\n",
       "      <td>0.000000</td>\n",
       "      <td>1.000000</td>\n",
       "      <td>0.000000</td>\n",
       "    </tr>\n",
       "    <tr>\n",
       "      <th>25%</th>\n",
       "      <td>1.0</td>\n",
       "      <td>18178.500000</td>\n",
       "      <td>1.093325e+04</td>\n",
       "      <td>0.034000</td>\n",
       "      <td>0.040000</td>\n",
       "      <td>0.079000</td>\n",
       "      <td>0.164000</td>\n",
       "      <td>0.393000</td>\n",
       "      <td>446.662500</td>\n",
       "      <td>16.001897</td>\n",
       "      <td>...</td>\n",
       "      <td>1.717453</td>\n",
       "      <td>0.990430</td>\n",
       "      <td>0.795094</td>\n",
       "      <td>4.763204e+03</td>\n",
       "      <td>2.167079e+03</td>\n",
       "      <td>1239.599500</td>\n",
       "      <td>744.545250</td>\n",
       "      <td>650.115250</td>\n",
       "      <td>209.750000</td>\n",
       "      <td>2.000000</td>\n",
       "    </tr>\n",
       "    <tr>\n",
       "      <th>50%</th>\n",
       "      <td>1.0</td>\n",
       "      <td>29174.000000</td>\n",
       "      <td>2.572600e+04</td>\n",
       "      <td>0.068000</td>\n",
       "      <td>0.073000</td>\n",
       "      <td>0.116000</td>\n",
       "      <td>0.204000</td>\n",
       "      <td>0.497000</td>\n",
       "      <td>651.450000</td>\n",
       "      <td>42.069497</td>\n",
       "      <td>...</td>\n",
       "      <td>4.688885</td>\n",
       "      <td>2.950060</td>\n",
       "      <td>2.757230</td>\n",
       "      <td>1.243253e+04</td>\n",
       "      <td>5.144329e+03</td>\n",
       "      <td>2852.185000</td>\n",
       "      <td>1864.873000</td>\n",
       "      <td>1712.970000</td>\n",
       "      <td>602.500000</td>\n",
       "      <td>10.000000</td>\n",
       "    </tr>\n",
       "    <tr>\n",
       "      <th>75%</th>\n",
       "      <td>1.0</td>\n",
       "      <td>45083.500000</td>\n",
       "      <td>6.764400e+04</td>\n",
       "      <td>0.113000</td>\n",
       "      <td>0.115000</td>\n",
       "      <td>0.157000</td>\n",
       "      <td>0.247000</td>\n",
       "      <td>0.612250</td>\n",
       "      <td>984.825000</td>\n",
       "      <td>110.631768</td>\n",
       "      <td>...</td>\n",
       "      <td>12.933940</td>\n",
       "      <td>7.757497</td>\n",
       "      <td>7.437118</td>\n",
       "      <td>3.664095e+04</td>\n",
       "      <td>1.393814e+04</td>\n",
       "      <td>7859.272000</td>\n",
       "      <td>4791.787500</td>\n",
       "      <td>4512.892000</td>\n",
       "      <td>1692.250000</td>\n",
       "      <td>34.000000</td>\n",
       "    </tr>\n",
       "    <tr>\n",
       "      <th>max</th>\n",
       "      <td>1.0</td>\n",
       "      <td>56045.000000</td>\n",
       "      <td>1.003911e+07</td>\n",
       "      <td>0.432000</td>\n",
       "      <td>0.384000</td>\n",
       "      <td>0.422000</td>\n",
       "      <td>0.549000</td>\n",
       "      <td>0.889000</td>\n",
       "      <td>158995.950000</td>\n",
       "      <td>11102.214746</td>\n",
       "      <td>...</td>\n",
       "      <td>831.578975</td>\n",
       "      <td>436.592771</td>\n",
       "      <td>678.108197</td>\n",
       "      <td>7.890738e+06</td>\n",
       "      <td>1.315123e+06</td>\n",
       "      <td>491916.243000</td>\n",
       "      <td>130508.391000</td>\n",
       "      <td>210821.247000</td>\n",
       "      <td>299760.000000</td>\n",
       "      <td>6993.000000</td>\n",
       "    </tr>\n",
       "  </tbody>\n",
       "</table>\n",
       "<p>8 rows × 22 columns</p>\n",
       "</div>"
      ],
      "text/plain": [
       "         Ones          fips  POPESTIMATE2019        NEVER       RARELY  \\\n",
       "count  3128.0   3128.000000     3.128000e+03  3128.000000  3128.000000   \n",
       "mean      1.0  30399.191176     1.018080e+05     0.080054     0.083164   \n",
       "std       0.0  15160.277769     3.266086e+05     0.058583     0.055450   \n",
       "min       1.0   1001.000000     2.720000e+02     0.000000     0.000000   \n",
       "25%       1.0  18178.500000     1.093325e+04     0.034000     0.040000   \n",
       "50%       1.0  29174.000000     2.572600e+04     0.068000     0.073000   \n",
       "75%       1.0  45083.500000     6.764400e+04     0.113000     0.115000   \n",
       "max       1.0  56045.000000     1.003911e+07     0.432000     0.384000   \n",
       "\n",
       "         SOMETIMES   FREQUENTLY       ALWAYS           AREA       POP_DEN  \\\n",
       "count  3128.000000  3128.000000  3128.000000    3128.000000   3128.000000   \n",
       "mean      0.121587     0.207722     0.507468    1201.750959    189.197356   \n",
       "std       0.057947     0.063086     0.151746    3950.341979    641.317191   \n",
       "min       0.001000     0.029000     0.115000       1.830000      0.032894   \n",
       "25%       0.079000     0.164000     0.393000     446.662500     16.001897   \n",
       "50%       0.116000     0.204000     0.497000     651.450000     42.069497   \n",
       "75%       0.157000     0.247000     0.612250     984.825000    110.631768   \n",
       "max       0.422000     0.549000     0.889000  158995.950000  11102.214746   \n",
       "\n",
       "       ...  POP_DENxSOMETIMES  POP_DENxRARELY  POP_DENxNEVER    POPxALWAYS  \\\n",
       "count  ...        3128.000000     3128.000000    3128.000000  3.128000e+03   \n",
       "mean   ...          15.715272        8.329482       8.152766  6.622361e+04   \n",
       "std    ...          41.922789       18.970393      22.226932  2.460537e+05   \n",
       "min    ...           0.002195        0.000000       0.000000  1.079840e+02   \n",
       "25%    ...           1.717453        0.990430       0.795094  4.763204e+03   \n",
       "50%    ...           4.688885        2.950060       2.757230  1.243253e+04   \n",
       "75%    ...          12.933940        7.757497       7.437118  3.664095e+04   \n",
       "max    ...         831.578975      436.592771     678.108197  7.890738e+06   \n",
       "\n",
       "       POPxFREQUENTLY  POPxSOMETIMES     POPxRARELY      POPxNEVER  \\\n",
       "count    3.128000e+03    3128.000000    3128.000000    3128.000000   \n",
       "mean     1.812400e+04    8461.713067    4620.537216    4373.188840   \n",
       "std      4.918925e+04   20005.210436    8627.136800    8834.387137   \n",
       "min      3.959200e+01      14.954000       0.000000       0.000000   \n",
       "25%      2.167079e+03    1239.599500     744.545250     650.115250   \n",
       "50%      5.144329e+03    2852.185000    1864.873000    1712.970000   \n",
       "75%      1.393814e+04    7859.272000    4791.787500    4512.892000   \n",
       "max      1.315123e+06  491916.243000  130508.391000  210821.247000   \n",
       "\n",
       "               cases       deaths  \n",
       "count    3128.000000  3128.000000  \n",
       "mean     2649.581202    63.391304  \n",
       "std     10055.894415   263.073556  \n",
       "min         1.000000     0.000000  \n",
       "25%       209.750000     2.000000  \n",
       "50%       602.500000    10.000000  \n",
       "75%      1692.250000    34.000000  \n",
       "max    299760.000000  6993.000000  \n",
       "\n",
       "[8 rows x 22 columns]"
      ]
     },
     "execution_count": 9,
     "metadata": {},
     "output_type": "execute_result"
    }
   ],
   "source": [
    "df.describe()"
   ]
  },
  {
   "cell_type": "code",
   "execution_count": 10,
   "metadata": {},
   "outputs": [
    {
     "data": {
      "text/plain": [
       "count     3080.000000\n",
       "mean      1783.756818\n",
       "std       3423.313676\n",
       "min          1.000000\n",
       "25%        207.000000\n",
       "50%        585.000000\n",
       "75%       1587.750000\n",
       "max      24770.000000\n",
       "Name: cases, dtype: float64"
      ]
     },
     "execution_count": 10,
     "metadata": {},
     "output_type": "execute_result"
    }
   ],
   "source": [
    "index = df[(df['cases'] >= 25000)|(df['cases'] <= 0)].index\n",
    "df.drop(index, inplace=True)\n",
    "normal_df.drop(index, inplace=True)\n",
    "df['cases'].describe()"
   ]
  },
  {
   "cell_type": "code",
   "execution_count": 11,
   "metadata": {},
   "outputs": [],
   "source": [
    "def split(X, Y, size):\n",
    "    return train_test_split(X, Y, test_size=size)"
   ]
  },
  {
   "cell_type": "code",
   "execution_count": 12,
   "metadata": {},
   "outputs": [],
   "source": [
    "# Split Data\n",
    "normal_svm_df = normal_df.drop(['cases','fips'], axis=1)\n",
    "cols = df.shape[1]\n",
    "\n",
    "X = np.array(normal_svm_df) # iloc slicing function \n",
    "y = np.array(df['cases'])"
   ]
  },
  {
   "cell_type": "code",
   "execution_count": 13,
   "metadata": {},
   "outputs": [
    {
     "name": "stdout",
     "output_type": "stream",
     "text": [
      "(3080, 19)\n",
      "(3080,)\n"
     ]
    }
   ],
   "source": [
    "#X = X.reshape(X.shape[0], X.shape[1], 1)\n",
    "print(X.shape)\n",
    "print(y.shape)"
   ]
  },
  {
   "cell_type": "code",
   "execution_count": 14,
   "metadata": {},
   "outputs": [],
   "source": [
    "xtrain, xtest, ytrain, ytest=train_test_split(X, y, test_size=0.2) "
   ]
  },
  {
   "cell_type": "code",
   "execution_count": 15,
   "metadata": {},
   "outputs": [],
   "source": [
    "# Scale both training and testing input data\n",
    "\n",
    "xtrain = preprocessing.scale(xtrain, with_mean=False)\n",
    "xtest = preprocessing.scale(xtest, with_mean=False)"
   ]
  },
  {
   "cell_type": "code",
   "execution_count": 16,
   "metadata": {},
   "outputs": [
    {
     "data": {
      "image/png": "[encoded data removed]",
      "text/plain": [
       "<Figure size 432x288 with 1 Axes>"
      ]
     },
     "metadata": {
      "needs_background": "light"
     },
     "output_type": "display_data"
    },
    {
     "data": {
      "image/png": "[encoded data removed]",
      "text/plain": [
       "<Figure size 432x288 with 1 Axes>"
      ]
     },
     "metadata": {
      "needs_background": "light"
     },
     "output_type": "display_data"
    },
    {
     "data": {
      "image/png": "[encoded data removed]",
      "text/plain": [
       "<Figure size 432x288 with 1 Axes>"
      ]
     },
     "metadata": {
      "needs_background": "light"
     },
     "output_type": "display_data"
    }
   ],
   "source": [
    "# Plots the results of a learning rate of 100, 1000, and 10000 respectively, with all other parameters constant\n",
    "\n",
    "LR = [1,10,100,1000,10000]\n",
    "\n",
    "for i in LR:\n",
    "    #Defines linear regression model and its structure\n",
    "    model = Sequential()\n",
    "    model.add(Dense(1, input_shape=(19,)))\n",
    "    \n",
    "    #Compiles model\n",
    "    model.compile(Adam(lr=i), 'mean_squared_error')\n",
    "    \n",
    "    #Fits model\n",
    "    history = model.fit(xtrain, ytrain, epochs = 500, validation_split = 0.1,verbose = 0)\n",
    "    history_dict=history.history\n",
    "    \n",
    "    #Plots model's training cost/loss and model's validation split cost/loss\n",
    "    loss_values = history_dict['loss']\n",
    "    val_loss_values=history_dict['val_loss']\n",
    "    plt.figure()\n",
    "    plt.plot(loss_values,'bo',label='training loss')\n",
    "    plt.plot(val_loss_values,'r',label='val training loss')"
   ]
  },
  {
   "cell_type": "code",
   "execution_count": 17,
   "metadata": {},
   "outputs": [
    {
     "data": {
      "image/png": "[encoded data removed]",
      "text/plain": [
       "<Figure size 432x288 with 1 Axes>"
      ]
     },
     "metadata": {
      "needs_background": "light"
     },
     "output_type": "display_data"
    }
   ],
   "source": [
    "# Runs and plots the performance of a model with the same parameters from before (and a learning rate of 10000), \n",
    "# but now with an activation function (Relu)\n",
    "\n",
    "#Defines linear regression model and its structure\n",
    "model = Sequential()\n",
    "model.add(Dense(1, input_shape=(19,)))\n",
    "\n",
    "#Compiles model\n",
    "model.compile(Adam(lr=10000), 'mean_squared_error')\n",
    "\n",
    "#Fits model\n",
    "history = model.fit(xtrain, ytrain, epochs = 500, validation_split = 0.1,verbose = 0)\n",
    "history_dict=history.history\n",
    "\n",
    "#Plots model's training cost/loss and model's validation split cost/loss\n",
    "loss_values = history_dict['loss']\n",
    "val_loss_values=history_dict['val_loss']\n",
    "plt.figure()\n",
    "plt.plot(loss_values,'bo',label='training loss')\n",
    "plt.plot(val_loss_values,'r',label='val training loss')\n",
    "plt.show()"
   ]
  },
  {
   "cell_type": "code",
   "execution_count": 18,
   "metadata": {},
   "outputs": [
    {
     "name": "stdout",
     "output_type": "stream",
     "text": [
      "The R2 score on the Train set is:\t-79.037\n",
      "The R2 score on the Test set is:\t-94.122\n"
     ]
    }
   ],
   "source": [
    "# Runs model (the one with the activation function, although this doesn't really matter as they perform the same) \n",
    "# with its current weights on the training and testing data\n",
    "ytrain_pred = model.predict(xtrain)\n",
    "ytest_pred = model.predict(xtest)\n",
    "\n",
    "# Calculates and prints r2 score of training and testing data\n",
    "print(\"The R2 score on the Train set is:\\t{:0.3f}\".format(r2_score(ytrain, ytrain_pred)))\n",
    "print(\"The R2 score on the Test set is:\\t{:0.3f}\".format(r2_score(ytest, ytest_pred)))"
   ]
  },
  {
   "cell_type": "code",
   "execution_count": null,
   "metadata": {},
   "outputs": [],
   "source": [
    "# Defines \"deep\" model and its structure\n",
    "model = Sequential()\n",
    "model.add(Dense(13, input_shape=(19,), activation='relu'))\n",
    "model.add(Dense(13, activation='relu'))\n",
    "model.add(Dense(13, activation='relu'))\n",
    "model.add(Dense(13, activation='relu'))\n",
    "model.add(Dense(13, activation='relu'))\n",
    "model.add(Dense(1,))\n",
    "model.compile(Adam(lr=0.003), 'mean_squared_error')\n",
    "\n",
    "# Runs model for 2000 iterations and assigns this to 'history'\n",
    "history = model.fit(xtrain, ytrain, epochs = 2000, validation_split = 0.2, verbose = 0)\n",
    "\n",
    "# Plots 'history'\n",
    "history_dict=history.history\n",
    "loss_values = history_dict['loss']\n",
    "val_loss_values=history_dict['val_loss']\n",
    "plt.plot(loss_values,'bo',label='training loss')\n",
    "plt.plot(val_loss_values,'r',label='training loss val')"
   ]
  },
  {
   "cell_type": "code",
   "execution_count": null,
   "metadata": {},
   "outputs": [],
   "source": [
    "# Defines \"deep\" model and its structure\n",
    "\n",
    "model = Sequential()\n",
    "model.add(Dense(13, input_shape=(19,), activation='relu'))\n",
    "model.add(Dense(13, activation='relu'))\n",
    "model.add(Dense(13, activation='relu'))\n",
    "model.add(Dense(13, activation='relu'))\n",
    "model.add(Dense(13, activation='relu'))\n",
    "model.add(Dense(1,))\n",
    "model.compile(Adam(lr=0.0005), 'mean_squared_error', metrics=['mae'])\n",
    "\n",
    "# Pass several parameters to 'EarlyStopping' function and assigns it to 'earlystopper'\n",
    "earlystopper = EarlyStopping(monitor='loss', min_delta=0, patience=15, verbose=1, mode='auto')\n",
    "\n",
    "# Fits model over 2000 iterations with 'earlystopper' callback, and assigns it to history\n",
    "history = model.fit(xtrain, ytrain, epochs = 3000, validation_split = 0.2, shuffle = True, verbose = 0, \n",
    "                    callbacks = [earlystopper])\n",
    "print(model.evaluate(xtrain, ytrain))\n",
    "\n",
    "# Plots 'history'\n",
    "history_dict=history.history\n",
    "loss_values = history_dict['loss']\n",
    "val_loss_values=history_dict['val_loss']\n",
    "plt.plot(loss_values,'bo',label='training loss')\n",
    "plt.plot(val_loss_values,'r',label='training loss val')\n",
    "\n",
    "# Runs model with its current weights on the training and testing data\n",
    "ytrain_pred = model.predict(xtrain)\n",
    "ytest_pred = model.predict(xtest)\n",
    "\n",
    "# Calculates and prints r2 score of training and testing data\n",
    "print(\"The R2 score on the Train set is:\\t{:0.3f}\".format(r2_score(ytrain, ytrain_pred)))\n",
    "print(\"The R2 score on the Test set is:\\t{:0.3f}\".format(r2_score(ytest, ytest_pred)))"
   ]
  },
  {
   "cell_type": "code",
   "execution_count": null,
   "metadata": {},
   "outputs": [],
   "source": [
    "plt.plot(ytrain, ytrain_pred,'*r')\n",
    "plt.plot(ytest, ytest_pred, '+g')\n",
    "plt.figure()\n",
    "#for i in range(0,140):\n",
    "#    plt.plot(i/100,i/100,'*b')"
   ]
  },
  {
   "cell_type": "code",
   "execution_count": null,
   "metadata": {},
   "outputs": [],
   "source": []
  }
 ],
 "metadata": {
  "kernelspec": {
   "display_name": "Python 3",
   "language": "python",
   "name": "python3"
  },
  "language_info": {
   "codemirror_mode": {
    "name": "ipython",
    "version": 3
   },
   "file_extension": ".py",
   "mimetype": "text/x-python",
   "name": "python",
   "nbconvert_exporter": "python",
   "pygments_lexer": "ipython3",
   "version": "3.8.5"
  }
 },
 "nbformat": 4,
 "nbformat_minor": 4
}
