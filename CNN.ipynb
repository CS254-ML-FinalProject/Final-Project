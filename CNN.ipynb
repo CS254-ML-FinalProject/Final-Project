{
 "cells": [
  {
   "cell_type": "code",
   "execution_count": 1,
   "metadata": {},
   "outputs": [],
   "source": [
    "import numpy as np\n",
    "import pandas as pd\n",
    "import IPython\n",
    "\n",
    "#Keras\n",
    "from tensorflow import keras\n",
    "from tensorflow.keras.models import Sequential\n",
    "from tensorflow.keras.layers import Dense\n",
    "from tensorflow.keras.layers import BatchNormalization, LayerNormalization\n",
    "from tensorflow.keras.optimizers import Adam\n",
    "from tensorflow.keras.callbacks import EarlyStopping\n",
    "from tensorflow.keras.utils import plot_model\n",
    "\n",
    "# sklearn utilities\n",
    "import sklearn\n",
    "from sklearn import preprocessing\n",
    "from sklearn.model_selection import train_test_split\n",
    "from sklearn.metrics import r2_score\n",
    "from sklearn.preprocessing import robust_scale\n",
    "\n",
    "import matplotlib.pyplot as plt\n",
    "%matplotlib inline"
   ]
  },
  {
   "cell_type": "code",
   "execution_count": 2,
   "metadata": {},
   "outputs": [],
   "source": [
    "county_area = pd.read_csv('county_area.csv')\n",
    "county_area = county_area.drop([\"Areaname\"], axis=1)\n",
    "county_area = county_area.rename(columns={\"STCOU\": \"fips\"})"
   ]
  },
  {
   "cell_type": "code",
   "execution_count": 3,
   "metadata": {},
   "outputs": [],
   "source": [
    "county_mask_use = pd.read_csv('mask_use.csv')\n",
    "county_mask_use = county_mask_use.rename(columns={\"COUNTYFP\": \"fips\"})"
   ]
  },
  {
   "cell_type": "code",
   "execution_count": 4,
   "metadata": {},
   "outputs": [],
   "source": [
    "county_cases = pd.read_csv('county_cases.csv')\n",
    "county_cases = county_cases.drop([\"county\",\"state\"], axis=1)"
   ]
  },
  {
   "cell_type": "code",
   "execution_count": 5,
   "metadata": {},
   "outputs": [],
   "source": [
    "county_pop = pd.read_csv('county_pop.csv', encoding='latin-1')\n",
    "county_pop = county_pop.rename(columns={\"COUNTY\": \"fips\"})"
   ]
  },
  {
   "cell_type": "code",
   "execution_count": 6,
   "metadata": {
    "scrolled": true
   },
   "outputs": [
    {
     "data": {
      "text/html": [
       "<div>\n",
       "<style scoped>\n",
       "    .dataframe tbody tr th:only-of-type {\n",
       "        vertical-align: middle;\n",
       "    }\n",
       "\n",
       "    .dataframe tbody tr th {\n",
       "        vertical-align: top;\n",
       "    }\n",
       "\n",
       "    .dataframe thead th {\n",
       "        text-align: right;\n",
       "    }\n",
       "</style>\n",
       "<table border=\"1\" class=\"dataframe\">\n",
       "  <thead>\n",
       "    <tr style=\"text-align: right;\">\n",
       "      <th></th>\n",
       "      <th>fips</th>\n",
       "      <th>&lt; HS</th>\n",
       "      <th>HS</th>\n",
       "      <th>Some College</th>\n",
       "      <th>Bachelors</th>\n",
       "      <th>% &lt; HS</th>\n",
       "      <th>% HS</th>\n",
       "      <th>% Some College</th>\n",
       "      <th>% Bachelors</th>\n",
       "    </tr>\n",
       "  </thead>\n",
       "  <tbody>\n",
       "    <tr>\n",
       "      <th>0</th>\n",
       "      <td>0</td>\n",
       "      <td>28587748.0</td>\n",
       "      <td>58440600.0</td>\n",
       "      <td>60821634.0</td>\n",
       "      <td>61206147.0</td>\n",
       "      <td>13.7</td>\n",
       "      <td>28.0</td>\n",
       "      <td>29.1</td>\n",
       "      <td>29.3</td>\n",
       "    </tr>\n",
       "    <tr>\n",
       "      <th>1</th>\n",
       "      <td>1000</td>\n",
       "      <td>524368.0</td>\n",
       "      <td>999761.0</td>\n",
       "      <td>951960.0</td>\n",
       "      <td>741813.0</td>\n",
       "      <td>16.3</td>\n",
       "      <td>31.1</td>\n",
       "      <td>29.6</td>\n",
       "      <td>23.1</td>\n",
       "    </tr>\n",
       "    <tr>\n",
       "      <th>2</th>\n",
       "      <td>1001</td>\n",
       "      <td>5012.0</td>\n",
       "      <td>12139.0</td>\n",
       "      <td>11132.0</td>\n",
       "      <td>7950.0</td>\n",
       "      <td>13.8</td>\n",
       "      <td>33.5</td>\n",
       "      <td>30.7</td>\n",
       "      <td>21.9</td>\n",
       "    </tr>\n",
       "  </tbody>\n",
       "</table>\n",
       "</div>"
      ],
      "text/plain": [
       "   fips        < HS          HS  Some College   Bachelors  % < HS  % HS  \\\n",
       "0     0  28587748.0  58440600.0    60821634.0  61206147.0    13.7  28.0   \n",
       "1  1000    524368.0    999761.0      951960.0    741813.0    16.3  31.1   \n",
       "2  1001      5012.0     12139.0       11132.0      7950.0    13.8  33.5   \n",
       "\n",
       "   % Some College  % Bachelors  \n",
       "0            29.1         29.3  \n",
       "1            29.6         23.1  \n",
       "2            30.7         21.9  "
      ]
     },
     "execution_count": 6,
     "metadata": {},
     "output_type": "execute_result"
    }
   ],
   "source": [
    "education = pd.read_csv('Education.csv')\n",
    "education = education.rename(columns={\"FIPS Code\": \"fips\", \n",
    "                            \"Less than a high school diploma, 2010-2014\": \"< HS\",\n",
    "                            \"High school diploma only, 2010-2014\":\"HS\", \n",
    "                            \"Some college or associate's degree, 2010-2014\": \"Some College\",\n",
    "                            \"Bachelor's degree or higher, 2010-2014\": \"Bachelors\",\n",
    "                            \"Percent of adults with less than a high school diploma, 2010-2014\" : \"% < HS\",\n",
    "                            \"Percent of adults with a high school diploma only, 2010-2014\" : \"% HS\",\n",
    "                            \"Percent of adults completing some college or associate's degree, 2010-2014\" : \"% Some College\",\n",
    "                            \"Percent of adults with a bachelor's degree or higher, 2010-2014\" : \"% Bachelors\"})\n",
    "\n",
    "education = education.drop([\"State\", \"Area name\"], axis=1)\n",
    "education.head(3)"
   ]
  },
  {
   "cell_type": "code",
   "execution_count": 7,
   "metadata": {},
   "outputs": [],
   "source": [
    "def new_normal(table):\n",
    "    normal = robust_scale(table)\n",
    "    return normal"
   ]
  },
  {
   "cell_type": "code",
   "execution_count": 92,
   "metadata": {},
   "outputs": [],
   "source": [
    "df = county_pop.merge(county_mask_use, how='left', on=\"fips\")\n",
    "df = df.merge(county_area, how=\"left\", on=\"fips\")\n",
    "df = df.merge(county_cases, how=\"left\", on=\"fips\")\n",
    "\n",
    "df['POP_DEN'] = df['POPESTIMATE2019'] / df['AREA']\n",
    "df['POP_DENxALWAYS'] = df['POP_DEN'] * df['ALWAYS']\n",
    "# df['POP_DENxFREQUENTLY'] =df['POP_DEN'] * df['FREQUENTLY']\n",
    "# df['POP_DENxSOMETIMES'] = df['POP_DEN'] * df['SOMETIMES']\n",
    "# df['POP_DENxRARELY'] = df['POP_DEN'] * df['RARELY']\n",
    "# df['POP_DENxNEVER'] = df['POP_DEN'] * df['NEVER']\n",
    "# df['POPxALWAYS'] = df['POPESTIMATE2019'] * df['ALWAYS']\n",
    "# df['POPxFREQUENTLY'] =df['POPESTIMATE2019'] * df['FREQUENTLY']\n",
    "# df['POPxSOMETIMES'] = df['POPESTIMATE2019'] * df['SOMETIMES']\n",
    "# df['POPxRARELY'] = df['POPESTIMATE2019'] * df['RARELY']\n",
    "# df['POPxNEVER'] = df['POPESTIMATE2019'] * df['NEVER']\n",
    "\n",
    "df = df.merge(education, how=\"left\", on=\"fips\")\n",
    "df['% < HS']  = df['% < HS'] / 100\n",
    "df['% HS'] = df['% HS'] / 100\n",
    "df['% Some College'] = df['% Some College'] / 100\n",
    "df['% Bachelors'] = df['% Bachelors'] / 100\n",
    "\n",
    "df.insert(0, 'Ones', 1)"
   ]
  },
  {
   "cell_type": "code",
   "execution_count": 93,
   "metadata": {},
   "outputs": [],
   "source": [
    "column_titles =  ['POPESTIMATE2019', 'NEVER',\n",
    "                  'RARELY', 'SOMETIMES', 'FREQUENTLY', 'ALWAYS', 'AREA', \n",
    "                  'POP_DEN', 'POP_DENxALWAYS', '< HS', 'HS', 'Some College',\n",
    "                  'Bachelors', '% < HS', '% HS', '% Some College', '% Bachelors']\n",
    "\n",
    "new_df = df.reindex(columns=column_titles)\n",
    "normal_all = new_normal(new_df)\n",
    "normal_df = pd.DataFrame(normal_all)\n",
    "normal_df.columns = column_titles\n",
    "normal_df['fips'] = df['fips']\n",
    "normal_df = normal_df.merge(county_cases, how=\"left\", on=\"fips\")\n",
    "column_titles = ['fips','cases','deaths','POPESTIMATE2019', 'NEVER',\n",
    "                 'RARELY', 'SOMETIMES', 'FREQUENTLY', 'ALWAYS',\n",
    "                 '% < HS', '% HS', '% Some College', '% Bachelors']\n",
    "                 #'< HS', 'HS', 'Some College','Bachelors']\n",
    "    \n",
    "                 \n",
    "\n",
    "# ['fips','cases','deaths','POPESTIMATE2019', 'NEVER',\n",
    "#  'RARELY', 'SOMETIMES', 'FREQUENTLY', 'ALWAYS', 'AREA', 'cases',\n",
    "#  'deaths', 'POP_DEN', 'POP_DENxALWAYS', '< HS', 'HS', 'Some College',\n",
    "#  'Bachelors', '% < HS', '% HS', '% Some College', '% Bachelors']\n",
    "\n",
    "normal_df = normal_df.reindex(columns=column_titles)"
   ]
  },
  {
   "cell_type": "code",
   "execution_count": 94,
   "metadata": {},
   "outputs": [
    {
     "data": {
      "text/plain": [
       "count      3128.000000\n",
       "mean       2649.581202\n",
       "std       10055.894415\n",
       "min           1.000000\n",
       "25%         209.750000\n",
       "50%         602.500000\n",
       "75%        1692.250000\n",
       "max      299760.000000\n",
       "Name: cases, dtype: float64"
      ]
     },
     "execution_count": 94,
     "metadata": {},
     "output_type": "execute_result"
    }
   ],
   "source": [
    "# df['cases'] = np.log(df['cases'])\n",
    "df['cases'].describe()\n",
    "\n",
    "# index = df[(df['cases'] >= 20000)|(df['cases'] <= 0)].index\n",
    "# df.drop(index, inplace=True)\n",
    "# normal_df.drop(index, inplace=True)\n",
    "# df['cases'].describe()\n",
    "\n"
   ]
  },
  {
   "cell_type": "code",
   "execution_count": 95,
   "metadata": {},
   "outputs": [],
   "source": [
    "# Split Data\n",
    "normal_svm_df = normal_df.drop(['cases','fips'], axis=1)\n",
    "cols = df.shape[1]\n",
    "\n",
    "X = normal_svm_df # iloc slicing function \n",
    "y = df['cases']"
   ]
  },
  {
   "cell_type": "code",
   "execution_count": 96,
   "metadata": {},
   "outputs": [
    {
     "name": "stdout",
     "output_type": "stream",
     "text": [
      "(3128, 11)\n",
      "(3128,)\n"
     ]
    }
   ],
   "source": [
    "#X = X.reshape(X.shape[0], X.shape[1], 1)\n",
    "print(X.shape)\n",
    "print(y.shape)"
   ]
  },
  {
   "cell_type": "code",
   "execution_count": 97,
   "metadata": {},
   "outputs": [],
   "source": [
    "xtrain, xtest, ytrain, ytest=train_test_split(X, y, test_size=0.2,  random_state=0) \n",
    "\n",
    "ytrain = np.log(ytrain)\n",
    "ytest = np.log(ytest)"
   ]
  },
  {
   "cell_type": "code",
   "execution_count": 14,
   "metadata": {},
   "outputs": [
    {
     "data": {
      "image/png": "[encoded data removed]",
      "text/plain": [
       "<Figure size 432x288 with 1 Axes>"
      ]
     },
     "metadata": {
      "needs_background": "light"
     },
     "output_type": "display_data"
    }
   ],
   "source": [
    "# Runs and plots the performance of a model with the same parameters from before (and a learning rate of 10000), \n",
    "# but now with an activation function (Relu)\n",
    "\n",
    "#Defines linear regression model and its structure\n",
    "model = Sequential()\n",
    "model.add(Dense(1, input_shape=(11,), activation='relu'))\n",
    "\n",
    "#Compiles model\n",
    "model.compile(Adam(lr=.01), 'mean_squared_error')\n",
    "\n",
    "#Fits model\n",
    "history = model.fit(xtrain, ytrain, epochs = 500, validation_split = 0.1,verbose = 0)\n",
    "history_dict=history.history\n",
    "\n",
    "#Plots model's training cost/loss and model's validation split cost/loss\n",
    "loss_values = history_dict['loss']\n",
    "val_loss_values=history_dict['val_loss']\n",
    "plt.figure()\n",
    "plt.plot(loss_values,'bo',label='training loss')\n",
    "plt.plot(val_loss_values,'r',label='val training loss')\n",
    "plt.show()"
   ]
  },
  {
   "cell_type": "code",
   "execution_count": 15,
   "metadata": {},
   "outputs": [
    {
     "name": "stdout",
     "output_type": "stream",
     "text": [
      "The R2 score on the Train set is:\t-4.555\n",
      "The R2 score on the Test set is:\t-4.743\n"
     ]
    }
   ],
   "source": [
    "# Runs model (the one with the activation function, although this doesn't really matter as they perform the same) \n",
    "# with its current weights on the training and testing data\n",
    "ytrain_pred = model.predict(xtrain)\n",
    "ytest_pred = model.predict(xtest)\n",
    "\n",
    "# Calculates and prints r2 score of training and testing data\n",
    "print(\"The R2 score on the Train set is:\\t{:0.3f}\".format(r2_score(ytrain, ytrain_pred)))\n",
    "print(\"The R2 score on the Test set is:\\t{:0.3f}\".format(r2_score(ytest, ytest_pred)))"
   ]
  },
  {
   "cell_type": "code",
   "execution_count": 16,
   "metadata": {},
   "outputs": [
    {
     "data": {
      "text/plain": [
       "[<matplotlib.lines.Line2D at 0x7f95bd092cd0>]"
      ]
     },
     "execution_count": 16,
     "metadata": {},
     "output_type": "execute_result"
    },
    {
     "data": {
      "image/png": "[encoded data removed]",
      "text/plain": [
       "<Figure size 432x288 with 1 Axes>"
      ]
     },
     "metadata": {
      "needs_background": "light"
     },
     "output_type": "display_data"
    }
   ],
   "source": [
    "# Defines \"deep\" model and its structure w/out early stopping\n",
    "model = Sequential()\n",
    "model.add(Dense(13, input_shape=(11,), activation='relu'))\n",
    "model.add(Dense(13, activation='relu'))\n",
    "model.add(Dense(13, activation='relu'))\n",
    "model.add(Dense(13, activation='relu'))\n",
    "model.add(Dense(13, activation='relu'))\n",
    "model.add(Dense(1,))\n",
    "model.compile(Adam(lr=0.003), 'mean_squared_error')\n",
    "\n",
    "# Runs model for 2000 iterations and assigns this to 'history'\n",
    "history = model.fit(xtrain, ytrain, epochs = 2000, validation_split = 0.2, verbose = 0)\n",
    "\n",
    "# Plots 'history'\n",
    "# history_dict=history.history\n",
    "# loss_values = history_dict['loss']\n",
    "# val_loss_values=history_dict['val_loss']\n",
    "# plt.plot(loss_values,'bo',label='training loss')\n",
    "# plt.plot(val_loss_values,'r',label='training loss val')"
   ]
  },
  {
   "cell_type": "code",
   "execution_count": 104,
   "metadata": {
    "scrolled": false
   },
   "outputs": [
    {
     "name": "stdout",
     "output_type": "stream",
     "text": [
      "Epoch 00814: early stopping\n",
      "79/79 [==============================] - 0s 985us/step - loss: 0.1864 - mae: 0.3131\n",
      "[0.1863914132118225, 0.31311172246932983]\n"
     ]
    }
   ],
   "source": [
    "# Defines \"deep\" model and its structure w/ early stopping\n",
    "\n",
    "model = Sequential()\n",
    "model.add(Dense(32, input_shape=(11,), activation='relu', name='Input'))\n",
    "model.add(Dense(13, activation='relu', name='H1'))\n",
    "model.add(Dense(13, activation='relu', name='H2'))\n",
    "model.add(Dense(13, activation='relu', name='H3'))\n",
    "model.add(Dense(13, activation='relu', name='H4'))\n",
    "model.add(Dense(13, activation='relu', name='H5'))\n",
    "model.add(Dense(6, activation='relu', name='H6'))\n",
    "model.add(Dense(1, name='Output'))\n",
    "model.compile(Adam(lr=0.0005), 'mean_squared_error', metrics=['mae'])\n",
    "#print(model.summary())\n",
    "plot_model(model, to_file='model.png')\n",
    "\n",
    "# Pass several parameters to 'EarlyStopping' function and assigns it to 'earlystopper'\n",
    "earlystopper = EarlyStopping(monitor='loss', min_delta=0, patience=30, verbose=1, mode='auto')\n",
    "\n",
    "# Fits model over 2000 iterations with 'earlystopper' callback, and assigns it to history\n",
    "history = model.fit(xtrain, ytrain, epochs = 1000, validation_split = 0.2, shuffle = False, verbose = 0, \n",
    "                    callbacks = [earlystopper])\n",
    "evals = model.evaluate(xtrain, ytrain)\n",
    "\n",
    "# Plots 'history'\n",
    "# history_dict=history.history\n",
    "# loss_values = history_dict['loss']\n",
    "# val_loss_values=history_dict['val_loss']\n",
    "# plt.plot(loss_values,'bo',label='training loss')\n",
    "# plt.plot(val_loss_values,'r',label='training loss val')\n",
    "\n",
    "# Runs model with its current weights on the training and testing data\n",
    "\n",
    "print(evals)"
   ]
  },
  {
   "cell_type": "code",
   "execution_count": 105,
   "metadata": {},
   "outputs": [
    {
     "name": "stdout",
     "output_type": "stream",
     "text": [
      "dict_keys(['loss', 'mae', 'val_loss', 'val_mae'])\n"
     ]
    },
    {
     "data": {
      "image/png": "[encoded data removed]",
      "text/plain": [
       "<Figure size 1008x576 with 1 Axes>"
      ]
     },
     "metadata": {
      "needs_background": "light"
     },
     "output_type": "display_data"
    },
    {
     "name": "stdout",
     "output_type": "stream",
     "text": [
      "The MSE on the Test set is:\t\t0.186\n",
      "The R2 score on the Test set is:\t0.853\n"
     ]
    }
   ],
   "source": [
    "print(history.history.keys())\n",
    "# \"Loss\"\n",
    "fig, ax = plt.subplots(figsize=[14,8])\n",
    "plt.plot(history.history['loss'])\n",
    "plt.plot(history.history['val_loss'])\n",
    "plt.title('model loss')\n",
    "plt.ylabel('loss')\n",
    "plt.xlabel('epoch')\n",
    "plt.legend(['train', 'validation'], loc='upper left')\n",
    "plt.show()\n",
    "\n",
    "ytrain_pred = model.predict(xtrain)\n",
    "ytest_pred = model.predict(xtest)\n",
    "\n",
    "# Calculates and prints r2 score of training and testing data\n",
    "# print(\"The R2 score on the Train set is:\\t{:0.3f}\".format(r2_score(ytrain, ytrain_pred)))\n",
    "print(\"The MSE on the Test set is:\\t\\t{:0.3f}\".format(evals[0]))\n",
    "print(\"The R2 score on the Test set is:\\t{:0.3f}\".format(r2_score(ytest, ytest_pred)))"
   ]
  },
  {
   "cell_type": "code",
   "execution_count": 106,
   "metadata": {},
   "outputs": [
    {
     "name": "stderr",
     "output_type": "stream",
     "text": [
      "/Users/matthewzahar/opt/anaconda3/lib/python3.8/site-packages/numpy/core/_asarray.py:136: VisibleDeprecationWarning: Creating an ndarray from ragged nested sequences (which is a list-or-tuple of lists-or-tuples-or ndarrays with different lengths or shapes) is deprecated. If you meant to do this, you must specify 'dtype=object' when creating the ndarray\n",
      "  return array(a, dtype, copy=False, order=order, subok=True)\n"
     ]
    },
    {
     "data": {
      "image/png": "[encoded data removed]",
      "text/plain": [
       "<Figure size 1080x576 with 1 Axes>"
      ]
     },
     "metadata": {
      "needs_background": "light"
     },
     "output_type": "display_data"
    }
   ],
   "source": [
    "fig, ax = plt.subplots(figsize=(15,8))\n",
    "ydf = pd.DataFrame(ytest)\n",
    "for i in range(len(xtest.index)):\n",
    "    plt.plot([i,i], [np.exp(ytest_pred[i]),np.exp(ydf.iloc[i,0])], 'b') \n",
    "plt.ylabel('Cases')\n",
    "plt.xlabel('County')\n",
    "plt.show()"
   ]
  },
  {
   "cell_type": "code",
   "execution_count": 89,
   "metadata": {},
   "outputs": [],
   "source": [
    "# plt.plot(ytrain, ytrain_pred,'*r')\n",
    "# plt.plot(ytest, ytest_pred, '*g')\n",
    "\n",
    "# for i in range(400,1000):\n",
    "#     plt.plot(i/100,i/100,'*y')\n",
    "# plt.figure()"
   ]
  },
  {
   "cell_type": "code",
   "execution_count": null,
   "metadata": {},
   "outputs": [],
   "source": []
  }
 ],
 "metadata": {
  "kernelspec": {
   "display_name": "Python 3",
   "language": "python",
   "name": "python3"
  },
  "language_info": {
   "codemirror_mode": {
    "name": "ipython",
    "version": 3
   },
   "file_extension": ".py",
   "mimetype": "text/x-python",
   "name": "python",
   "nbconvert_exporter": "python",
   "pygments_lexer": "ipython3",
   "version": "3.8.5"
  }
 },
 "nbformat": 4,
 "nbformat_minor": 4
}
