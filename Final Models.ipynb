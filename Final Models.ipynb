{
 "cells": [
  {
   "cell_type": "code",
   "execution_count": 171,
   "metadata": {},
   "outputs": [],
   "source": [
    "import numpy as np\n",
    "import pandas as pd\n",
    "import math\n",
    "import matplotlib.pyplot as plt\n",
    "\n",
    "# sklearn utilities\n",
    "from sklearn.model_selection import train_test_split, GridSearchCV\n",
    "from sklearn.metrics import mean_squared_error as MSE \n",
    "from sklearn.preprocessing import robust_scale\n",
    "\n",
    "# sklearn models\n",
    "from sklearn import linear_model\n",
    "from sklearn.svm import SVR"
   ]
  },
  {
   "cell_type": "markdown",
   "metadata": {},
   "source": [
    "# Inputing Files"
   ]
  },
  {
   "cell_type": "code",
   "execution_count": 172,
   "metadata": {},
   "outputs": [
    {
     "data": {
      "text/html": [
       "<div>\n",
       "<style scoped>\n",
       "    .dataframe tbody tr th:only-of-type {\n",
       "        vertical-align: middle;\n",
       "    }\n",
       "\n",
       "    .dataframe tbody tr th {\n",
       "        vertical-align: top;\n",
       "    }\n",
       "\n",
       "    .dataframe thead th {\n",
       "        text-align: right;\n",
       "    }\n",
       "</style>\n",
       "<table border=\"1\" class=\"dataframe\">\n",
       "  <thead>\n",
       "    <tr style=\"text-align: right;\">\n",
       "      <th></th>\n",
       "      <th>fips</th>\n",
       "      <th>AREA</th>\n",
       "    </tr>\n",
       "  </thead>\n",
       "  <tbody>\n",
       "    <tr>\n",
       "      <th>0</th>\n",
       "      <td>1001</td>\n",
       "      <td>604.49</td>\n",
       "    </tr>\n",
       "    <tr>\n",
       "      <th>1</th>\n",
       "      <td>1003</td>\n",
       "      <td>2027.08</td>\n",
       "    </tr>\n",
       "    <tr>\n",
       "      <th>2</th>\n",
       "      <td>1005</td>\n",
       "      <td>904.59</td>\n",
       "    </tr>\n",
       "    <tr>\n",
       "      <th>3</th>\n",
       "      <td>1007</td>\n",
       "      <td>625.50</td>\n",
       "    </tr>\n",
       "    <tr>\n",
       "      <th>4</th>\n",
       "      <td>1009</td>\n",
       "      <td>650.65</td>\n",
       "    </tr>\n",
       "    <tr>\n",
       "      <th>...</th>\n",
       "      <td>...</td>\n",
       "      <td>...</td>\n",
       "    </tr>\n",
       "    <tr>\n",
       "      <th>3123</th>\n",
       "      <td>56037</td>\n",
       "      <td>10491.73</td>\n",
       "    </tr>\n",
       "    <tr>\n",
       "      <th>3124</th>\n",
       "      <td>56039</td>\n",
       "      <td>4221.96</td>\n",
       "    </tr>\n",
       "    <tr>\n",
       "      <th>3125</th>\n",
       "      <td>56041</td>\n",
       "      <td>2087.66</td>\n",
       "    </tr>\n",
       "    <tr>\n",
       "      <th>3126</th>\n",
       "      <td>56043</td>\n",
       "      <td>2242.85</td>\n",
       "    </tr>\n",
       "    <tr>\n",
       "      <th>3127</th>\n",
       "      <td>56045</td>\n",
       "      <td>2400.13</td>\n",
       "    </tr>\n",
       "  </tbody>\n",
       "</table>\n",
       "<p>3128 rows × 2 columns</p>\n",
       "</div>"
      ],
      "text/plain": [
       "       fips      AREA\n",
       "0      1001    604.49\n",
       "1      1003   2027.08\n",
       "2      1005    904.59\n",
       "3      1007    625.50\n",
       "4      1009    650.65\n",
       "...     ...       ...\n",
       "3123  56037  10491.73\n",
       "3124  56039   4221.96\n",
       "3125  56041   2087.66\n",
       "3126  56043   2242.85\n",
       "3127  56045   2400.13\n",
       "\n",
       "[3128 rows x 2 columns]"
      ]
     },
     "execution_count": 172,
     "metadata": {},
     "output_type": "execute_result"
    }
   ],
   "source": [
    "county_area = pd.read_csv('county_area.csv')\n",
    "county_area = county_area.drop([\"Areaname\"], axis=1)\n",
    "county_area = county_area.rename(columns={\"STCOU\": \"fips\"})\n",
    "county_area"
   ]
  },
  {
   "cell_type": "code",
   "execution_count": 173,
   "metadata": {},
   "outputs": [
    {
     "data": {
      "text/html": [
       "<div>\n",
       "<style scoped>\n",
       "    .dataframe tbody tr th:only-of-type {\n",
       "        vertical-align: middle;\n",
       "    }\n",
       "\n",
       "    .dataframe tbody tr th {\n",
       "        vertical-align: top;\n",
       "    }\n",
       "\n",
       "    .dataframe thead th {\n",
       "        text-align: right;\n",
       "    }\n",
       "</style>\n",
       "<table border=\"1\" class=\"dataframe\">\n",
       "  <thead>\n",
       "    <tr style=\"text-align: right;\">\n",
       "      <th></th>\n",
       "      <th>fips</th>\n",
       "      <th>NEVER</th>\n",
       "      <th>RARELY</th>\n",
       "      <th>SOMETIMES</th>\n",
       "      <th>FREQUENTLY</th>\n",
       "      <th>ALWAYS</th>\n",
       "    </tr>\n",
       "  </thead>\n",
       "  <tbody>\n",
       "    <tr>\n",
       "      <th>0</th>\n",
       "      <td>1001</td>\n",
       "      <td>0.053</td>\n",
       "      <td>0.074</td>\n",
       "      <td>0.134</td>\n",
       "      <td>0.295</td>\n",
       "      <td>0.444</td>\n",
       "    </tr>\n",
       "    <tr>\n",
       "      <th>1</th>\n",
       "      <td>1003</td>\n",
       "      <td>0.083</td>\n",
       "      <td>0.059</td>\n",
       "      <td>0.098</td>\n",
       "      <td>0.323</td>\n",
       "      <td>0.436</td>\n",
       "    </tr>\n",
       "    <tr>\n",
       "      <th>2</th>\n",
       "      <td>1005</td>\n",
       "      <td>0.067</td>\n",
       "      <td>0.121</td>\n",
       "      <td>0.120</td>\n",
       "      <td>0.201</td>\n",
       "      <td>0.491</td>\n",
       "    </tr>\n",
       "    <tr>\n",
       "      <th>3</th>\n",
       "      <td>1007</td>\n",
       "      <td>0.020</td>\n",
       "      <td>0.034</td>\n",
       "      <td>0.096</td>\n",
       "      <td>0.278</td>\n",
       "      <td>0.572</td>\n",
       "    </tr>\n",
       "    <tr>\n",
       "      <th>4</th>\n",
       "      <td>1009</td>\n",
       "      <td>0.053</td>\n",
       "      <td>0.114</td>\n",
       "      <td>0.180</td>\n",
       "      <td>0.194</td>\n",
       "      <td>0.459</td>\n",
       "    </tr>\n",
       "    <tr>\n",
       "      <th>...</th>\n",
       "      <td>...</td>\n",
       "      <td>...</td>\n",
       "      <td>...</td>\n",
       "      <td>...</td>\n",
       "      <td>...</td>\n",
       "      <td>...</td>\n",
       "    </tr>\n",
       "    <tr>\n",
       "      <th>3123</th>\n",
       "      <td>56037</td>\n",
       "      <td>0.061</td>\n",
       "      <td>0.295</td>\n",
       "      <td>0.230</td>\n",
       "      <td>0.146</td>\n",
       "      <td>0.268</td>\n",
       "    </tr>\n",
       "    <tr>\n",
       "      <th>3124</th>\n",
       "      <td>56039</td>\n",
       "      <td>0.095</td>\n",
       "      <td>0.157</td>\n",
       "      <td>0.160</td>\n",
       "      <td>0.247</td>\n",
       "      <td>0.340</td>\n",
       "    </tr>\n",
       "    <tr>\n",
       "      <th>3125</th>\n",
       "      <td>56041</td>\n",
       "      <td>0.098</td>\n",
       "      <td>0.278</td>\n",
       "      <td>0.154</td>\n",
       "      <td>0.207</td>\n",
       "      <td>0.264</td>\n",
       "    </tr>\n",
       "    <tr>\n",
       "      <th>3126</th>\n",
       "      <td>56043</td>\n",
       "      <td>0.204</td>\n",
       "      <td>0.155</td>\n",
       "      <td>0.069</td>\n",
       "      <td>0.285</td>\n",
       "      <td>0.287</td>\n",
       "    </tr>\n",
       "    <tr>\n",
       "      <th>3127</th>\n",
       "      <td>56045</td>\n",
       "      <td>0.142</td>\n",
       "      <td>0.129</td>\n",
       "      <td>0.148</td>\n",
       "      <td>0.207</td>\n",
       "      <td>0.374</td>\n",
       "    </tr>\n",
       "  </tbody>\n",
       "</table>\n",
       "<p>3128 rows × 6 columns</p>\n",
       "</div>"
      ],
      "text/plain": [
       "       fips  NEVER  RARELY  SOMETIMES  FREQUENTLY  ALWAYS\n",
       "0      1001  0.053   0.074      0.134       0.295   0.444\n",
       "1      1003  0.083   0.059      0.098       0.323   0.436\n",
       "2      1005  0.067   0.121      0.120       0.201   0.491\n",
       "3      1007  0.020   0.034      0.096       0.278   0.572\n",
       "4      1009  0.053   0.114      0.180       0.194   0.459\n",
       "...     ...    ...     ...        ...         ...     ...\n",
       "3123  56037  0.061   0.295      0.230       0.146   0.268\n",
       "3124  56039  0.095   0.157      0.160       0.247   0.340\n",
       "3125  56041  0.098   0.278      0.154       0.207   0.264\n",
       "3126  56043  0.204   0.155      0.069       0.285   0.287\n",
       "3127  56045  0.142   0.129      0.148       0.207   0.374\n",
       "\n",
       "[3128 rows x 6 columns]"
      ]
     },
     "execution_count": 173,
     "metadata": {},
     "output_type": "execute_result"
    }
   ],
   "source": [
    "county_mask_use = pd.read_csv('mask_use.csv')\n",
    "county_mask_use = county_mask_use.rename(columns={\"COUNTYFP\": \"fips\"})\n",
    "county_mask_use"
   ]
  },
  {
   "cell_type": "code",
   "execution_count": 174,
   "metadata": {},
   "outputs": [
    {
     "data": {
      "text/html": [
       "<div>\n",
       "<style scoped>\n",
       "    .dataframe tbody tr th:only-of-type {\n",
       "        vertical-align: middle;\n",
       "    }\n",
       "\n",
       "    .dataframe tbody tr th {\n",
       "        vertical-align: top;\n",
       "    }\n",
       "\n",
       "    .dataframe thead th {\n",
       "        text-align: right;\n",
       "    }\n",
       "</style>\n",
       "<table border=\"1\" class=\"dataframe\">\n",
       "  <thead>\n",
       "    <tr style=\"text-align: right;\">\n",
       "      <th></th>\n",
       "      <th>fips</th>\n",
       "      <th>cases</th>\n",
       "      <th>deaths</th>\n",
       "    </tr>\n",
       "  </thead>\n",
       "  <tbody>\n",
       "    <tr>\n",
       "      <th>0</th>\n",
       "      <td>1001</td>\n",
       "      <td>2059</td>\n",
       "      <td>31</td>\n",
       "    </tr>\n",
       "    <tr>\n",
       "      <th>1</th>\n",
       "      <td>1003</td>\n",
       "      <td>6658</td>\n",
       "      <td>69</td>\n",
       "    </tr>\n",
       "    <tr>\n",
       "      <th>2</th>\n",
       "      <td>1005</td>\n",
       "      <td>1033</td>\n",
       "      <td>9</td>\n",
       "    </tr>\n",
       "    <tr>\n",
       "      <th>3</th>\n",
       "      <td>1007</td>\n",
       "      <td>840</td>\n",
       "      <td>14</td>\n",
       "    </tr>\n",
       "    <tr>\n",
       "      <th>4</th>\n",
       "      <td>1009</td>\n",
       "      <td>1932</td>\n",
       "      <td>25</td>\n",
       "    </tr>\n",
       "    <tr>\n",
       "      <th>...</th>\n",
       "      <td>...</td>\n",
       "      <td>...</td>\n",
       "      <td>...</td>\n",
       "    </tr>\n",
       "    <tr>\n",
       "      <th>3123</th>\n",
       "      <td>56037</td>\n",
       "      <td>462</td>\n",
       "      <td>2</td>\n",
       "    </tr>\n",
       "    <tr>\n",
       "      <th>3124</th>\n",
       "      <td>56039</td>\n",
       "      <td>747</td>\n",
       "      <td>1</td>\n",
       "    </tr>\n",
       "    <tr>\n",
       "      <th>3125</th>\n",
       "      <td>56041</td>\n",
       "      <td>431</td>\n",
       "      <td>3</td>\n",
       "    </tr>\n",
       "    <tr>\n",
       "      <th>3126</th>\n",
       "      <td>56043</td>\n",
       "      <td>144</td>\n",
       "      <td>7</td>\n",
       "    </tr>\n",
       "    <tr>\n",
       "      <th>3127</th>\n",
       "      <td>56045</td>\n",
       "      <td>127</td>\n",
       "      <td>0</td>\n",
       "    </tr>\n",
       "  </tbody>\n",
       "</table>\n",
       "<p>3128 rows × 3 columns</p>\n",
       "</div>"
      ],
      "text/plain": [
       "       fips  cases  deaths\n",
       "0      1001   2059      31\n",
       "1      1003   6658      69\n",
       "2      1005   1033       9\n",
       "3      1007    840      14\n",
       "4      1009   1932      25\n",
       "...     ...    ...     ...\n",
       "3123  56037    462       2\n",
       "3124  56039    747       1\n",
       "3125  56041    431       3\n",
       "3126  56043    144       7\n",
       "3127  56045    127       0\n",
       "\n",
       "[3128 rows x 3 columns]"
      ]
     },
     "execution_count": 174,
     "metadata": {},
     "output_type": "execute_result"
    }
   ],
   "source": [
    "county_cases = pd.read_csv('county_cases.csv')\n",
    "county_cases = county_cases.drop([\"county\",\"state\"], axis=1)\n",
    "county_cases"
   ]
  },
  {
   "cell_type": "code",
   "execution_count": 175,
   "metadata": {},
   "outputs": [
    {
     "data": {
      "text/html": [
       "<div>\n",
       "<style scoped>\n",
       "    .dataframe tbody tr th:only-of-type {\n",
       "        vertical-align: middle;\n",
       "    }\n",
       "\n",
       "    .dataframe tbody tr th {\n",
       "        vertical-align: top;\n",
       "    }\n",
       "\n",
       "    .dataframe thead th {\n",
       "        text-align: right;\n",
       "    }\n",
       "</style>\n",
       "<table border=\"1\" class=\"dataframe\">\n",
       "  <thead>\n",
       "    <tr style=\"text-align: right;\">\n",
       "      <th></th>\n",
       "      <th>fips</th>\n",
       "      <th>POPESTIMATE2019</th>\n",
       "    </tr>\n",
       "  </thead>\n",
       "  <tbody>\n",
       "    <tr>\n",
       "      <th>0</th>\n",
       "      <td>1001</td>\n",
       "      <td>55869</td>\n",
       "    </tr>\n",
       "    <tr>\n",
       "      <th>1</th>\n",
       "      <td>1003</td>\n",
       "      <td>223234</td>\n",
       "    </tr>\n",
       "    <tr>\n",
       "      <th>2</th>\n",
       "      <td>1005</td>\n",
       "      <td>24686</td>\n",
       "    </tr>\n",
       "    <tr>\n",
       "      <th>3</th>\n",
       "      <td>1007</td>\n",
       "      <td>22394</td>\n",
       "    </tr>\n",
       "    <tr>\n",
       "      <th>4</th>\n",
       "      <td>1009</td>\n",
       "      <td>57826</td>\n",
       "    </tr>\n",
       "    <tr>\n",
       "      <th>...</th>\n",
       "      <td>...</td>\n",
       "      <td>...</td>\n",
       "    </tr>\n",
       "    <tr>\n",
       "      <th>3123</th>\n",
       "      <td>56037</td>\n",
       "      <td>42343</td>\n",
       "    </tr>\n",
       "    <tr>\n",
       "      <th>3124</th>\n",
       "      <td>56039</td>\n",
       "      <td>23464</td>\n",
       "    </tr>\n",
       "    <tr>\n",
       "      <th>3125</th>\n",
       "      <td>56041</td>\n",
       "      <td>20226</td>\n",
       "    </tr>\n",
       "    <tr>\n",
       "      <th>3126</th>\n",
       "      <td>56043</td>\n",
       "      <td>7805</td>\n",
       "    </tr>\n",
       "    <tr>\n",
       "      <th>3127</th>\n",
       "      <td>56045</td>\n",
       "      <td>6927</td>\n",
       "    </tr>\n",
       "  </tbody>\n",
       "</table>\n",
       "<p>3128 rows × 2 columns</p>\n",
       "</div>"
      ],
      "text/plain": [
       "       fips  POPESTIMATE2019\n",
       "0      1001            55869\n",
       "1      1003           223234\n",
       "2      1005            24686\n",
       "3      1007            22394\n",
       "4      1009            57826\n",
       "...     ...              ...\n",
       "3123  56037            42343\n",
       "3124  56039            23464\n",
       "3125  56041            20226\n",
       "3126  56043             7805\n",
       "3127  56045             6927\n",
       "\n",
       "[3128 rows x 2 columns]"
      ]
     },
     "execution_count": 175,
     "metadata": {},
     "output_type": "execute_result"
    }
   ],
   "source": [
    "county_pop = pd.read_csv('county_pop.csv', encoding='latin-1')\n",
    "county_pop = county_pop.drop(['STNAME','CTYNAME'], axis=1)\n",
    "county_pop = county_pop.rename(columns={\"COUNTY\": \"fips\"})\n",
    "county_pop"
   ]
  },
  {
   "cell_type": "markdown",
   "metadata": {},
   "source": [
    "## Merging Dataframes Together"
   ]
  },
  {
   "cell_type": "code",
   "execution_count": 201,
   "metadata": {},
   "outputs": [
    {
     "data": {
      "text/html": [
       "<div>\n",
       "<style scoped>\n",
       "    .dataframe tbody tr th:only-of-type {\n",
       "        vertical-align: middle;\n",
       "    }\n",
       "\n",
       "    .dataframe tbody tr th {\n",
       "        vertical-align: top;\n",
       "    }\n",
       "\n",
       "    .dataframe thead th {\n",
       "        text-align: right;\n",
       "    }\n",
       "</style>\n",
       "<table border=\"1\" class=\"dataframe\">\n",
       "  <thead>\n",
       "    <tr style=\"text-align: right;\">\n",
       "      <th></th>\n",
       "      <th>fips</th>\n",
       "      <th>&lt; HS</th>\n",
       "      <th>HS</th>\n",
       "      <th>Some College</th>\n",
       "      <th>Bachelors</th>\n",
       "      <th>% &lt; HS</th>\n",
       "      <th>% HS</th>\n",
       "      <th>% Some College</th>\n",
       "      <th>% Bachelors</th>\n",
       "    </tr>\n",
       "  </thead>\n",
       "  <tbody>\n",
       "    <tr>\n",
       "      <th>0</th>\n",
       "      <td>0</td>\n",
       "      <td>28587748.0</td>\n",
       "      <td>58440600.0</td>\n",
       "      <td>60821634.0</td>\n",
       "      <td>61206147.0</td>\n",
       "      <td>13.7</td>\n",
       "      <td>28.0</td>\n",
       "      <td>29.1</td>\n",
       "      <td>29.3</td>\n",
       "    </tr>\n",
       "    <tr>\n",
       "      <th>1</th>\n",
       "      <td>1000</td>\n",
       "      <td>524368.0</td>\n",
       "      <td>999761.0</td>\n",
       "      <td>951960.0</td>\n",
       "      <td>741813.0</td>\n",
       "      <td>16.3</td>\n",
       "      <td>31.1</td>\n",
       "      <td>29.6</td>\n",
       "      <td>23.1</td>\n",
       "    </tr>\n",
       "    <tr>\n",
       "      <th>2</th>\n",
       "      <td>1001</td>\n",
       "      <td>5012.0</td>\n",
       "      <td>12139.0</td>\n",
       "      <td>11132.0</td>\n",
       "      <td>7950.0</td>\n",
       "      <td>13.8</td>\n",
       "      <td>33.5</td>\n",
       "      <td>30.7</td>\n",
       "      <td>21.9</td>\n",
       "    </tr>\n",
       "    <tr>\n",
       "      <th>3</th>\n",
       "      <td>1003</td>\n",
       "      <td>14615.0</td>\n",
       "      <td>38401.0</td>\n",
       "      <td>42104.0</td>\n",
       "      <td>38147.0</td>\n",
       "      <td>11.0</td>\n",
       "      <td>28.8</td>\n",
       "      <td>31.6</td>\n",
       "      <td>28.6</td>\n",
       "    </tr>\n",
       "    <tr>\n",
       "      <th>4</th>\n",
       "      <td>1005</td>\n",
       "      <td>4790.0</td>\n",
       "      <td>6300.0</td>\n",
       "      <td>5183.0</td>\n",
       "      <td>2563.0</td>\n",
       "      <td>25.4</td>\n",
       "      <td>33.4</td>\n",
       "      <td>27.5</td>\n",
       "      <td>13.6</td>\n",
       "    </tr>\n",
       "    <tr>\n",
       "      <th>...</th>\n",
       "      <td>...</td>\n",
       "      <td>...</td>\n",
       "      <td>...</td>\n",
       "      <td>...</td>\n",
       "      <td>...</td>\n",
       "      <td>...</td>\n",
       "      <td>...</td>\n",
       "      <td>...</td>\n",
       "      <td>...</td>\n",
       "    </tr>\n",
       "    <tr>\n",
       "      <th>3278</th>\n",
       "      <td>72145</td>\n",
       "      <td>17986.0</td>\n",
       "      <td>4372.0</td>\n",
       "      <td>8782.0</td>\n",
       "      <td>7330.0</td>\n",
       "      <td>46.8</td>\n",
       "      <td>11.4</td>\n",
       "      <td>22.8</td>\n",
       "      <td>19.1</td>\n",
       "    </tr>\n",
       "    <tr>\n",
       "      <th>3279</th>\n",
       "      <td>72147</td>\n",
       "      <td>2283.0</td>\n",
       "      <td>2371.0</td>\n",
       "      <td>927.0</td>\n",
       "      <td>705.0</td>\n",
       "      <td>36.3</td>\n",
       "      <td>37.7</td>\n",
       "      <td>14.7</td>\n",
       "      <td>11.2</td>\n",
       "    </tr>\n",
       "    <tr>\n",
       "      <th>3280</th>\n",
       "      <td>72149</td>\n",
       "      <td>5242.0</td>\n",
       "      <td>5326.0</td>\n",
       "      <td>2646.0</td>\n",
       "      <td>2558.0</td>\n",
       "      <td>33.2</td>\n",
       "      <td>33.8</td>\n",
       "      <td>16.8</td>\n",
       "      <td>16.2</td>\n",
       "    </tr>\n",
       "    <tr>\n",
       "      <th>3281</th>\n",
       "      <td>72151</td>\n",
       "      <td>8553.0</td>\n",
       "      <td>7161.0</td>\n",
       "      <td>5330.0</td>\n",
       "      <td>3489.0</td>\n",
       "      <td>34.9</td>\n",
       "      <td>29.2</td>\n",
       "      <td>21.7</td>\n",
       "      <td>14.2</td>\n",
       "    </tr>\n",
       "    <tr>\n",
       "      <th>3282</th>\n",
       "      <td>72153</td>\n",
       "      <td>8888.0</td>\n",
       "      <td>7793.0</td>\n",
       "      <td>5210.0</td>\n",
       "      <td>5505.0</td>\n",
       "      <td>32.4</td>\n",
       "      <td>28.4</td>\n",
       "      <td>19.0</td>\n",
       "      <td>20.1</td>\n",
       "    </tr>\n",
       "  </tbody>\n",
       "</table>\n",
       "<p>3283 rows × 9 columns</p>\n",
       "</div>"
      ],
      "text/plain": [
       "       fips        < HS          HS  Some College   Bachelors  % < HS  % HS  \\\n",
       "0         0  28587748.0  58440600.0    60821634.0  61206147.0    13.7  28.0   \n",
       "1      1000    524368.0    999761.0      951960.0    741813.0    16.3  31.1   \n",
       "2      1001      5012.0     12139.0       11132.0      7950.0    13.8  33.5   \n",
       "3      1003     14615.0     38401.0       42104.0     38147.0    11.0  28.8   \n",
       "4      1005      4790.0      6300.0        5183.0      2563.0    25.4  33.4   \n",
       "...     ...         ...         ...           ...         ...     ...   ...   \n",
       "3278  72145     17986.0      4372.0        8782.0      7330.0    46.8  11.4   \n",
       "3279  72147      2283.0      2371.0         927.0       705.0    36.3  37.7   \n",
       "3280  72149      5242.0      5326.0        2646.0      2558.0    33.2  33.8   \n",
       "3281  72151      8553.0      7161.0        5330.0      3489.0    34.9  29.2   \n",
       "3282  72153      8888.0      7793.0        5210.0      5505.0    32.4  28.4   \n",
       "\n",
       "      % Some College  % Bachelors  \n",
       "0               29.1         29.3  \n",
       "1               29.6         23.1  \n",
       "2               30.7         21.9  \n",
       "3               31.6         28.6  \n",
       "4               27.5         13.6  \n",
       "...              ...          ...  \n",
       "3278            22.8         19.1  \n",
       "3279            14.7         11.2  \n",
       "3280            16.8         16.2  \n",
       "3281            21.7         14.2  \n",
       "3282            19.0         20.1  \n",
       "\n",
       "[3283 rows x 9 columns]"
      ]
     },
     "execution_count": 201,
     "metadata": {},
     "output_type": "execute_result"
    }
   ],
   "source": [
    "education = pd.read_csv('Education.csv')\n",
    "education = education.rename(columns={\"FIPS Code\": \"fips\", \n",
    "                            \"Less than a high school diploma, 2010-2014\": \"< HS\",\n",
    "                            \"High school diploma only, 2010-2014\":\"HS\", \n",
    "                            \"Some college or associate's degree, 2010-2014\": \"Some College\",\n",
    "                            \"Bachelor's degree or higher, 2010-2014\": \"Bachelors\",\n",
    "                            \"Percent of adults with less than a high school diploma, 2010-2014\" : \"% < HS\",\n",
    "                            \"Percent of adults with a high school diploma only, 2010-2014\" : \"% HS\",\n",
    "                            \"Percent of adults completing some college or associate's degree, 2010-2014\" : \"% Some College\",\n",
    "                            \"Percent of adults with a bachelor's degree or higher, 2010-2014\" : \"% Bachelors\"})\n",
    "\n",
    "education = education.drop([\"State\", \"Area name\"], axis=1)\n",
    "education"
   ]
  },
  {
   "cell_type": "code",
   "execution_count": 202,
   "metadata": {},
   "outputs": [],
   "source": [
    "def new_normal(table):\n",
    "    normal = robust_scale(table)\n",
    "    return normal"
   ]
  },
  {
   "cell_type": "code",
   "execution_count": 203,
   "metadata": {},
   "outputs": [],
   "source": [
    "df = county_pop.merge(county_mask_use, how='left', on=\"fips\")\n",
    "df = df.merge(county_area, how=\"left\", on=\"fips\")\n",
    "df = df.merge(county_cases, how=\"left\", on=\"fips\")\n",
    "\n",
    "\n",
    "df['POP_DEN'] = df['POPESTIMATE2019'] / df['AREA']\n",
    "df['POP_DENxALWAYS'] = df['POP_DEN'] * df['ALWAYS']\n",
    "# df['POP_DENxFREQUENTLY'] =df['POP_DEN'] * df['FREQUENTLY']\n",
    "# df['POP_DENxSOMETIMES'] = df['POP_DEN'] * df['SOMETIMES']\n",
    "# df['POP_DENxRARELY'] = df['POP_DEN'] * df['RARELY']\n",
    "# df['POP_DENxNEVER'] = df['POP_DEN'] * df['NEVER']\n",
    "# df['POPxALWAYS'] = df['POPESTIMATE2019'] * df['ALWAYS']\n",
    "# df['POPxFREQUENTLY'] =df['POPESTIMATE2019'] * df['FREQUENTLY']\n",
    "# df['POPxSOMETIMES'] = df['POPESTIMATE2019'] * df['SOMETIMES']\n",
    "# df['POPxRARELY'] = df['POPESTIMATE2019'] * df['RARELY']\n",
    "# df['POPxNEVER'] = df['POPESTIMATE2019'] * df['NEVER']\n",
    "\n",
    "df = df.merge(education, how=\"left\", on=\"fips\")\n",
    "df['% < HS']  = df['% < HS'] / 100\n",
    "df['% HS'] = df['% HS'] / 100\n",
    "df['% Some College'] = df['% Some College'] / 100\n",
    "df['% Bachelors'] = df['% Bachelors'] / 100\n",
    "\n",
    "df.insert(0, 'Ones', 1)"
   ]
  },
  {
   "cell_type": "code",
   "execution_count": 309,
   "metadata": {},
   "outputs": [],
   "source": [
    "column_titles =  ['POPESTIMATE2019', 'NEVER',\n",
    "                  'RARELY', 'SOMETIMES', 'FREQUENTLY', 'ALWAYS', 'AREA', \n",
    "                  'POP_DEN', 'POP_DENxALWAYS', '< HS', 'HS', 'Some College',\n",
    "                  'Bachelors', '% < HS', '% HS', '% Some College', '% Bachelors']\n",
    "\n",
    "new_df = df.reindex(columns=column_titles)\n",
    "normal_all = new_normal(new_df)\n",
    "normal_df = pd.DataFrame(normal_all)\n",
    "normal_df.columns = column_titles\n",
    "normal_df['fips'] = df['fips']\n",
    "normal_df = normal_df.merge(county_cases, how=\"left\", on=\"fips\")\n",
    "column_titles = ['fips','cases','deaths','POPESTIMATE2019', 'NEVER',\n",
    "                 'RARELY', 'SOMETIMES', 'FREQUENTLY', 'ALWAYS', 'AREA',\n",
    "                 '< HS', 'HS', 'Some College','Bachelors', \n",
    "                 '% < HS', '% HS', '% Some College', '% Bachelors']\n",
    "\n",
    "normal_df = normal_df.reindex(columns=column_titles)"
   ]
  },
  {
   "cell_type": "markdown",
   "metadata": {},
   "source": [
    "## Normalize Data"
   ]
  },
  {
   "cell_type": "code",
   "execution_count": 310,
   "metadata": {},
   "outputs": [],
   "source": [
    "def normalize(column):\n",
    "    normal = []\n",
    "    for value in column:\n",
    "        value = (value - min(column)) / (max(column) - min(column))\n",
    "        normal.append(value)\n",
    "    return normal"
   ]
  },
  {
   "cell_type": "code",
   "execution_count": null,
   "metadata": {},
   "outputs": [],
   "source": []
  },
  {
   "cell_type": "markdown",
   "metadata": {},
   "source": [
    "## Graphs"
   ]
  },
  {
   "cell_type": "raw",
   "metadata": {},
   "source": [
    "fig, ax = plt.subplots(figsize=(16,10))\n",
    "for i in range(df.shape[0]):\n",
    "    plt.scatter(df['POPESTIMATE2019'][i], df['cases'][i])\n",
    "plt.xlabel('Population')\n",
    "plt.ylabel('Positive Cases')\n",
    "plt.ylim(0,60000)\n",
    "plt.xlim(0,2000000)\n",
    "plt.title('Population vs. Positive Cases')\n",
    "plt.show()"
   ]
  },
  {
   "cell_type": "raw",
   "metadata": {},
   "source": [
    "fig, ax = plt.subplots(figsize=(16,10))\n",
    "for i in range(df.shape[0]):\n",
    "    plt.scatter(df['ALWAYS'][i], df['cases'][i])\n",
    "plt.xlabel('Percentage of Mask Use')\n",
    "plt.ylabel('Positive Cases')\n",
    "plt.title('Percentage Mask Use vs. Positive Cases')\n",
    "plt.show()"
   ]
  },
  {
   "cell_type": "markdown",
   "metadata": {},
   "source": [
    "fig, ax = plt.subplots(figsize=(16,10))\n",
    "for i in range(df.shape[0]):\n",
    "    plt.scatter(df['ALWAYS'][i], df['NEVER'][i])\n",
    "plt.xlabel('Percentage of Mask Use')\n",
    "plt.ylabel('Percentage of NO Mask Use')\n",
    "plt.title('Percentage Mask Use vs. Percent NO Mask Use')\n",
    "plt.show()"
   ]
  },
  {
   "cell_type": "markdown",
   "metadata": {},
   "source": [
    "fig, ax = plt.subplots(figsize=(16,10))\n",
    "for i in range(df.shape[0]):\n",
    "    plt.scatter(df['POP_DEN'][i], df['cases'][i])\n",
    "plt.xlabel('Population density')\n",
    "plt.ylabel('Cases')\n",
    "plt.title('Population Density vs. Cases')\n",
    "plt.show()"
   ]
  },
  {
   "cell_type": "markdown",
   "metadata": {},
   "source": [
    "fig, ax = plt.subplots(figsize=(16,10))\n",
    "for i in range(df.shape[0]):\n",
    "    plt.scatter(df['POP_DEN'][i], df['deaths'][i])\n",
    "plt.xlabel('Population Density')\n",
    "plt.ylabel('Deaths')\n",
    "plt.title('Population Density vs. Deaths')\n",
    "plt.show()"
   ]
  },
  {
   "cell_type": "raw",
   "metadata": {},
   "source": [
    "fig, ax = plt.subplots(figsize=(16,10))\n",
    "for i in range(df.shape[0]):\n",
    "    plt.scatter(df['POP_DENxALWAYS'][i], df['cases'][i])\n",
    "plt.xlabel('Population Density x Mask use')\n",
    "plt.ylabel('Cases')\n",
    "plt.title('Population Density x Mask use vs. Cases')\n",
    "plt.show()"
   ]
  },
  {
   "cell_type": "markdown",
   "metadata": {},
   "source": [
    "## Split Data"
   ]
  },
  {
   "cell_type": "code",
   "execution_count": 312,
   "metadata": {},
   "outputs": [],
   "source": [
    "def split(X, Y, size):\n",
    "    return train_test_split(X, Y, test_size=size)"
   ]
  },
  {
   "cell_type": "markdown",
   "metadata": {},
   "source": [
    "# Models"
   ]
  },
  {
   "cell_type": "markdown",
   "metadata": {},
   "source": [
    "## Linear Regression"
   ]
  },
  {
   "cell_type": "code",
   "execution_count": 313,
   "metadata": {},
   "outputs": [
    {
     "name": "stdout",
     "output_type": "stream",
     "text": [
      "<class 'pandas.core.frame.DataFrame'>\n"
     ]
    }
   ],
   "source": [
    "x_train, x_test, y_train, y_test = split(normal_pop_df, df['cases'], 0.2)\n",
    "x_train_lin = x_train.copy()\n",
    "print(type(x_train_lin))\n",
    "x_train_lin.insert(0, 'Ones', 1)\n",
    "x = np.matrix(x_train_lin.values)\n",
    "y = np.matrix(y_train.values)"
   ]
  },
  {
   "cell_type": "code",
   "execution_count": 314,
   "metadata": {},
   "outputs": [
    {
     "data": {
      "text/plain": [
       "array([[-2.89892227e+02,  2.89904022e+05]])"
      ]
     },
     "execution_count": 314,
     "metadata": {},
     "output_type": "execute_result"
    }
   ],
   "source": [
    "lin_regr = linear_model.LinearRegression(fit_intercept = False)\n",
    "lin_regr.fit(x, y.T)\n",
    "lin_regr.coef_ "
   ]
  },
  {
   "cell_type": "code",
   "execution_count": 315,
   "metadata": {
    "scrolled": false
   },
   "outputs": [
    {
     "data": {
      "image/png": "[encoded data removed]",
      "text/plain": [
       "<Figure size 864x576 with 1 Axes>"
      ]
     },
     "metadata": {
      "needs_background": "light"
     },
     "output_type": "display_data"
    }
   ],
   "source": [
    "X = np.array(x[:, 1].A1)\n",
    "f = lin_regr.predict(x).flatten()\n",
    "\n",
    "fig, ax = plt.subplots(figsize=(12,8))\n",
    "ax.plot(X, f, color = \"red\", label='Prediction')\n",
    "ax.plot(normal_pop_df[0], df['cases'], \"r+\",color = \"blue\", label='Data')\n",
    "ax.legend(loc=2)\n",
    "ax.set_xlabel('Population')\n",
    "ax.set_ylabel('Positive Cases')\n",
    "ax.set_title('Predicted Positive Cases vs. Population')\n",
    "plt.show()"
   ]
  },
  {
   "cell_type": "code",
   "execution_count": 316,
   "metadata": {
    "scrolled": true
   },
   "outputs": [],
   "source": [
    "#A train test split function using a random state of 0\n",
    "def split(X, Y, size):\n",
    "    return train_test_split(X, Y, test_size=size, random_state=0)"
   ]
  },
  {
   "cell_type": "markdown",
   "metadata": {},
   "source": [
    "## SVM"
   ]
  },
  {
   "cell_type": "code",
   "execution_count": 317,
   "metadata": {},
   "outputs": [
    {
     "data": {
      "text/plain": [
       "(3128, 18)"
      ]
     },
     "execution_count": 317,
     "metadata": {},
     "output_type": "execute_result"
    }
   ],
   "source": [
    "\n",
    "X = normal_df.drop(['cases','fips','deaths','AREA'], axis =1)\n",
    "normal_svm_data = np.array(X)\n",
    "x_train, x_test, y_train, y_test = split(X,np.log(df['cases']), .2)\n",
    "normal_df.describe()\n",
    "np.shape(normal_df)"
   ]
  },
  {
   "cell_type": "code",
   "execution_count": 318,
   "metadata": {},
   "outputs": [
    {
     "name": "stdout",
     "output_type": "stream",
     "text": [
      "Best kernel is: rbf\n",
      "With average MSE of: 0.716381691529606\n"
     ]
    }
   ],
   "source": [
    "\n",
    "kernels = ['rbf', 'linear', 'poly','sigmoid']\n",
    "outs = []\n",
    "for k in kernels:\n",
    "    svr = SVR(kernel=k)\n",
    "    svr.fit(x_train, y_train)\n",
    "    svr_predict = svr.predict(x_test)\n",
    "    outs.append(MSE(y_test, svr_predict))\n",
    "optimal_kernel = kernels[outs.index(min(outs))]\n",
    "print('Best kernel is:', optimal_kernel)\n",
    "print('With average MSE of:', min(outs))"
   ]
  },
  {
   "cell_type": "code",
   "execution_count": 319,
   "metadata": {},
   "outputs": [
    {
     "name": "stdout",
     "output_type": "stream",
     "text": [
      "Best C value is: 200\n",
      "With average MSE of: 0.5353971161911683\n"
     ]
    }
   ],
   "source": [
    "regs = [1,2,5,200]\n",
    "outs = []\n",
    "for reg in regs:\n",
    "    svr = SVR(kernel=optimal_kernel, C=reg)\n",
    "    svr.fit(x_train, y_train)\n",
    "    svr_predict = svr.predict(x_test)\n",
    "    outs.append(MSE(y_test, svr_predict))\n",
    "optimal_C = regs[outs.index(min(outs))]\n",
    "print('Best C value is:', optimal_C)\n",
    "print('With average MSE of:', min(outs))\n"
   ]
  },
  {
   "cell_type": "code",
   "execution_count": 320,
   "metadata": {},
   "outputs": [
    {
     "data": {
      "image/png": "[encoded data removed]",
      "text/plain": [
       "<Figure size 1152x720 with 1 Axes>"
      ]
     },
     "metadata": {
      "needs_background": "light"
     },
     "output_type": "display_data"
    },
    {
     "name": "stdout",
     "output_type": "stream",
     "text": [
      "MSE =  0.5730638406461296\n",
      "Accuracy Score =  0.7742715495107139\n"
     ]
    }
   ],
   "source": [
    "svr = SVR(kernel=optimal_kernel, C=31, epsilon = .3)\n",
    "svr.fit(x_train, y_train)\n",
    "\n",
    "y_train_pred = svr.predict(x_train)\n",
    "y_test_pred = svr.predict(x_test)\n",
    "\n",
    "fig, ax = plt.subplots(figsize=(16,10))\n",
    "plt.plot(y_train, y_train_pred,'o')\n",
    "plt.plot(y_test, y_test_pred, '+')\n",
    "plt.title('Train vs Test COVID-19 Case Predictions')\n",
    "plt.show()\n",
    "    \n",
    "\n",
    "print(\"MSE = \", MSE(y_test, svr.predict(x_test)))\n",
    "print(\"Accuracy Score = \", svr.score(x_test,y_test))"
   ]
  },
  {
   "cell_type": "code",
   "execution_count": 321,
   "metadata": {},
   "outputs": [
    {
     "data": {
      "image/png": "[encoded data removed]",
      "text/plain": [
       "<Figure size 1080x576 with 1 Axes>"
      ]
     },
     "metadata": {
      "needs_background": "light"
     },
     "output_type": "display_data"
    }
   ],
   "source": [
    "fig, ax = plt.subplots(figsize=(15,8))\n",
    "y_test_pred = svr.predict(x_test)\n",
    "y_df = pd.DataFrame(y_test)\n",
    "#plt.ylim((0,3))\n",
    "for i in range(len(x_test.index)):\n",
    "    plt.plot(i, np.exp(y_test_pred[i]),'_r')\n",
    "    plt.plot([i,i], [np.exp(y_test_pred[i]),np.exp(y_df.iloc[i,0])], 'b')\n",
    "plt.title('Case error for each county')\n",
    "plt.xlabel('County Number')\n",
    "plt.ylabel('Cases')\n",
    "plt.show()"
   ]
  },
  {
   "cell_type": "code",
   "execution_count": null,
   "metadata": {},
   "outputs": [],
   "source": []
  },
  {
   "cell_type": "code",
   "execution_count": 322,
   "metadata": {},
   "outputs": [
    {
     "name": "stdout",
     "output_type": "stream",
     "text": [
      "Best epsilon:  0.30000000000000004\n",
      "Best C:  31\n"
     ]
    }
   ],
   "source": [
    "c_values = np.arange(1, 52 ,5)\n",
    "epsilon_values = np.arange(.1, .51 , .1)\n",
    "clf = SVR(kernel = 'rbf')\n",
    "grid = {'C':c_values, 'epsilon':epsilon_values}\n",
    "clf_cv = GridSearchCV(estimator = clf, param_grid = grid)\n",
    "clf_cv.fit(x_train, y_train)\n",
    "best_epsilon = clf_cv.best_params_['epsilon']\n",
    "best_c = clf_cv.best_params_['C']\n",
    "\n",
    "print('Best epsilon: ', best_epsilon)\n",
    "print('Best C: ', best_c)\n"
   ]
  },
  {
   "cell_type": "code",
   "execution_count": null,
   "metadata": {},
   "outputs": [],
   "source": []
  },
  {
   "cell_type": "code",
   "execution_count": null,
   "metadata": {},
   "outputs": [],
   "source": []
  }
 ],
 "metadata": {
  "kernelspec": {
   "display_name": "Python 3",
   "language": "python",
   "name": "python3"
  },
  "language_info": {
   "codemirror_mode": {
    "name": "ipython",
    "version": 3
   },
   "file_extension": ".py",
   "mimetype": "text/x-python",
   "name": "python",
   "nbconvert_exporter": "python",
   "pygments_lexer": "ipython3",
   "version": "3.8.3"
  }
 },
 "nbformat": 4,
 "nbformat_minor": 4
}
