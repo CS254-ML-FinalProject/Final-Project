{
 "cells": [
  {
   "cell_type": "code",
   "execution_count": 38,
   "metadata": {},
   "outputs": [],
   "source": [
    "import numpy as np\n",
    "import pandas as pd\n",
    "import math\n",
    "import matplotlib.pyplot as plt\n",
    "\n",
    "# sklearn utilities\n",
    "from sklearn.model_selection import train_test_split, GridSearchCV\n",
    "from sklearn.metrics import mean_squared_error as MSE \n",
    "from sklearn.preprocessing import robust_scale\n",
    "\n",
    "# sklearn models\n",
    "from sklearn import linear_model\n",
    "from sklearn.svm import SVR"
   ]
  },
  {
   "cell_type": "markdown",
   "metadata": {},
   "source": [
    "# Inputing Files"
   ]
  },
  {
   "cell_type": "code",
   "execution_count": 39,
   "metadata": {},
   "outputs": [
    {
     "data": {
      "text/html": [
       "<div>\n",
       "<style scoped>\n",
       "    .dataframe tbody tr th:only-of-type {\n",
       "        vertical-align: middle;\n",
       "    }\n",
       "\n",
       "    .dataframe tbody tr th {\n",
       "        vertical-align: top;\n",
       "    }\n",
       "\n",
       "    .dataframe thead th {\n",
       "        text-align: right;\n",
       "    }\n",
       "</style>\n",
       "<table border=\"1\" class=\"dataframe\">\n",
       "  <thead>\n",
       "    <tr style=\"text-align: right;\">\n",
       "      <th></th>\n",
       "      <th>fips</th>\n",
       "      <th>AREA</th>\n",
       "    </tr>\n",
       "  </thead>\n",
       "  <tbody>\n",
       "    <tr>\n",
       "      <th>0</th>\n",
       "      <td>1001</td>\n",
       "      <td>604.49</td>\n",
       "    </tr>\n",
       "    <tr>\n",
       "      <th>1</th>\n",
       "      <td>1003</td>\n",
       "      <td>2027.08</td>\n",
       "    </tr>\n",
       "    <tr>\n",
       "      <th>2</th>\n",
       "      <td>1005</td>\n",
       "      <td>904.59</td>\n",
       "    </tr>\n",
       "    <tr>\n",
       "      <th>3</th>\n",
       "      <td>1007</td>\n",
       "      <td>625.50</td>\n",
       "    </tr>\n",
       "    <tr>\n",
       "      <th>4</th>\n",
       "      <td>1009</td>\n",
       "      <td>650.65</td>\n",
       "    </tr>\n",
       "    <tr>\n",
       "      <th>...</th>\n",
       "      <td>...</td>\n",
       "      <td>...</td>\n",
       "    </tr>\n",
       "    <tr>\n",
       "      <th>3123</th>\n",
       "      <td>56037</td>\n",
       "      <td>10491.73</td>\n",
       "    </tr>\n",
       "    <tr>\n",
       "      <th>3124</th>\n",
       "      <td>56039</td>\n",
       "      <td>4221.96</td>\n",
       "    </tr>\n",
       "    <tr>\n",
       "      <th>3125</th>\n",
       "      <td>56041</td>\n",
       "      <td>2087.66</td>\n",
       "    </tr>\n",
       "    <tr>\n",
       "      <th>3126</th>\n",
       "      <td>56043</td>\n",
       "      <td>2242.85</td>\n",
       "    </tr>\n",
       "    <tr>\n",
       "      <th>3127</th>\n",
       "      <td>56045</td>\n",
       "      <td>2400.13</td>\n",
       "    </tr>\n",
       "  </tbody>\n",
       "</table>\n",
       "<p>3128 rows × 2 columns</p>\n",
       "</div>"
      ],
      "text/plain": [
       "       fips      AREA\n",
       "0      1001    604.49\n",
       "1      1003   2027.08\n",
       "2      1005    904.59\n",
       "3      1007    625.50\n",
       "4      1009    650.65\n",
       "...     ...       ...\n",
       "3123  56037  10491.73\n",
       "3124  56039   4221.96\n",
       "3125  56041   2087.66\n",
       "3126  56043   2242.85\n",
       "3127  56045   2400.13\n",
       "\n",
       "[3128 rows x 2 columns]"
      ]
     },
     "execution_count": 39,
     "metadata": {},
     "output_type": "execute_result"
    }
   ],
   "source": [
    "county_area = pd.read_csv('county_area.csv')\n",
    "county_area = county_area.drop([\"Areaname\"], axis=1)\n",
    "county_area = county_area.rename(columns={\"STCOU\": \"fips\"})\n",
    "county_area"
   ]
  },
  {
   "cell_type": "code",
   "execution_count": 4,
   "metadata": {},
   "outputs": [
    {
     "data": {
      "text/html": [
       "<div>\n",
       "<style scoped>\n",
       "    .dataframe tbody tr th:only-of-type {\n",
       "        vertical-align: middle;\n",
       "    }\n",
       "\n",
       "    .dataframe tbody tr th {\n",
       "        vertical-align: top;\n",
       "    }\n",
       "\n",
       "    .dataframe thead th {\n",
       "        text-align: right;\n",
       "    }\n",
       "</style>\n",
       "<table border=\"1\" class=\"dataframe\">\n",
       "  <thead>\n",
       "    <tr style=\"text-align: right;\">\n",
       "      <th></th>\n",
       "      <th>fips</th>\n",
       "      <th>NEVER</th>\n",
       "      <th>RARELY</th>\n",
       "      <th>SOMETIMES</th>\n",
       "      <th>FREQUENTLY</th>\n",
       "      <th>ALWAYS</th>\n",
       "    </tr>\n",
       "  </thead>\n",
       "  <tbody>\n",
       "    <tr>\n",
       "      <th>0</th>\n",
       "      <td>1001</td>\n",
       "      <td>0.053</td>\n",
       "      <td>0.074</td>\n",
       "      <td>0.134</td>\n",
       "      <td>0.295</td>\n",
       "      <td>0.444</td>\n",
       "    </tr>\n",
       "    <tr>\n",
       "      <th>1</th>\n",
       "      <td>1003</td>\n",
       "      <td>0.083</td>\n",
       "      <td>0.059</td>\n",
       "      <td>0.098</td>\n",
       "      <td>0.323</td>\n",
       "      <td>0.436</td>\n",
       "    </tr>\n",
       "    <tr>\n",
       "      <th>2</th>\n",
       "      <td>1005</td>\n",
       "      <td>0.067</td>\n",
       "      <td>0.121</td>\n",
       "      <td>0.120</td>\n",
       "      <td>0.201</td>\n",
       "      <td>0.491</td>\n",
       "    </tr>\n",
       "    <tr>\n",
       "      <th>3</th>\n",
       "      <td>1007</td>\n",
       "      <td>0.020</td>\n",
       "      <td>0.034</td>\n",
       "      <td>0.096</td>\n",
       "      <td>0.278</td>\n",
       "      <td>0.572</td>\n",
       "    </tr>\n",
       "    <tr>\n",
       "      <th>4</th>\n",
       "      <td>1009</td>\n",
       "      <td>0.053</td>\n",
       "      <td>0.114</td>\n",
       "      <td>0.180</td>\n",
       "      <td>0.194</td>\n",
       "      <td>0.459</td>\n",
       "    </tr>\n",
       "    <tr>\n",
       "      <th>...</th>\n",
       "      <td>...</td>\n",
       "      <td>...</td>\n",
       "      <td>...</td>\n",
       "      <td>...</td>\n",
       "      <td>...</td>\n",
       "      <td>...</td>\n",
       "    </tr>\n",
       "    <tr>\n",
       "      <th>3123</th>\n",
       "      <td>56037</td>\n",
       "      <td>0.061</td>\n",
       "      <td>0.295</td>\n",
       "      <td>0.230</td>\n",
       "      <td>0.146</td>\n",
       "      <td>0.268</td>\n",
       "    </tr>\n",
       "    <tr>\n",
       "      <th>3124</th>\n",
       "      <td>56039</td>\n",
       "      <td>0.095</td>\n",
       "      <td>0.157</td>\n",
       "      <td>0.160</td>\n",
       "      <td>0.247</td>\n",
       "      <td>0.340</td>\n",
       "    </tr>\n",
       "    <tr>\n",
       "      <th>3125</th>\n",
       "      <td>56041</td>\n",
       "      <td>0.098</td>\n",
       "      <td>0.278</td>\n",
       "      <td>0.154</td>\n",
       "      <td>0.207</td>\n",
       "      <td>0.264</td>\n",
       "    </tr>\n",
       "    <tr>\n",
       "      <th>3126</th>\n",
       "      <td>56043</td>\n",
       "      <td>0.204</td>\n",
       "      <td>0.155</td>\n",
       "      <td>0.069</td>\n",
       "      <td>0.285</td>\n",
       "      <td>0.287</td>\n",
       "    </tr>\n",
       "    <tr>\n",
       "      <th>3127</th>\n",
       "      <td>56045</td>\n",
       "      <td>0.142</td>\n",
       "      <td>0.129</td>\n",
       "      <td>0.148</td>\n",
       "      <td>0.207</td>\n",
       "      <td>0.374</td>\n",
       "    </tr>\n",
       "  </tbody>\n",
       "</table>\n",
       "<p>3128 rows × 6 columns</p>\n",
       "</div>"
      ],
      "text/plain": [
       "       fips  NEVER  RARELY  SOMETIMES  FREQUENTLY  ALWAYS\n",
       "0      1001  0.053   0.074      0.134       0.295   0.444\n",
       "1      1003  0.083   0.059      0.098       0.323   0.436\n",
       "2      1005  0.067   0.121      0.120       0.201   0.491\n",
       "3      1007  0.020   0.034      0.096       0.278   0.572\n",
       "4      1009  0.053   0.114      0.180       0.194   0.459\n",
       "...     ...    ...     ...        ...         ...     ...\n",
       "3123  56037  0.061   0.295      0.230       0.146   0.268\n",
       "3124  56039  0.095   0.157      0.160       0.247   0.340\n",
       "3125  56041  0.098   0.278      0.154       0.207   0.264\n",
       "3126  56043  0.204   0.155      0.069       0.285   0.287\n",
       "3127  56045  0.142   0.129      0.148       0.207   0.374\n",
       "\n",
       "[3128 rows x 6 columns]"
      ]
     },
     "execution_count": 4,
     "metadata": {},
     "output_type": "execute_result"
    }
   ],
   "source": [
    "county_mask_use = pd.read_csv('mask_use.csv')\n",
    "county_mask_use = county_mask_use.rename(columns={\"COUNTYFP\": \"fips\"})\n",
    "county_mask_use"
   ]
  },
  {
   "cell_type": "code",
   "execution_count": 5,
   "metadata": {},
   "outputs": [
    {
     "data": {
      "text/html": [
       "<div>\n",
       "<style scoped>\n",
       "    .dataframe tbody tr th:only-of-type {\n",
       "        vertical-align: middle;\n",
       "    }\n",
       "\n",
       "    .dataframe tbody tr th {\n",
       "        vertical-align: top;\n",
       "    }\n",
       "\n",
       "    .dataframe thead th {\n",
       "        text-align: right;\n",
       "    }\n",
       "</style>\n",
       "<table border=\"1\" class=\"dataframe\">\n",
       "  <thead>\n",
       "    <tr style=\"text-align: right;\">\n",
       "      <th></th>\n",
       "      <th>fips</th>\n",
       "      <th>cases</th>\n",
       "      <th>deaths</th>\n",
       "    </tr>\n",
       "  </thead>\n",
       "  <tbody>\n",
       "    <tr>\n",
       "      <th>0</th>\n",
       "      <td>1001</td>\n",
       "      <td>2059</td>\n",
       "      <td>31</td>\n",
       "    </tr>\n",
       "    <tr>\n",
       "      <th>1</th>\n",
       "      <td>1003</td>\n",
       "      <td>6658</td>\n",
       "      <td>69</td>\n",
       "    </tr>\n",
       "    <tr>\n",
       "      <th>2</th>\n",
       "      <td>1005</td>\n",
       "      <td>1033</td>\n",
       "      <td>9</td>\n",
       "    </tr>\n",
       "    <tr>\n",
       "      <th>3</th>\n",
       "      <td>1007</td>\n",
       "      <td>840</td>\n",
       "      <td>14</td>\n",
       "    </tr>\n",
       "    <tr>\n",
       "      <th>4</th>\n",
       "      <td>1009</td>\n",
       "      <td>1932</td>\n",
       "      <td>25</td>\n",
       "    </tr>\n",
       "    <tr>\n",
       "      <th>...</th>\n",
       "      <td>...</td>\n",
       "      <td>...</td>\n",
       "      <td>...</td>\n",
       "    </tr>\n",
       "    <tr>\n",
       "      <th>3123</th>\n",
       "      <td>56037</td>\n",
       "      <td>462</td>\n",
       "      <td>2</td>\n",
       "    </tr>\n",
       "    <tr>\n",
       "      <th>3124</th>\n",
       "      <td>56039</td>\n",
       "      <td>747</td>\n",
       "      <td>1</td>\n",
       "    </tr>\n",
       "    <tr>\n",
       "      <th>3125</th>\n",
       "      <td>56041</td>\n",
       "      <td>431</td>\n",
       "      <td>3</td>\n",
       "    </tr>\n",
       "    <tr>\n",
       "      <th>3126</th>\n",
       "      <td>56043</td>\n",
       "      <td>144</td>\n",
       "      <td>7</td>\n",
       "    </tr>\n",
       "    <tr>\n",
       "      <th>3127</th>\n",
       "      <td>56045</td>\n",
       "      <td>127</td>\n",
       "      <td>0</td>\n",
       "    </tr>\n",
       "  </tbody>\n",
       "</table>\n",
       "<p>3128 rows × 3 columns</p>\n",
       "</div>"
      ],
      "text/plain": [
       "       fips  cases  deaths\n",
       "0      1001   2059      31\n",
       "1      1003   6658      69\n",
       "2      1005   1033       9\n",
       "3      1007    840      14\n",
       "4      1009   1932      25\n",
       "...     ...    ...     ...\n",
       "3123  56037    462       2\n",
       "3124  56039    747       1\n",
       "3125  56041    431       3\n",
       "3126  56043    144       7\n",
       "3127  56045    127       0\n",
       "\n",
       "[3128 rows x 3 columns]"
      ]
     },
     "execution_count": 5,
     "metadata": {},
     "output_type": "execute_result"
    }
   ],
   "source": [
    "county_cases = pd.read_csv('county_cases.csv')\n",
    "county_cases = county_cases.drop([\"county\",\"state\"], axis=1)\n",
    "county_cases"
   ]
  },
  {
   "cell_type": "code",
   "execution_count": 6,
   "metadata": {},
   "outputs": [
    {
     "data": {
      "text/html": [
       "<div>\n",
       "<style scoped>\n",
       "    .dataframe tbody tr th:only-of-type {\n",
       "        vertical-align: middle;\n",
       "    }\n",
       "\n",
       "    .dataframe tbody tr th {\n",
       "        vertical-align: top;\n",
       "    }\n",
       "\n",
       "    .dataframe thead th {\n",
       "        text-align: right;\n",
       "    }\n",
       "</style>\n",
       "<table border=\"1\" class=\"dataframe\">\n",
       "  <thead>\n",
       "    <tr style=\"text-align: right;\">\n",
       "      <th></th>\n",
       "      <th>fips</th>\n",
       "      <th>POPESTIMATE2019</th>\n",
       "    </tr>\n",
       "  </thead>\n",
       "  <tbody>\n",
       "    <tr>\n",
       "      <th>0</th>\n",
       "      <td>1001</td>\n",
       "      <td>55869</td>\n",
       "    </tr>\n",
       "    <tr>\n",
       "      <th>1</th>\n",
       "      <td>1003</td>\n",
       "      <td>223234</td>\n",
       "    </tr>\n",
       "    <tr>\n",
       "      <th>2</th>\n",
       "      <td>1005</td>\n",
       "      <td>24686</td>\n",
       "    </tr>\n",
       "    <tr>\n",
       "      <th>3</th>\n",
       "      <td>1007</td>\n",
       "      <td>22394</td>\n",
       "    </tr>\n",
       "    <tr>\n",
       "      <th>4</th>\n",
       "      <td>1009</td>\n",
       "      <td>57826</td>\n",
       "    </tr>\n",
       "    <tr>\n",
       "      <th>...</th>\n",
       "      <td>...</td>\n",
       "      <td>...</td>\n",
       "    </tr>\n",
       "    <tr>\n",
       "      <th>3123</th>\n",
       "      <td>56037</td>\n",
       "      <td>42343</td>\n",
       "    </tr>\n",
       "    <tr>\n",
       "      <th>3124</th>\n",
       "      <td>56039</td>\n",
       "      <td>23464</td>\n",
       "    </tr>\n",
       "    <tr>\n",
       "      <th>3125</th>\n",
       "      <td>56041</td>\n",
       "      <td>20226</td>\n",
       "    </tr>\n",
       "    <tr>\n",
       "      <th>3126</th>\n",
       "      <td>56043</td>\n",
       "      <td>7805</td>\n",
       "    </tr>\n",
       "    <tr>\n",
       "      <th>3127</th>\n",
       "      <td>56045</td>\n",
       "      <td>6927</td>\n",
       "    </tr>\n",
       "  </tbody>\n",
       "</table>\n",
       "<p>3128 rows × 2 columns</p>\n",
       "</div>"
      ],
      "text/plain": [
       "       fips  POPESTIMATE2019\n",
       "0      1001            55869\n",
       "1      1003           223234\n",
       "2      1005            24686\n",
       "3      1007            22394\n",
       "4      1009            57826\n",
       "...     ...              ...\n",
       "3123  56037            42343\n",
       "3124  56039            23464\n",
       "3125  56041            20226\n",
       "3126  56043             7805\n",
       "3127  56045             6927\n",
       "\n",
       "[3128 rows x 2 columns]"
      ]
     },
     "execution_count": 6,
     "metadata": {},
     "output_type": "execute_result"
    }
   ],
   "source": [
    "county_pop = pd.read_csv('county_pop.csv', encoding='latin-1')\n",
    "county_pop = county_pop.drop(['STNAME','CTYNAME'], axis=1)\n",
    "county_pop = county_pop.rename(columns={\"COUNTY\": \"fips\"})\n",
    "county_pop"
   ]
  },
  {
   "cell_type": "markdown",
   "metadata": {},
   "source": [
    "## Merging Dataframes Together"
   ]
  },
  {
   "cell_type": "code",
   "execution_count": 7,
   "metadata": {},
   "outputs": [
    {
     "data": {
      "text/html": [
       "<div>\n",
       "<style scoped>\n",
       "    .dataframe tbody tr th:only-of-type {\n",
       "        vertical-align: middle;\n",
       "    }\n",
       "\n",
       "    .dataframe tbody tr th {\n",
       "        vertical-align: top;\n",
       "    }\n",
       "\n",
       "    .dataframe thead th {\n",
       "        text-align: right;\n",
       "    }\n",
       "</style>\n",
       "<table border=\"1\" class=\"dataframe\">\n",
       "  <thead>\n",
       "    <tr style=\"text-align: right;\">\n",
       "      <th></th>\n",
       "      <th>fips</th>\n",
       "      <th>POPESTIMATE2019</th>\n",
       "      <th>NEVER</th>\n",
       "      <th>RARELY</th>\n",
       "      <th>SOMETIMES</th>\n",
       "      <th>FREQUENTLY</th>\n",
       "      <th>ALWAYS</th>\n",
       "      <th>AREA</th>\n",
       "      <th>POP_DEN</th>\n",
       "      <th>POP_DENxALWAYS</th>\n",
       "      <th>POP_DENxFREQUENTLY</th>\n",
       "      <th>POP_DENxSOMETIMES</th>\n",
       "      <th>POP_DENxRARELY</th>\n",
       "      <th>POP_DENxNEVER</th>\n",
       "      <th>POPxALWAYS</th>\n",
       "      <th>POPxFREQUENTLY</th>\n",
       "      <th>POPxSOMETIMES</th>\n",
       "      <th>POPxRARELY</th>\n",
       "      <th>POPxNEVER</th>\n",
       "    </tr>\n",
       "  </thead>\n",
       "  <tbody>\n",
       "    <tr>\n",
       "      <th>0</th>\n",
       "      <td>1001</td>\n",
       "      <td>55869</td>\n",
       "      <td>0.053</td>\n",
       "      <td>0.074</td>\n",
       "      <td>0.134</td>\n",
       "      <td>0.295</td>\n",
       "      <td>0.444</td>\n",
       "      <td>604.49</td>\n",
       "      <td>92.423365</td>\n",
       "      <td>41.035974</td>\n",
       "      <td>27.264893</td>\n",
       "      <td>12.384731</td>\n",
       "      <td>6.839329</td>\n",
       "      <td>4.898438</td>\n",
       "      <td>24805.836</td>\n",
       "      <td>16481.355</td>\n",
       "      <td>7486.446</td>\n",
       "      <td>4134.306</td>\n",
       "      <td>2961.057</td>\n",
       "    </tr>\n",
       "    <tr>\n",
       "      <th>1</th>\n",
       "      <td>1003</td>\n",
       "      <td>223234</td>\n",
       "      <td>0.083</td>\n",
       "      <td>0.059</td>\n",
       "      <td>0.098</td>\n",
       "      <td>0.323</td>\n",
       "      <td>0.436</td>\n",
       "      <td>2027.08</td>\n",
       "      <td>110.125895</td>\n",
       "      <td>48.014890</td>\n",
       "      <td>35.570664</td>\n",
       "      <td>10.792338</td>\n",
       "      <td>6.497428</td>\n",
       "      <td>9.140449</td>\n",
       "      <td>97330.024</td>\n",
       "      <td>72104.582</td>\n",
       "      <td>21876.932</td>\n",
       "      <td>13170.806</td>\n",
       "      <td>18528.422</td>\n",
       "    </tr>\n",
       "    <tr>\n",
       "      <th>2</th>\n",
       "      <td>1005</td>\n",
       "      <td>24686</td>\n",
       "      <td>0.067</td>\n",
       "      <td>0.121</td>\n",
       "      <td>0.120</td>\n",
       "      <td>0.201</td>\n",
       "      <td>0.491</td>\n",
       "      <td>904.59</td>\n",
       "      <td>27.289711</td>\n",
       "      <td>13.399248</td>\n",
       "      <td>5.485232</td>\n",
       "      <td>3.274765</td>\n",
       "      <td>3.302055</td>\n",
       "      <td>1.828411</td>\n",
       "      <td>12120.826</td>\n",
       "      <td>4961.886</td>\n",
       "      <td>2962.320</td>\n",
       "      <td>2987.006</td>\n",
       "      <td>1653.962</td>\n",
       "    </tr>\n",
       "    <tr>\n",
       "      <th>3</th>\n",
       "      <td>1007</td>\n",
       "      <td>22394</td>\n",
       "      <td>0.020</td>\n",
       "      <td>0.034</td>\n",
       "      <td>0.096</td>\n",
       "      <td>0.278</td>\n",
       "      <td>0.572</td>\n",
       "      <td>625.50</td>\n",
       "      <td>35.801759</td>\n",
       "      <td>20.478606</td>\n",
       "      <td>9.952889</td>\n",
       "      <td>3.436969</td>\n",
       "      <td>1.217260</td>\n",
       "      <td>0.716035</td>\n",
       "      <td>12809.368</td>\n",
       "      <td>6225.532</td>\n",
       "      <td>2149.824</td>\n",
       "      <td>761.396</td>\n",
       "      <td>447.880</td>\n",
       "    </tr>\n",
       "    <tr>\n",
       "      <th>4</th>\n",
       "      <td>1009</td>\n",
       "      <td>57826</td>\n",
       "      <td>0.053</td>\n",
       "      <td>0.114</td>\n",
       "      <td>0.180</td>\n",
       "      <td>0.194</td>\n",
       "      <td>0.459</td>\n",
       "      <td>650.65</td>\n",
       "      <td>88.874203</td>\n",
       "      <td>40.793259</td>\n",
       "      <td>17.241595</td>\n",
       "      <td>15.997356</td>\n",
       "      <td>10.131659</td>\n",
       "      <td>4.710333</td>\n",
       "      <td>26542.134</td>\n",
       "      <td>11218.244</td>\n",
       "      <td>10408.680</td>\n",
       "      <td>6592.164</td>\n",
       "      <td>3064.778</td>\n",
       "    </tr>\n",
       "    <tr>\n",
       "      <th>...</th>\n",
       "      <td>...</td>\n",
       "      <td>...</td>\n",
       "      <td>...</td>\n",
       "      <td>...</td>\n",
       "      <td>...</td>\n",
       "      <td>...</td>\n",
       "      <td>...</td>\n",
       "      <td>...</td>\n",
       "      <td>...</td>\n",
       "      <td>...</td>\n",
       "      <td>...</td>\n",
       "      <td>...</td>\n",
       "      <td>...</td>\n",
       "      <td>...</td>\n",
       "      <td>...</td>\n",
       "      <td>...</td>\n",
       "      <td>...</td>\n",
       "      <td>...</td>\n",
       "      <td>...</td>\n",
       "    </tr>\n",
       "    <tr>\n",
       "      <th>3123</th>\n",
       "      <td>56037</td>\n",
       "      <td>42343</td>\n",
       "      <td>0.061</td>\n",
       "      <td>0.295</td>\n",
       "      <td>0.230</td>\n",
       "      <td>0.146</td>\n",
       "      <td>0.268</td>\n",
       "      <td>10491.73</td>\n",
       "      <td>4.035845</td>\n",
       "      <td>1.081607</td>\n",
       "      <td>0.589233</td>\n",
       "      <td>0.928244</td>\n",
       "      <td>1.190574</td>\n",
       "      <td>0.246187</td>\n",
       "      <td>11347.924</td>\n",
       "      <td>6182.078</td>\n",
       "      <td>9738.890</td>\n",
       "      <td>12491.185</td>\n",
       "      <td>2582.923</td>\n",
       "    </tr>\n",
       "    <tr>\n",
       "      <th>3124</th>\n",
       "      <td>56039</td>\n",
       "      <td>23464</td>\n",
       "      <td>0.095</td>\n",
       "      <td>0.157</td>\n",
       "      <td>0.160</td>\n",
       "      <td>0.247</td>\n",
       "      <td>0.340</td>\n",
       "      <td>4221.96</td>\n",
       "      <td>5.557608</td>\n",
       "      <td>1.889587</td>\n",
       "      <td>1.372729</td>\n",
       "      <td>0.889217</td>\n",
       "      <td>0.872545</td>\n",
       "      <td>0.527973</td>\n",
       "      <td>7977.760</td>\n",
       "      <td>5795.608</td>\n",
       "      <td>3754.240</td>\n",
       "      <td>3683.848</td>\n",
       "      <td>2229.080</td>\n",
       "    </tr>\n",
       "    <tr>\n",
       "      <th>3125</th>\n",
       "      <td>56041</td>\n",
       "      <td>20226</td>\n",
       "      <td>0.098</td>\n",
       "      <td>0.278</td>\n",
       "      <td>0.154</td>\n",
       "      <td>0.207</td>\n",
       "      <td>0.264</td>\n",
       "      <td>2087.66</td>\n",
       "      <td>9.688359</td>\n",
       "      <td>2.557727</td>\n",
       "      <td>2.005490</td>\n",
       "      <td>1.492007</td>\n",
       "      <td>2.693364</td>\n",
       "      <td>0.949459</td>\n",
       "      <td>5339.664</td>\n",
       "      <td>4186.782</td>\n",
       "      <td>3114.804</td>\n",
       "      <td>5622.828</td>\n",
       "      <td>1982.148</td>\n",
       "    </tr>\n",
       "    <tr>\n",
       "      <th>3126</th>\n",
       "      <td>56043</td>\n",
       "      <td>7805</td>\n",
       "      <td>0.204</td>\n",
       "      <td>0.155</td>\n",
       "      <td>0.069</td>\n",
       "      <td>0.285</td>\n",
       "      <td>0.287</td>\n",
       "      <td>2242.85</td>\n",
       "      <td>3.479947</td>\n",
       "      <td>0.998745</td>\n",
       "      <td>0.991785</td>\n",
       "      <td>0.240116</td>\n",
       "      <td>0.539392</td>\n",
       "      <td>0.709909</td>\n",
       "      <td>2240.035</td>\n",
       "      <td>2224.425</td>\n",
       "      <td>538.545</td>\n",
       "      <td>1209.775</td>\n",
       "      <td>1592.220</td>\n",
       "    </tr>\n",
       "    <tr>\n",
       "      <th>3127</th>\n",
       "      <td>56045</td>\n",
       "      <td>6927</td>\n",
       "      <td>0.142</td>\n",
       "      <td>0.129</td>\n",
       "      <td>0.148</td>\n",
       "      <td>0.207</td>\n",
       "      <td>0.374</td>\n",
       "      <td>2400.13</td>\n",
       "      <td>2.886094</td>\n",
       "      <td>1.079399</td>\n",
       "      <td>0.597421</td>\n",
       "      <td>0.427142</td>\n",
       "      <td>0.372306</td>\n",
       "      <td>0.409825</td>\n",
       "      <td>2590.698</td>\n",
       "      <td>1433.889</td>\n",
       "      <td>1025.196</td>\n",
       "      <td>893.583</td>\n",
       "      <td>983.634</td>\n",
       "    </tr>\n",
       "  </tbody>\n",
       "</table>\n",
       "<p>3128 rows × 19 columns</p>\n",
       "</div>"
      ],
      "text/plain": [
       "       fips  POPESTIMATE2019  NEVER  RARELY  SOMETIMES  FREQUENTLY  ALWAYS  \\\n",
       "0      1001            55869  0.053   0.074      0.134       0.295   0.444   \n",
       "1      1003           223234  0.083   0.059      0.098       0.323   0.436   \n",
       "2      1005            24686  0.067   0.121      0.120       0.201   0.491   \n",
       "3      1007            22394  0.020   0.034      0.096       0.278   0.572   \n",
       "4      1009            57826  0.053   0.114      0.180       0.194   0.459   \n",
       "...     ...              ...    ...     ...        ...         ...     ...   \n",
       "3123  56037            42343  0.061   0.295      0.230       0.146   0.268   \n",
       "3124  56039            23464  0.095   0.157      0.160       0.247   0.340   \n",
       "3125  56041            20226  0.098   0.278      0.154       0.207   0.264   \n",
       "3126  56043             7805  0.204   0.155      0.069       0.285   0.287   \n",
       "3127  56045             6927  0.142   0.129      0.148       0.207   0.374   \n",
       "\n",
       "          AREA     POP_DEN  POP_DENxALWAYS  POP_DENxFREQUENTLY  \\\n",
       "0       604.49   92.423365       41.035974           27.264893   \n",
       "1      2027.08  110.125895       48.014890           35.570664   \n",
       "2       904.59   27.289711       13.399248            5.485232   \n",
       "3       625.50   35.801759       20.478606            9.952889   \n",
       "4       650.65   88.874203       40.793259           17.241595   \n",
       "...        ...         ...             ...                 ...   \n",
       "3123  10491.73    4.035845        1.081607            0.589233   \n",
       "3124   4221.96    5.557608        1.889587            1.372729   \n",
       "3125   2087.66    9.688359        2.557727            2.005490   \n",
       "3126   2242.85    3.479947        0.998745            0.991785   \n",
       "3127   2400.13    2.886094        1.079399            0.597421   \n",
       "\n",
       "      POP_DENxSOMETIMES  POP_DENxRARELY  POP_DENxNEVER  POPxALWAYS  \\\n",
       "0             12.384731        6.839329       4.898438   24805.836   \n",
       "1             10.792338        6.497428       9.140449   97330.024   \n",
       "2              3.274765        3.302055       1.828411   12120.826   \n",
       "3              3.436969        1.217260       0.716035   12809.368   \n",
       "4             15.997356       10.131659       4.710333   26542.134   \n",
       "...                 ...             ...            ...         ...   \n",
       "3123           0.928244        1.190574       0.246187   11347.924   \n",
       "3124           0.889217        0.872545       0.527973    7977.760   \n",
       "3125           1.492007        2.693364       0.949459    5339.664   \n",
       "3126           0.240116        0.539392       0.709909    2240.035   \n",
       "3127           0.427142        0.372306       0.409825    2590.698   \n",
       "\n",
       "      POPxFREQUENTLY  POPxSOMETIMES  POPxRARELY  POPxNEVER  \n",
       "0          16481.355       7486.446    4134.306   2961.057  \n",
       "1          72104.582      21876.932   13170.806  18528.422  \n",
       "2           4961.886       2962.320    2987.006   1653.962  \n",
       "3           6225.532       2149.824     761.396    447.880  \n",
       "4          11218.244      10408.680    6592.164   3064.778  \n",
       "...              ...            ...         ...        ...  \n",
       "3123        6182.078       9738.890   12491.185   2582.923  \n",
       "3124        5795.608       3754.240    3683.848   2229.080  \n",
       "3125        4186.782       3114.804    5622.828   1982.148  \n",
       "3126        2224.425        538.545    1209.775   1592.220  \n",
       "3127        1433.889       1025.196     893.583    983.634  \n",
       "\n",
       "[3128 rows x 19 columns]"
      ]
     },
     "execution_count": 7,
     "metadata": {},
     "output_type": "execute_result"
    }
   ],
   "source": [
    "df = county_pop.merge(county_mask_use, how='left', on=\"fips\")\n",
    "df = df.merge(county_area, how=\"left\", on=\"fips\")\n",
    "df['POP_DEN'] = df['POPESTIMATE2019'] / df['AREA']\n",
    "df['POP_DENxALWAYS'] = df['POP_DEN'] * df['ALWAYS']\n",
    "df['POP_DENxFREQUENTLY'] =df['POP_DEN'] * df['FREQUENTLY']\n",
    "df['POP_DENxSOMETIMES'] = df['POP_DEN'] * df['SOMETIMES']\n",
    "df['POP_DENxRARELY'] = df['POP_DEN'] * df['RARELY']\n",
    "df['POP_DENxNEVER'] = df['POP_DEN'] * df['NEVER']\n",
    "df['POPxALWAYS'] = df['POPESTIMATE2019'] * df['ALWAYS']\n",
    "df['POPxFREQUENTLY'] =df['POPESTIMATE2019'] * df['FREQUENTLY']\n",
    "df['POPxSOMETIMES'] = df['POPESTIMATE2019'] * df['SOMETIMES']\n",
    "df['POPxRARELY'] = df['POPESTIMATE2019'] * df['RARELY']\n",
    "df['POPxNEVER'] = df['POPESTIMATE2019'] * df['NEVER']\n",
    "df"
   ]
  },
  {
   "cell_type": "markdown",
   "metadata": {},
   "source": [
    "## Normalize Data"
   ]
  },
  {
   "cell_type": "code",
   "execution_count": 8,
   "metadata": {},
   "outputs": [],
   "source": [
    "def normalize(column):\n",
    "    normal = []\n",
    "    for value in column:\n",
    "        value = (value - min(column)) / (max(column) - min(column))\n",
    "        normal.append(value)\n",
    "    return normal"
   ]
  },
  {
   "cell_type": "code",
   "execution_count": 9,
   "metadata": {},
   "outputs": [],
   "source": [
    "def new_normal(dataframe):\n",
    "    normal = robust_scale(dataframe)\n",
    "    return normal"
   ]
  },
  {
   "cell_type": "code",
   "execution_count": 10,
   "metadata": {},
   "outputs": [
    {
     "data": {
      "text/html": [
       "<div>\n",
       "<style scoped>\n",
       "    .dataframe tbody tr th:only-of-type {\n",
       "        vertical-align: middle;\n",
       "    }\n",
       "\n",
       "    .dataframe tbody tr th {\n",
       "        vertical-align: top;\n",
       "    }\n",
       "\n",
       "    .dataframe thead th {\n",
       "        text-align: right;\n",
       "    }\n",
       "</style>\n",
       "<table border=\"1\" class=\"dataframe\">\n",
       "  <thead>\n",
       "    <tr style=\"text-align: right;\">\n",
       "      <th></th>\n",
       "      <th>fips</th>\n",
       "      <th>cases</th>\n",
       "      <th>deaths</th>\n",
       "      <th>POPESTIMATE2019</th>\n",
       "      <th>NEVER</th>\n",
       "      <th>RARELY</th>\n",
       "      <th>SOMETIMES</th>\n",
       "      <th>FREQUENTLY</th>\n",
       "      <th>ALWAYS</th>\n",
       "      <th>AREA</th>\n",
       "      <th>...</th>\n",
       "      <th>POP_DENxALWAYS</th>\n",
       "      <th>POP_DENxFREQUENTLY</th>\n",
       "      <th>POP_DENxSOMETIMES</th>\n",
       "      <th>POP_DENxRARELY</th>\n",
       "      <th>POP_DENxNEVER</th>\n",
       "      <th>POPxALWAYS</th>\n",
       "      <th>POPxFREQUENTLY</th>\n",
       "      <th>POPxSOMETIMES</th>\n",
       "      <th>POPxRARELY</th>\n",
       "      <th>POPxNEVER</th>\n",
       "    </tr>\n",
       "  </thead>\n",
       "  <tbody>\n",
       "    <tr>\n",
       "      <th>0</th>\n",
       "      <td>1001</td>\n",
       "      <td>2059</td>\n",
       "      <td>31</td>\n",
       "      <td>0.531522</td>\n",
       "      <td>-0.189873</td>\n",
       "      <td>0.013333</td>\n",
       "      <td>0.230769</td>\n",
       "      <td>1.096386</td>\n",
       "      <td>-0.241733</td>\n",
       "      <td>-0.087260</td>\n",
       "      <td>...</td>\n",
       "      <td>0.392066</td>\n",
       "      <td>0.986415</td>\n",
       "      <td>0.686119</td>\n",
       "      <td>0.574735</td>\n",
       "      <td>0.322373</td>\n",
       "      <td>0.388149</td>\n",
       "      <td>0.963127</td>\n",
       "      <td>0.700074</td>\n",
       "      <td>0.560736</td>\n",
       "      <td>0.323106</td>\n",
       "    </tr>\n",
       "    <tr>\n",
       "      <th>1</th>\n",
       "      <td>1003</td>\n",
       "      <td>6658</td>\n",
       "      <td>69</td>\n",
       "      <td>3.482726</td>\n",
       "      <td>0.189873</td>\n",
       "      <td>-0.186667</td>\n",
       "      <td>-0.230769</td>\n",
       "      <td>1.433735</td>\n",
       "      <td>-0.278221</td>\n",
       "      <td>2.556161</td>\n",
       "      <td>...</td>\n",
       "      <td>0.524723</td>\n",
       "      <td>1.416847</td>\n",
       "      <td>0.544150</td>\n",
       "      <td>0.524210</td>\n",
       "      <td>0.961035</td>\n",
       "      <td>2.663221</td>\n",
       "      <td>5.688549</td>\n",
       "      <td>2.873971</td>\n",
       "      <td>2.793491</td>\n",
       "      <td>4.353203</td>\n",
       "    </tr>\n",
       "    <tr>\n",
       "      <th>2</th>\n",
       "      <td>1005</td>\n",
       "      <td>1033</td>\n",
       "      <td>9</td>\n",
       "      <td>-0.018339</td>\n",
       "      <td>-0.012658</td>\n",
       "      <td>0.640000</td>\n",
       "      <td>0.051282</td>\n",
       "      <td>-0.036145</td>\n",
       "      <td>-0.027366</td>\n",
       "      <td>0.470378</td>\n",
       "      <td>...</td>\n",
       "      <td>-0.133261</td>\n",
       "      <td>-0.142277</td>\n",
       "      <td>-0.126075</td>\n",
       "      <td>0.052016</td>\n",
       "      <td>-0.139840</td>\n",
       "      <td>-0.009778</td>\n",
       "      <td>-0.015499</td>\n",
       "      <td>0.016638</td>\n",
       "      <td>0.277259</td>\n",
       "      <td>-0.015276</td>\n",
       "    </tr>\n",
       "    <tr>\n",
       "      <th>3</th>\n",
       "      <td>1007</td>\n",
       "      <td>840</td>\n",
       "      <td>14</td>\n",
       "      <td>-0.058754</td>\n",
       "      <td>-0.607595</td>\n",
       "      <td>-0.520000</td>\n",
       "      <td>-0.256410</td>\n",
       "      <td>0.891566</td>\n",
       "      <td>0.342075</td>\n",
       "      <td>-0.048220</td>\n",
       "      <td>...</td>\n",
       "      <td>0.001306</td>\n",
       "      <td>0.089251</td>\n",
       "      <td>-0.111614</td>\n",
       "      <td>-0.256064</td>\n",
       "      <td>-0.307315</td>\n",
       "      <td>0.011821</td>\n",
       "      <td>0.091853</td>\n",
       "      <td>-0.106102</td>\n",
       "      <td>-0.272649</td>\n",
       "      <td>-0.327508</td>\n",
       "    </tr>\n",
       "    <tr>\n",
       "      <th>4</th>\n",
       "      <td>1009</td>\n",
       "      <td>1932</td>\n",
       "      <td>25</td>\n",
       "      <td>0.566030</td>\n",
       "      <td>-0.189873</td>\n",
       "      <td>0.546667</td>\n",
       "      <td>0.820513</td>\n",
       "      <td>-0.120482</td>\n",
       "      <td>-0.173318</td>\n",
       "      <td>-0.001487</td>\n",
       "      <td>...</td>\n",
       "      <td>0.387452</td>\n",
       "      <td>0.466975</td>\n",
       "      <td>1.008201</td>\n",
       "      <td>1.061257</td>\n",
       "      <td>0.294052</td>\n",
       "      <td>0.442616</td>\n",
       "      <td>0.516004</td>\n",
       "      <td>1.141521</td>\n",
       "      <td>1.168028</td>\n",
       "      <td>0.349958</td>\n",
       "    </tr>\n",
       "    <tr>\n",
       "      <th>...</th>\n",
       "      <td>...</td>\n",
       "      <td>...</td>\n",
       "      <td>...</td>\n",
       "      <td>...</td>\n",
       "      <td>...</td>\n",
       "      <td>...</td>\n",
       "      <td>...</td>\n",
       "      <td>...</td>\n",
       "      <td>...</td>\n",
       "      <td>...</td>\n",
       "      <td>...</td>\n",
       "      <td>...</td>\n",
       "      <td>...</td>\n",
       "      <td>...</td>\n",
       "      <td>...</td>\n",
       "      <td>...</td>\n",
       "      <td>...</td>\n",
       "      <td>...</td>\n",
       "      <td>...</td>\n",
       "      <td>...</td>\n",
       "      <td>...</td>\n",
       "    </tr>\n",
       "    <tr>\n",
       "      <th>3123</th>\n",
       "      <td>56037</td>\n",
       "      <td>462</td>\n",
       "      <td>2</td>\n",
       "      <td>0.293013</td>\n",
       "      <td>-0.088608</td>\n",
       "      <td>2.960000</td>\n",
       "      <td>1.461538</td>\n",
       "      <td>-0.698795</td>\n",
       "      <td>-1.044470</td>\n",
       "      <td>18.284960</td>\n",
       "      <td>...</td>\n",
       "      <td>-0.367398</td>\n",
       "      <td>-0.396004</td>\n",
       "      <td>-0.335278</td>\n",
       "      <td>-0.260007</td>\n",
       "      <td>-0.378054</td>\n",
       "      <td>-0.034024</td>\n",
       "      <td>0.088161</td>\n",
       "      <td>1.040339</td>\n",
       "      <td>2.625569</td>\n",
       "      <td>0.225214</td>\n",
       "    </tr>\n",
       "    <tr>\n",
       "      <th>3124</th>\n",
       "      <td>56039</td>\n",
       "      <td>747</td>\n",
       "      <td>1</td>\n",
       "      <td>-0.039887</td>\n",
       "      <td>0.341772</td>\n",
       "      <td>1.120000</td>\n",
       "      <td>0.564103</td>\n",
       "      <td>0.518072</td>\n",
       "      <td>-0.716078</td>\n",
       "      <td>6.634632</td>\n",
       "      <td>...</td>\n",
       "      <td>-0.352040</td>\n",
       "      <td>-0.355401</td>\n",
       "      <td>-0.338757</td>\n",
       "      <td>-0.307004</td>\n",
       "      <td>-0.335629</td>\n",
       "      <td>-0.139745</td>\n",
       "      <td>0.055329</td>\n",
       "      <td>0.136269</td>\n",
       "      <td>0.449436</td>\n",
       "      <td>0.133611</td>\n",
       "    </tr>\n",
       "    <tr>\n",
       "      <th>3125</th>\n",
       "      <td>56041</td>\n",
       "      <td>431</td>\n",
       "      <td>3</td>\n",
       "      <td>-0.096983</td>\n",
       "      <td>0.379747</td>\n",
       "      <td>2.733333</td>\n",
       "      <td>0.487179</td>\n",
       "      <td>0.036145</td>\n",
       "      <td>-1.062714</td>\n",
       "      <td>2.668729</td>\n",
       "      <td>...</td>\n",
       "      <td>-0.339340</td>\n",
       "      <td>-0.322609</td>\n",
       "      <td>-0.285016</td>\n",
       "      <td>-0.037933</td>\n",
       "      <td>-0.272172</td>\n",
       "      <td>-0.222502</td>\n",
       "      <td>-0.081348</td>\n",
       "      <td>0.039673</td>\n",
       "      <td>0.928522</td>\n",
       "      <td>0.069685</td>\n",
       "    </tr>\n",
       "    <tr>\n",
       "      <th>3126</th>\n",
       "      <td>56043</td>\n",
       "      <td>144</td>\n",
       "      <td>7</td>\n",
       "      <td>-0.316007</td>\n",
       "      <td>1.721519</td>\n",
       "      <td>1.093333</td>\n",
       "      <td>-0.602564</td>\n",
       "      <td>0.975904</td>\n",
       "      <td>-0.957811</td>\n",
       "      <td>2.957099</td>\n",
       "      <td>...</td>\n",
       "      <td>-0.368973</td>\n",
       "      <td>-0.375142</td>\n",
       "      <td>-0.396628</td>\n",
       "      <td>-0.356235</td>\n",
       "      <td>-0.308237</td>\n",
       "      <td>-0.319737</td>\n",
       "      <td>-0.248058</td>\n",
       "      <td>-0.349510</td>\n",
       "      <td>-0.161863</td>\n",
       "      <td>-0.031260</td>\n",
       "    </tr>\n",
       "    <tr>\n",
       "      <th>3127</th>\n",
       "      <td>56045</td>\n",
       "      <td>127</td>\n",
       "      <td>0</td>\n",
       "      <td>-0.331489</td>\n",
       "      <td>0.936709</td>\n",
       "      <td>0.746667</td>\n",
       "      <td>0.410256</td>\n",
       "      <td>0.036145</td>\n",
       "      <td>-0.561003</td>\n",
       "      <td>3.249353</td>\n",
       "      <td>...</td>\n",
       "      <td>-0.367440</td>\n",
       "      <td>-0.395580</td>\n",
       "      <td>-0.379954</td>\n",
       "      <td>-0.380926</td>\n",
       "      <td>-0.353417</td>\n",
       "      <td>-0.308737</td>\n",
       "      <td>-0.315217</td>\n",
       "      <td>-0.275994</td>\n",
       "      <td>-0.239988</td>\n",
       "      <td>-0.188811</td>\n",
       "    </tr>\n",
       "  </tbody>\n",
       "</table>\n",
       "<p>3128 rows × 21 columns</p>\n",
       "</div>"
      ],
      "text/plain": [
       "       fips  cases  deaths  POPESTIMATE2019     NEVER    RARELY  SOMETIMES  \\\n",
       "0      1001   2059      31         0.531522 -0.189873  0.013333   0.230769   \n",
       "1      1003   6658      69         3.482726  0.189873 -0.186667  -0.230769   \n",
       "2      1005   1033       9        -0.018339 -0.012658  0.640000   0.051282   \n",
       "3      1007    840      14        -0.058754 -0.607595 -0.520000  -0.256410   \n",
       "4      1009   1932      25         0.566030 -0.189873  0.546667   0.820513   \n",
       "...     ...    ...     ...              ...       ...       ...        ...   \n",
       "3123  56037    462       2         0.293013 -0.088608  2.960000   1.461538   \n",
       "3124  56039    747       1        -0.039887  0.341772  1.120000   0.564103   \n",
       "3125  56041    431       3        -0.096983  0.379747  2.733333   0.487179   \n",
       "3126  56043    144       7        -0.316007  1.721519  1.093333  -0.602564   \n",
       "3127  56045    127       0        -0.331489  0.936709  0.746667   0.410256   \n",
       "\n",
       "      FREQUENTLY    ALWAYS       AREA  ...  POP_DENxALWAYS  \\\n",
       "0       1.096386 -0.241733  -0.087260  ...        0.392066   \n",
       "1       1.433735 -0.278221   2.556161  ...        0.524723   \n",
       "2      -0.036145 -0.027366   0.470378  ...       -0.133261   \n",
       "3       0.891566  0.342075  -0.048220  ...        0.001306   \n",
       "4      -0.120482 -0.173318  -0.001487  ...        0.387452   \n",
       "...          ...       ...        ...  ...             ...   \n",
       "3123   -0.698795 -1.044470  18.284960  ...       -0.367398   \n",
       "3124    0.518072 -0.716078   6.634632  ...       -0.352040   \n",
       "3125    0.036145 -1.062714   2.668729  ...       -0.339340   \n",
       "3126    0.975904 -0.957811   2.957099  ...       -0.368973   \n",
       "3127    0.036145 -0.561003   3.249353  ...       -0.367440   \n",
       "\n",
       "      POP_DENxFREQUENTLY  POP_DENxSOMETIMES  POP_DENxRARELY  POP_DENxNEVER  \\\n",
       "0               0.986415           0.686119        0.574735       0.322373   \n",
       "1               1.416847           0.544150        0.524210       0.961035   \n",
       "2              -0.142277          -0.126075        0.052016      -0.139840   \n",
       "3               0.089251          -0.111614       -0.256064      -0.307315   \n",
       "4               0.466975           1.008201        1.061257       0.294052   \n",
       "...                  ...                ...             ...            ...   \n",
       "3123           -0.396004          -0.335278       -0.260007      -0.378054   \n",
       "3124           -0.355401          -0.338757       -0.307004      -0.335629   \n",
       "3125           -0.322609          -0.285016       -0.037933      -0.272172   \n",
       "3126           -0.375142          -0.396628       -0.356235      -0.308237   \n",
       "3127           -0.395580          -0.379954       -0.380926      -0.353417   \n",
       "\n",
       "      POPxALWAYS  POPxFREQUENTLY  POPxSOMETIMES  POPxRARELY  POPxNEVER  \n",
       "0       0.388149        0.963127       0.700074    0.560736   0.323106  \n",
       "1       2.663221        5.688549       2.873971    2.793491   4.353203  \n",
       "2      -0.009778       -0.015499       0.016638    0.277259  -0.015276  \n",
       "3       0.011821        0.091853      -0.106102   -0.272649  -0.327508  \n",
       "4       0.442616        0.516004       1.141521    1.168028   0.349958  \n",
       "...          ...             ...            ...         ...        ...  \n",
       "3123   -0.034024        0.088161       1.040339    2.625569   0.225214  \n",
       "3124   -0.139745        0.055329       0.136269    0.449436   0.133611  \n",
       "3125   -0.222502       -0.081348       0.039673    0.928522   0.069685  \n",
       "3126   -0.319737       -0.248058      -0.349510   -0.161863  -0.031260  \n",
       "3127   -0.308737       -0.315217      -0.275994   -0.239988  -0.188811  \n",
       "\n",
       "[3128 rows x 21 columns]"
      ]
     },
     "execution_count": 10,
     "metadata": {},
     "output_type": "execute_result"
    }
   ],
   "source": [
    "df = df.merge(county_cases, how=\"left\", on=\"fips\")\n",
    "df.insert(0, 'Ones', 1)\n",
    "column_titles = [\"POPESTIMATE2019\",\"NEVER\",\"RARELY\",\"SOMETIMES\",\"FREQUENTLY\",\"ALWAYS\",\"AREA\",\"POP_DEN\",\"POP_DENxALWAYS\",\"POP_DENxFREQUENTLY\",\"POP_DENxSOMETIMES\",\"POP_DENxRARELY\",\"POP_DENxNEVER\",'POPxALWAYS','POPxFREQUENTLY','POPxSOMETIMES','POPxRARELY','POPxNEVER']\n",
    "new_df = df.reindex(columns=column_titles)\n",
    "normal_all = new_normal(new_df)\n",
    "normal_df = pd.DataFrame(normal_all)\n",
    "normal_df.columns = column_titles\n",
    "normal_df['fips'] = df['fips']\n",
    "normal_df = normal_df.merge(county_cases, how=\"left\", on=\"fips\")\n",
    "column_titles = [\"fips\",\"cases\",\"deaths\",\"POPESTIMATE2019\",\"NEVER\",\"RARELY\",\"SOMETIMES\",\"FREQUENTLY\",\"ALWAYS\",\"AREA\",\"POP_DEN\",\"POP_DENxALWAYS\",\"POP_DENxFREQUENTLY\",\"POP_DENxSOMETIMES\",\"POP_DENxRARELY\",\"POP_DENxNEVER\",'POPxALWAYS','POPxFREQUENTLY','POPxSOMETIMES','POPxRARELY','POPxNEVER']\n",
    "normal_df = normal_df.reindex(columns=column_titles)\n",
    "normal_df"
   ]
  },
  {
   "cell_type": "code",
   "execution_count": 11,
   "metadata": {},
   "outputs": [
    {
     "data": {
      "text/html": [
       "<div>\n",
       "<style scoped>\n",
       "    .dataframe tbody tr th:only-of-type {\n",
       "        vertical-align: middle;\n",
       "    }\n",
       "\n",
       "    .dataframe tbody tr th {\n",
       "        vertical-align: top;\n",
       "    }\n",
       "\n",
       "    .dataframe thead th {\n",
       "        text-align: right;\n",
       "    }\n",
       "</style>\n",
       "<table border=\"1\" class=\"dataframe\">\n",
       "  <thead>\n",
       "    <tr style=\"text-align: right;\">\n",
       "      <th></th>\n",
       "      <th>0</th>\n",
       "    </tr>\n",
       "  </thead>\n",
       "  <tbody>\n",
       "    <tr>\n",
       "      <th>0</th>\n",
       "      <td>0.005538</td>\n",
       "    </tr>\n",
       "    <tr>\n",
       "      <th>1</th>\n",
       "      <td>0.022210</td>\n",
       "    </tr>\n",
       "    <tr>\n",
       "      <th>2</th>\n",
       "      <td>0.002432</td>\n",
       "    </tr>\n",
       "    <tr>\n",
       "      <th>3</th>\n",
       "      <td>0.002204</td>\n",
       "    </tr>\n",
       "    <tr>\n",
       "      <th>4</th>\n",
       "      <td>0.005733</td>\n",
       "    </tr>\n",
       "    <tr>\n",
       "      <th>...</th>\n",
       "      <td>...</td>\n",
       "    </tr>\n",
       "    <tr>\n",
       "      <th>3123</th>\n",
       "      <td>0.004191</td>\n",
       "    </tr>\n",
       "    <tr>\n",
       "      <th>3124</th>\n",
       "      <td>0.002310</td>\n",
       "    </tr>\n",
       "    <tr>\n",
       "      <th>3125</th>\n",
       "      <td>0.001988</td>\n",
       "    </tr>\n",
       "    <tr>\n",
       "      <th>3126</th>\n",
       "      <td>0.000750</td>\n",
       "    </tr>\n",
       "    <tr>\n",
       "      <th>3127</th>\n",
       "      <td>0.000663</td>\n",
       "    </tr>\n",
       "  </tbody>\n",
       "</table>\n",
       "<p>3128 rows × 1 columns</p>\n",
       "</div>"
      ],
      "text/plain": [
       "             0\n",
       "0     0.005538\n",
       "1     0.022210\n",
       "2     0.002432\n",
       "3     0.002204\n",
       "4     0.005733\n",
       "...        ...\n",
       "3123  0.004191\n",
       "3124  0.002310\n",
       "3125  0.001988\n",
       "3126  0.000750\n",
       "3127  0.000663\n",
       "\n",
       "[3128 rows x 1 columns]"
      ]
     },
     "execution_count": 11,
     "metadata": {},
     "output_type": "execute_result"
    }
   ],
   "source": [
    "normalize_pop = normalize(df['POPESTIMATE2019'])\n",
    "normal_pop_df = pd.DataFrame(normalize_pop)\n",
    "normal_pop_df"
   ]
  },
  {
   "cell_type": "markdown",
   "metadata": {},
   "source": [
    "## Graphs"
   ]
  },
  {
   "cell_type": "markdown",
   "metadata": {},
   "source": [
    "fig, ax = plt.subplots(figsize=(16,10))\n",
    "for i in range(df.shape[0]):\n",
    "    plt.scatter(df['POPESTIMATE2019'][i], df['cases'][i])\n",
    "plt.xlabel('Population')\n",
    "plt.ylabel('Positive Cases')\n",
    "plt.ylim(0,60000)\n",
    "plt.xlim(0,2000000)\n",
    "plt.title('Population vs. Positive Cases')\n",
    "plt.show()"
   ]
  },
  {
   "cell_type": "markdown",
   "metadata": {},
   "source": [
    "fig, ax = plt.subplots(figsize=(16,10))\n",
    "for i in range(df.shape[0]):\n",
    "    plt.scatter(df['ALWAYS'][i], df['cases'][i])\n",
    "plt.xlabel('Percentage of Mask Use')\n",
    "plt.ylabel('Positive Cases')\n",
    "plt.title('Percentage Mask Use vs. Positive Cases')\n",
    "plt.show()"
   ]
  },
  {
   "cell_type": "markdown",
   "metadata": {},
   "source": [
    "fig, ax = plt.subplots(figsize=(16,10))\n",
    "for i in range(df.shape[0]):\n",
    "    plt.scatter(df['ALWAYS'][i], df['NEVER'][i])\n",
    "plt.xlabel('Percentage of Mask Use')\n",
    "plt.ylabel('Percentage of NO Mask Use')\n",
    "plt.title('Percentage Mask Use vs. Percent NO Mask Use')\n",
    "plt.show()"
   ]
  },
  {
   "cell_type": "markdown",
   "metadata": {},
   "source": [
    "fig, ax = plt.subplots(figsize=(16,10))\n",
    "for i in range(df.shape[0]):\n",
    "    plt.scatter(df['POP_DEN'][i], df['cases'][i])\n",
    "plt.xlabel('Population density')\n",
    "plt.ylabel('Cases')\n",
    "plt.title('Population Density vs. Cases')\n",
    "plt.show()"
   ]
  },
  {
   "cell_type": "markdown",
   "metadata": {},
   "source": [
    "fig, ax = plt.subplots(figsize=(16,10))\n",
    "for i in range(df.shape[0]):\n",
    "    plt.scatter(df['POP_DEN'][i], df['deaths'][i])\n",
    "plt.xlabel('Population Density')\n",
    "plt.ylabel('Deaths')\n",
    "plt.title('Population Density vs. Deaths')\n",
    "plt.show()"
   ]
  },
  {
   "cell_type": "markdown",
   "metadata": {},
   "source": [
    "fig, ax = plt.subplots(figsize=(16,10))\n",
    "for i in range(df.shape[0]):\n",
    "    plt.scatter(df['POP_DENxALWAYS'][i], df['cases'][i])\n",
    "plt.xlabel('Population Density x Mask use')\n",
    "plt.ylabel('Cases')\n",
    "plt.title('Population Density x Mask use vs. Cases')\n",
    "plt.show()"
   ]
  },
  {
   "cell_type": "markdown",
   "metadata": {},
   "source": [
    "## Split Data"
   ]
  },
  {
   "cell_type": "code",
   "execution_count": 12,
   "metadata": {},
   "outputs": [],
   "source": [
    "def split(X, Y, size):\n",
    "    return train_test_split(X, Y, test_size=size)"
   ]
  },
  {
   "cell_type": "markdown",
   "metadata": {},
   "source": [
    "# Models"
   ]
  },
  {
   "cell_type": "markdown",
   "metadata": {},
   "source": [
    "## Linear Regression"
   ]
  },
  {
   "cell_type": "code",
   "execution_count": 13,
   "metadata": {},
   "outputs": [
    {
     "name": "stdout",
     "output_type": "stream",
     "text": [
      "<class 'pandas.core.frame.DataFrame'>\n"
     ]
    }
   ],
   "source": [
    "x_train, x_test, y_train, y_test = split(normal_pop_df, df['cases'], 0.2)\n",
    "x_train_lin = x_train.copy()\n",
    "print(type(x_train_lin))\n",
    "x_train_lin.insert(0, 'Ones', 1)\n",
    "x = np.matrix(x_train_lin.values)\n",
    "y = np.matrix(y_train.values)"
   ]
  },
  {
   "cell_type": "code",
   "execution_count": 14,
   "metadata": {},
   "outputs": [
    {
     "data": {
      "text/plain": [
       "array([[  -342.20446884, 299305.96407817]])"
      ]
     },
     "execution_count": 14,
     "metadata": {},
     "output_type": "execute_result"
    }
   ],
   "source": [
    "lin_regr = linear_model.LinearRegression(fit_intercept = False)\n",
    "lin_regr.fit(x, y.T)\n",
    "lin_regr.coef_ "
   ]
  },
  {
   "cell_type": "code",
   "execution_count": 15,
   "metadata": {
    "scrolled": false
   },
   "outputs": [
    {
     "data": {
      "image/png": "[encoded data removed]",
      "text/plain": [
       "<Figure size 864x576 with 1 Axes>"
      ]
     },
     "metadata": {
      "needs_background": "light"
     },
     "output_type": "display_data"
    }
   ],
   "source": [
    "X = np.array(x[:, 1].A1)\n",
    "f = lin_regr.predict(x).flatten()\n",
    "\n",
    "fig, ax = plt.subplots(figsize=(12,8))\n",
    "ax.plot(X, f, color = \"red\", label='Prediction')\n",
    "ax.plot(normal_pop_df[0], df['cases'], \"r+\",color = \"blue\", label='Data')\n",
    "ax.legend(loc=2)\n",
    "ax.set_xlabel('Population')\n",
    "ax.set_ylabel('Positive Cases')\n",
    "ax.set_title('Predicted Positive Cases vs. Population')\n",
    "plt.show()"
   ]
  },
  {
   "cell_type": "markdown",
   "metadata": {},
   "source": [
    "## SVM Regression"
   ]
  },
  {
   "cell_type": "markdown",
   "metadata": {},
   "source": [
    "## Linear Regression using all of the given variables"
   ]
  },
  {
   "cell_type": "code",
   "execution_count": 68,
   "metadata": {
    "scrolled": true
   },
   "outputs": [],
   "source": [
    "def split(X, Y, size):\n",
    "    return train_test_split(X, Y, test_size=size, random_state=0)"
   ]
  },
  {
   "cell_type": "code",
   "execution_count": 16,
   "metadata": {},
   "outputs": [],
   "source": [
    "#Target Variable\n",
    "y = np.log(df['cases']) \n",
    "x_train, x_test, y_train, y_test = train_test_split(normal_df,y, test_size = .2, shuffle = True)"
   ]
  },
  {
   "cell_type": "code",
   "execution_count": 17,
   "metadata": {},
   "outputs": [
    {
     "name": "stdout",
     "output_type": "stream",
     "text": [
      "This model includes cases as a feature so there has to be overfitting\n",
      "The Mean Squared Error given normalized data: 1.3301945449342694\n",
      "Because the MSE is so small, this is an example of overfitting.\n"
     ]
    }
   ],
   "source": [
    "all_var_reg = linear_model.LinearRegression(fit_intercept = False)\n",
    "all_var_reg.fit(x_train,y_train)\n",
    "y_predicted = all_var_reg.predict(x_test)\n",
    "print('This model includes cases as a feature so there has to be overfitting')\n",
    "print(\"The Mean Squared Error given normalized data:\" , MSE(y_test, y_predicted))\n",
    "print('Because the MSE is so small, this is an example of overfitting.')"
   ]
  },
  {
   "cell_type": "markdown",
   "metadata": {},
   "source": [
    "## Linear Regression using mask use and population ONLY"
   ]
  },
  {
   "cell_type": "code",
   "execution_count": 18,
   "metadata": {},
   "outputs": [],
   "source": [
    "y = np.log(df['cases']) \n",
    "x_train, x_test, y_train, y_test = train_test_split(normal_df[['POPESTIMATE2019','NEVER','RARELY','SOMETIMES','FREQUENTLY','ALWAYS']],y, test_size = .2, shuffle = True)"
   ]
  },
  {
   "cell_type": "code",
   "execution_count": 19,
   "metadata": {},
   "outputs": [],
   "source": [
    "multi_var_reg = linear_model.LinearRegression(fit_intercept = False)\n",
    "multi_var_reg.fit(x_train,y_train)\n",
    "y_predicted = multi_var_reg.predict(x_test)"
   ]
  },
  {
   "cell_type": "code",
   "execution_count": 20,
   "metadata": {},
   "outputs": [
    {
     "name": "stdout",
     "output_type": "stream",
     "text": [
      "The Mean Squared Error given normalized data: 1.9548435581102062\n",
      "This very high MSE means that this particular variable configuration is not important\n"
     ]
    }
   ],
   "source": [
    "print(\"The Mean Squared Error given normalized data:\" , MSE(y_test, y_predicted))\n",
    "print(\"This very high MSE means that this particular variable configuration is not important\")"
   ]
  },
  {
   "cell_type": "markdown",
   "metadata": {},
   "source": [
    "## Linear Regression using Population density and mask use"
   ]
  },
  {
   "cell_type": "code",
   "execution_count": 21,
   "metadata": {},
   "outputs": [],
   "source": [
    "y = np.log(df['cases']) \n",
    "x_train, x_test, y_train, y_test = train_test_split(normal_df[['POP_DENxSOMETIMES','POP_DENxRARELY','POP_DENxALWAYS','POP_DENxFREQUENTLY','POP_DENxNEVER']],y, test_size = .2, shuffle = True)"
   ]
  },
  {
   "cell_type": "code",
   "execution_count": 22,
   "metadata": {},
   "outputs": [],
   "source": [
    "multi_var_reg = linear_model.LinearRegression(fit_intercept = False)\n",
    "multi_var_reg.fit(x_train,y_train)\n",
    "y_predicted = multi_var_reg.predict(x_test)"
   ]
  },
  {
   "cell_type": "code",
   "execution_count": 23,
   "metadata": {},
   "outputs": [
    {
     "name": "stdout",
     "output_type": "stream",
     "text": [
      "The Mean Squared Error given normalized data: 38.32696170049971\n",
      "THE MSE is still very high, continue to look for suitable features\n"
     ]
    }
   ],
   "source": [
    "print(\"The Mean Squared Error given normalized data:\" , MSE(y_test, y_predicted))\n",
    "print(\"THE MSE is still very high, continue to look for suitable features\")"
   ]
  },
  {
   "cell_type": "markdown",
   "metadata": {},
   "source": []
  },
  {
   "cell_type": "markdown",
   "metadata": {},
   "source": [
    "## Linear Regression using Area and POP x Mask use\n"
   ]
  },
  {
   "cell_type": "code",
   "execution_count": 24,
   "metadata": {},
   "outputs": [],
   "source": [
    "y = np.log(df['cases']) \n",
    "x_train, x_test, y_train, y_test = train_test_split(normal_df[['AREA','POPxSOMETIMES','POPxRARELY','POPxALWAYS','POPxFREQUENTLY','POPxNEVER']],y, test_size = .2, shuffle = True)"
   ]
  },
  {
   "cell_type": "code",
   "execution_count": 25,
   "metadata": {},
   "outputs": [],
   "source": [
    "multi_var_reg = linear_model.LinearRegression(fit_intercept = False)\n",
    "multi_var_reg.fit(x_train,y_train)\n",
    "y_predicted = multi_var_reg.predict(x_test)"
   ]
  },
  {
   "cell_type": "code",
   "execution_count": 26,
   "metadata": {},
   "outputs": [
    {
     "name": "stdout",
     "output_type": "stream",
     "text": [
      "The Mean Squared Error given normalized data: 33.68593610553851\n"
     ]
    }
   ],
   "source": [
    "print(\"The Mean Squared Error given normalized data:\" , MSE(y_test, y_predicted))"
   ]
  },
  {
   "cell_type": "markdown",
   "metadata": {},
   "source": []
  },
  {
   "cell_type": "markdown",
   "metadata": {},
   "source": [
    "## Linear Regression using Population and Population Density x Mask Use"
   ]
  },
  {
   "cell_type": "code",
   "execution_count": 27,
   "metadata": {},
   "outputs": [],
   "source": [
    "y = np.log(df['cases']) \n",
    "x_train, x_test, y_train, y_test = train_test_split(normal_df[['POPESTIMATE2019','POP_DENxSOMETIMES','POP_DENxRARELY','POP_DENxALWAYS','POP_DENxFREQUENTLY','POP_DENxNEVER']],y, test_size = .2, shuffle = True)"
   ]
  },
  {
   "cell_type": "code",
   "execution_count": 28,
   "metadata": {},
   "outputs": [],
   "source": [
    "multi_var_reg = linear_model.LinearRegression(fit_intercept = False)\n",
    "multi_var_reg.fit(x_train,y_train)\n",
    "y_predicted = multi_var_reg.predict(x_test)"
   ]
  },
  {
   "cell_type": "code",
   "execution_count": 29,
   "metadata": {},
   "outputs": [
    {
     "name": "stdout",
     "output_type": "stream",
     "text": [
      "The Mean Squared Error given normalized data: 38.401388578946595\n"
     ]
    }
   ],
   "source": [
    "print(\"The Mean Squared Error given normalized data:\" , MSE(y_test, y_predicted))"
   ]
  },
  {
   "cell_type": "markdown",
   "metadata": {},
   "source": [
    "## Tester"
   ]
  },
  {
   "cell_type": "code",
   "execution_count": 124,
   "metadata": {},
   "outputs": [],
   "source": [
    "y = np.log(df['cases']) \n",
    "x_train, x_test, y_train, y_test = split(normal_df[['POPESTIMATE2019','POP_DEN','NEVER','RARELY','SOMETIMES','FREQUENTLY','ALWAYS']],y, size = .2)"
   ]
  },
  {
   "cell_type": "code",
   "execution_count": 125,
   "metadata": {},
   "outputs": [],
   "source": [
    "multi_var_reg = linear_model.LinearRegression(normalize = True, fit_intercept = True)\n",
    "multi_var_reg.fit(x_train,y_train)\n",
    "y_predicted = multi_var_reg.predict(x_test)"
   ]
  },
  {
   "cell_type": "code",
   "execution_count": 126,
   "metadata": {},
   "outputs": [
    {
     "name": "stdout",
     "output_type": "stream",
     "text": [
      "The Mean Squared Error given normalized data: 1.8300038458859706\n"
     ]
    },
    {
     "data": {
      "text/plain": [
       "0.27916594413717977"
      ]
     },
     "execution_count": 126,
     "metadata": {},
     "output_type": "execute_result"
    }
   ],
   "source": [
    "print(\"The Mean Squared Error given normalized data:\" , MSE(y_test, y_predicted))\n",
    "multi_var_reg.score(x_test,y_test)"
   ]
  },
  {
   "cell_type": "code",
   "execution_count": null,
   "metadata": {},
   "outputs": [],
   "source": []
  },
  {
   "cell_type": "markdown",
   "metadata": {},
   "source": [
    "## Linear Regression using Population x Mask Use and Population Desnsity x Mask use"
   ]
  },
  {
   "cell_type": "code",
   "execution_count": 35,
   "metadata": {},
   "outputs": [
    {
     "ename": "SyntaxError",
     "evalue": "invalid syntax (<ipython-input-35-a36e62976cd3>, line 2)",
     "output_type": "error",
     "traceback": [
      "\u001b[1;36m  File \u001b[1;32m\"<ipython-input-35-a36e62976cd3>\"\u001b[1;36m, line \u001b[1;32m2\u001b[0m\n\u001b[1;33m    x_train, x_test, y_train, y_test = train_test_split(normal_df[['POPESTIMATE2019','AREA','POPESTIMATE2019','POP_DENxSOMETIMES','POP_DENxRARELY','POP_DENxALWAYS','POP_DENxFREQUENTLY','POP_DENxNEVER','POPxSOMETIMES']],y, test_size = .2 shuffle = True)\u001b[0m\n\u001b[1;37m                                                                                                                                                                                                                                             ^\u001b[0m\n\u001b[1;31mSyntaxError\u001b[0m\u001b[1;31m:\u001b[0m invalid syntax\n"
     ]
    }
   ],
   "source": [
    "y = np.log(df['cases']) \n",
    "x_train, x_test, y_train, y_test = train_test_split(normal_df[['POPESTIMATE2019','AREA','POPESTIMATE2019','POP_DENxSOMETIMES','POP_DENxRARELY','POP_DENxALWAYS','POP_DENxFREQUENTLY','POP_DENxNEVER','POPxSOMETIMES']],y, test_size = .2 shuffle = True)"
   ]
  },
  {
   "cell_type": "code",
   "execution_count": null,
   "metadata": {},
   "outputs": [],
   "source": [
    "y = np.log(df['cases']) \n",
    "sizes = [.05,.1,.15,.2,.25,.3,.35,.4]\n",
    "outs = []\n",
    "for size in sizes:\n",
    "    avg = []\n",
    "    for i in range(20):\n",
    "        x_train, x_test, y_train, y_test = train_test_split(normal_df[['POPESTIMATE2019','POP_DENxSOMETIMES','POP_DENxRARELY','POP_DENxALWAYS','POP_DENxFREQUENTLY','POP_DENxNEVER','POPxSOMETIMES','POPxRARELY','POPxALWAYS','POPxFREQUENTLY','POPxNEVER',]],y, test_size = size, shuffle = True)\n",
    "        multi_var_reg = linear_model.LinearRegression(fit_intercept = False)\n",
    "        multi_var_reg.fit(x_train,y_train)\n",
    "        y_predicted = multi_var_reg.predict(x_test)\n",
    "        avg.append(MSE(y_test, y_predicted))\n",
    "    outs.append(sum(avg) / len(avg))\n",
    "train_splits = sizes[outs.index(min(outs))]\n",
    "print('The best Split: ', train_split)\n",
    "print('With an avg MSE of: ', min(outs))"
   ]
  },
  {
   "cell_type": "code",
   "execution_count": null,
   "metadata": {},
   "outputs": [],
   "source": [
    "print(\"The Mean Squared Error given normalized data:\" , MSE(y_test, y_predicted))"
   ]
  },
  {
   "cell_type": "markdown",
   "metadata": {},
   "source": [
    "## Optimized Linear Regression"
   ]
  },
  {
   "cell_type": "code",
   "execution_count": 42,
   "metadata": {},
   "outputs": [],
   "source": [
    "def split(X, Y, size):\n",
    "    return train_test_split(X, Y, test_size=size, random_state=0)"
   ]
  },
  {
   "cell_type": "code",
   "execution_count": 66,
   "metadata": {},
   "outputs": [
    {
     "name": "stdout",
     "output_type": "stream",
     "text": [
      "MSE of:  1.6537120614085443\n"
     ]
    }
   ],
   "source": [
    "y = np.log(df['cases']) \n",
    "x_train, x_test, y_train, y_test = split(normal_df[['POPESTIMATE2019','POP_DEN','NEVER','RARELY','SOMETIMES','FREQUENTLY','ALWAYS']],y, size = size)\n",
    "multi_var_reg = linear_model.LinearRegression(normalize = True, fit_intercept = True)\n",
    "\n",
    "multi_var_reg.fit(x_train,y_train)\n",
    "y_predicted = multi_var_reg.predict(x_test)\n",
    "\n",
    "print('MSE of: ', MSE(y_test, y_predicted))"
   ]
  },
  {
   "cell_type": "code",
   "execution_count": 67,
   "metadata": {},
   "outputs": [
    {
     "data": {
      "text/plain": [
       "0.2884393736111551"
      ]
     },
     "execution_count": 67,
     "metadata": {},
     "output_type": "execute_result"
    }
   ],
   "source": [
    "multi_var_reg.score(x_test,y_test)"
   ]
  },
  {
   "cell_type": "code",
   "execution_count": 61,
   "metadata": {},
   "outputs": [
    {
     "data": {
      "text/plain": [
       "{'copy_X': True, 'fit_intercept': False, 'n_jobs': None, 'normalize': False}"
      ]
     },
     "execution_count": 61,
     "metadata": {},
     "output_type": "execute_result"
    }
   ],
   "source": [
    "multi_var_reg.get_params()"
   ]
  },
  {
   "cell_type": "markdown",
   "metadata": {},
   "source": [
    "## SVM"
   ]
  },
  {
   "cell_type": "code",
   "execution_count": 136,
   "metadata": {},
   "outputs": [],
   "source": [
    "x_train, x_test, y_train, y_test = split(normal_df[['POPESTIMATE2019','POP_DEN','NEVER','RARELY','SOMETIMES','FREQUENTLY','ALWAYS']],np.log(df['cases']), .2)"
   ]
  },
  {
   "cell_type": "code",
   "execution_count": null,
   "metadata": {},
   "outputs": [],
   "source": []
  },
  {
   "cell_type": "code",
   "execution_count": 141,
   "metadata": {},
   "outputs": [
    {
     "name": "stdout",
     "output_type": "stream",
     "text": [
      "Best kernel is: rbf\n",
      "With average MSE of: 0.8178628724760727\n"
     ]
    }
   ],
   "source": [
    "kernels = ['rbf', 'linear', 'poly']\n",
    "outs = []\n",
    "for k in kernels:\n",
    "    svr = SVR(kernel=k)\n",
    "    svr.fit(x_train, y_train)\n",
    "    svr_predict = svr.predict(x_test)\n",
    "    outs.append(MSE(y_test, svr_predict))\n",
    "optimal_kernel = kernels[outs.index(min(outs))]\n",
    "print('Best kernel is:', optimal_kernel)\n",
    "print('With average MSE of:', min(outs))"
   ]
  },
  {
   "cell_type": "code",
   "execution_count": 143,
   "metadata": {},
   "outputs": [
    {
     "name": "stdout",
     "output_type": "stream",
     "text": [
      "Best C value is: 200\n",
      "With average MSE of: 0.6566630110429951\n"
     ]
    }
   ],
   "source": [
    "regs = [1,2,5,200]\n",
    "outs = []\n",
    "for reg in regs:\n",
    "    svr = SVR(kernel=optimal_kernel, C=reg)\n",
    "    svr.fit(x_train, y_train)\n",
    "    svr_predict = svr.predict(x_test)\n",
    "    outs.append(MSE(y_test, svr_predict))\n",
    "optimal_C = regs[outs.index(min(outs))]\n",
    "print('Best C value is:', optimal_C)\n",
    "print('With average MSE of:', min(outs))\n"
   ]
  },
  {
   "cell_type": "code",
   "execution_count": null,
   "metadata": {},
   "outputs": [],
   "source": [
    "svr = SVR(kernel=optimal_kernel, C=1)\n",
    "svr.fit(x_train, y_train)\n",
    "y_train_pred = svr.predict(x_train)\n",
    "y_test_pred = svr.predict(x_test)\n",
    "plt.plot(y_train, y_train_pred,'*r')\n",
    "plt.plot(y_test, y_test_pred, '*g')\n",
    "plt.show()\n",
    "\n",
    "print(MSE(y_test, svr.predict(x_test)))"
   ]
  },
  {
   "cell_type": "code",
   "execution_count": null,
   "metadata": {},
   "outputs": [],
   "source": [
    "\n"
   ]
  },
  {
   "cell_type": "code",
   "execution_count": null,
   "metadata": {},
   "outputs": [],
   "source": []
  }
 ],
 "metadata": {
  "kernelspec": {
   "display_name": "Python 3",
   "language": "python",
   "name": "python3"
  },
  "language_info": {
   "codemirror_mode": {
    "name": "ipython",
    "version": 3
   },
   "file_extension": ".py",
   "mimetype": "text/x-python",
   "name": "python",
   "nbconvert_exporter": "python",
   "pygments_lexer": "ipython3",
   "version": "3.8.3"
  }
 },
 "nbformat": 4,
 "nbformat_minor": 4
}
