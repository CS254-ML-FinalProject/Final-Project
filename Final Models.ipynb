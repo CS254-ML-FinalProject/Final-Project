{
 "cells": [
  {
   "cell_type": "code",
   "execution_count": null,
   "metadata": {},
   "outputs": [],
   "source": [
    "import numpy as np\n",
    "import pandas as pd\n",
    "import math\n",
    "import matplotlib.pyplot as plt\n",
    "\n",
    "# sklearn utilities\n",
    "from sklearn.model_selection import train_test_split, GridSearchCV\n",
    "from sklearn.metrics import mean_squared_error as MSE \n",
    "from sklearn.preprocessing import robust_scale\n",
    "\n",
    "# sklearn models\n",
    "from sklearn import linear_model\n",
    "from sklearn.svm import SVR"
   ]
  },
  {
   "cell_type": "markdown",
   "metadata": {},
   "source": [
    "# Inputing Files"
   ]
  },
  {
   "cell_type": "code",
   "execution_count": null,
   "metadata": {},
   "outputs": [],
   "source": [
    "county_area = pd.read_csv('county_area.csv')\n",
    "county_area = county_area.drop([\"Areaname\"], axis=1)\n",
    "county_area = county_area.rename(columns={\"STCOU\": \"fips\"})\n",
    "county_area"
   ]
  },
  {
   "cell_type": "code",
   "execution_count": null,
   "metadata": {},
   "outputs": [],
   "source": [
    "county_mask_use = pd.read_csv('mask_use.csv')\n",
    "county_mask_use = county_mask_use.rename(columns={\"COUNTYFP\": \"fips\"})\n",
    "county_mask_use"
   ]
  },
  {
   "cell_type": "code",
   "execution_count": null,
   "metadata": {},
   "outputs": [],
   "source": [
    "county_cases = pd.read_csv('county_cases.csv')\n",
    "county_cases = county_cases.drop([\"county\",\"state\"], axis=1)\n",
    "county_cases"
   ]
  },
  {
   "cell_type": "code",
   "execution_count": null,
   "metadata": {},
   "outputs": [],
   "source": [
    "county_pop = pd.read_csv('county_pop.csv', encoding='latin-1')\n",
    "county_pop = county_pop.drop(['STNAME','CTYNAME'], axis=1)\n",
    "county_pop = county_pop.rename(columns={\"COUNTY\": \"fips\"})\n",
    "county_pop"
   ]
  },
  {
   "cell_type": "markdown",
   "metadata": {},
   "source": [
    "## Merging Dataframes Together"
   ]
  },
  {
   "cell_type": "code",
   "execution_count": null,
   "metadata": {},
   "outputs": [],
   "source": [
    "df = county_pop.merge(county_mask_use, how='left', on=\"fips\")\n",
    "df = df.merge(county_area, how=\"left\", on=\"fips\")\n",
    "df['POP_DEN'] = df['POPESTIMATE2019'] / df['AREA']\n",
    "df['POP_DENxALWAYS'] = df['POP_DEN'] * df['ALWAYS']\n",
    "df['POP_DENxFREQUENTLY'] =df['POP_DEN'] * df['FREQUENTLY']\n",
    "df['POP_DENxSOMETIMES'] = df['POP_DEN'] * df['SOMETIMES']\n",
    "df['POP_DENxRARELY'] = df['POP_DEN'] * df['RARELY']\n",
    "df['POP_DENxNEVER'] = df['POP_DEN'] * df['NEVER']\n",
    "df['POPxALWAYS'] = df['POPESTIMATE2019'] * df['ALWAYS']\n",
    "df['POPxFREQUENTLY'] =df['POPESTIMATE2019'] * df['FREQUENTLY']\n",
    "df['POPxSOMETIMES'] = df['POPESTIMATE2019'] * df['SOMETIMES']\n",
    "df['POPxRARELY'] = df['POPESTIMATE2019'] * df['RARELY']\n",
    "df['POPxNEVER'] = df['POPESTIMATE2019'] * df['NEVER']\n",
    "df"
   ]
  },
  {
   "cell_type": "markdown",
   "metadata": {},
   "source": [
    "## Normalize Data"
   ]
  },
  {
   "cell_type": "code",
   "execution_count": null,
   "metadata": {},
   "outputs": [],
   "source": [
    "def normalize(column):\n",
    "    normal = []\n",
    "    for value in column:\n",
    "        value = (value - min(column)) / (max(column) - min(column))\n",
    "        normal.append(value)\n",
    "    return normal"
   ]
  },
  {
   "cell_type": "code",
   "execution_count": null,
   "metadata": {},
   "outputs": [],
   "source": [
    "def new_normal(dataframe):\n",
    "    normal = robust_scale(dataframe)\n",
    "    return normal"
   ]
  },
  {
   "cell_type": "code",
   "execution_count": null,
   "metadata": {},
   "outputs": [],
   "source": [
    "df = df.merge(county_cases, how=\"left\", on=\"fips\")\n",
    "df.insert(0, 'Ones', 1)\n",
    "column_titles = [\"POPESTIMATE2019\",\"NEVER\",\"RARELY\",\"SOMETIMES\",\"FREQUENTLY\",\"ALWAYS\",\"AREA\",\"POP_DEN\",\"POP_DENxALWAYS\",\"POP_DENxFREQUENTLY\",\"POP_DENxSOMETIMES\",\"POP_DENxRARELY\",\"POP_DENxNEVER\",'POPxALWAYS','POPxFREQUENTLY','POPxSOMETIMES','POPxRARELY','POPxNEVER']\n",
    "new_df = df.reindex(columns=column_titles)\n",
    "normal_all = new_normal(new_df)\n",
    "normal_df = pd.DataFrame(normal_all)\n",
    "normal_df.columns = column_titles\n",
    "normal_df['fips'] = df['fips']\n",
    "normal_df = normal_df.merge(county_cases, how=\"left\", on=\"fips\")\n",
    "column_titles = [\"fips\",\"cases\",\"deaths\",\"POPESTIMATE2019\",\"NEVER\",\"RARELY\",\"SOMETIMES\",\"FREQUENTLY\",\"ALWAYS\",\"AREA\",\"POP_DEN\",\"POP_DENxALWAYS\",\"POP_DENxFREQUENTLY\",\"POP_DENxSOMETIMES\",\"POP_DENxRARELY\",\"POP_DENxNEVER\",'POPxALWAYS','POPxFREQUENTLY','POPxSOMETIMES','POPxRARELY','POPxNEVER']\n",
    "normal_df = normal_df.reindex(columns=column_titles)\n",
    "normal_df"
   ]
  },
  {
   "cell_type": "code",
   "execution_count": null,
   "metadata": {},
   "outputs": [],
   "source": [
    "normalize_pop = normalize(df['POPESTIMATE2019'])\n",
    "normal_pop_df = pd.DataFrame(normalize_pop)\n",
    "normal_pop_df"
   ]
  },
  {
   "cell_type": "markdown",
   "metadata": {},
   "source": [
    "## Graphs"
   ]
  },
  {
   "cell_type": "markdown",
   "metadata": {},
   "source": [
    "fig, ax = plt.subplots(figsize=(16,10))\n",
    "for i in range(df.shape[0]):\n",
    "    plt.scatter(df['POPESTIMATE2019'][i], df['cases'][i])\n",
    "plt.xlabel('Population')\n",
    "plt.ylabel('Positive Cases')\n",
    "plt.ylim(0,60000)\n",
    "plt.xlim(0,2000000)\n",
    "plt.title('Population vs. Positive Cases')\n",
    "plt.show()"
   ]
  },
  {
   "cell_type": "markdown",
   "metadata": {},
   "source": [
    "fig, ax = plt.subplots(figsize=(16,10))\n",
    "for i in range(df.shape[0]):\n",
    "    plt.scatter(df['ALWAYS'][i], df['cases'][i])\n",
    "plt.xlabel('Percentage of Mask Use')\n",
    "plt.ylabel('Positive Cases')\n",
    "plt.title('Percentage Mask Use vs. Positive Cases')\n",
    "plt.show()"
   ]
  },
  {
   "cell_type": "markdown",
   "metadata": {},
   "source": [
    "fig, ax = plt.subplots(figsize=(16,10))\n",
    "for i in range(df.shape[0]):\n",
    "    plt.scatter(df['ALWAYS'][i], df['NEVER'][i])\n",
    "plt.xlabel('Percentage of Mask Use')\n",
    "plt.ylabel('Percentage of NO Mask Use')\n",
    "plt.title('Percentage Mask Use vs. Percent NO Mask Use')\n",
    "plt.show()"
   ]
  },
  {
   "cell_type": "markdown",
   "metadata": {},
   "source": [
    "fig, ax = plt.subplots(figsize=(16,10))\n",
    "for i in range(df.shape[0]):\n",
    "    plt.scatter(df['POP_DEN'][i], df['cases'][i])\n",
    "plt.xlabel('Population density')\n",
    "plt.ylabel('Cases')\n",
    "plt.title('Population Density vs. Cases')\n",
    "plt.show()"
   ]
  },
  {
   "cell_type": "markdown",
   "metadata": {},
   "source": [
    "fig, ax = plt.subplots(figsize=(16,10))\n",
    "for i in range(df.shape[0]):\n",
    "    plt.scatter(df['POP_DEN'][i], df['deaths'][i])\n",
    "plt.xlabel('Population Density')\n",
    "plt.ylabel('Deaths')\n",
    "plt.title('Population Density vs. Deaths')\n",
    "plt.show()"
   ]
  },
  {
   "cell_type": "markdown",
   "metadata": {},
   "source": [
    "fig, ax = plt.subplots(figsize=(16,10))\n",
    "for i in range(df.shape[0]):\n",
    "    plt.scatter(df['POP_DENxALWAYS'][i], df['cases'][i])\n",
    "plt.xlabel('Population Density x Mask use')\n",
    "plt.ylabel('Cases')\n",
    "plt.title('Population Density x Mask use vs. Cases')\n",
    "plt.show()"
   ]
  },
  {
   "cell_type": "markdown",
   "metadata": {},
   "source": [
    "## Split Data"
   ]
  },
  {
   "cell_type": "code",
   "execution_count": null,
   "metadata": {},
   "outputs": [],
   "source": [
    "def split(X, Y, size):\n",
    "    return train_test_split(X, Y, test_size=size)"
   ]
  },
  {
   "cell_type": "markdown",
   "metadata": {},
   "source": [
    "# Models"
   ]
  },
  {
   "cell_type": "markdown",
   "metadata": {},
   "source": [
    "## Linear Regression"
   ]
  },
  {
   "cell_type": "code",
   "execution_count": null,
   "metadata": {},
   "outputs": [],
   "source": [
    "x_train, x_test, y_train, y_test = split(normal_pop_df, df['cases'], 0.2)\n",
    "x_train_lin = x_train.copy()\n",
    "print(type(x_train_lin))\n",
    "x_train_lin.insert(0, 'Ones', 1)\n",
    "x = np.matrix(x_train_lin.values)\n",
    "y = np.matrix(y_train.values)"
   ]
  },
  {
   "cell_type": "code",
   "execution_count": null,
   "metadata": {},
   "outputs": [],
   "source": [
    "lin_regr = linear_model.LinearRegression(fit_intercept = False)\n",
    "lin_regr.fit(x, y.T)\n",
    "lin_regr.coef_ "
   ]
  },
  {
   "cell_type": "code",
   "execution_count": null,
   "metadata": {
    "scrolled": false
   },
   "outputs": [],
   "source": [
    "X = np.array(x[:, 1].A1)\n",
    "f = lin_regr.predict(x).flatten()\n",
    "\n",
    "fig, ax = plt.subplots(figsize=(12,8))\n",
    "ax.plot(X, f, color = \"red\", label='Prediction')\n",
    "ax.plot(normal_pop_df[0], df['cases'], \"r+\",color = \"blue\", label='Data')\n",
    "ax.legend(loc=2)\n",
    "ax.set_xlabel('Population')\n",
    "ax.set_ylabel('Positive Cases')\n",
    "ax.set_title('Predicted Positive Cases vs. Population')\n",
    "plt.show()"
   ]
  },
  {
   "cell_type": "markdown",
   "metadata": {},
   "source": [
    "## SVM Regression"
   ]
  },
  {
   "cell_type": "markdown",
   "metadata": {},
   "source": [
    "## Linear Regression using all of the given variables"
   ]
  },
  {
   "cell_type": "code",
   "execution_count": null,
   "metadata": {
    "scrolled": true
   },
   "outputs": [],
   "source": []
  },
  {
   "cell_type": "code",
   "execution_count": 254,
   "metadata": {},
   "outputs": [],
   "source": [
    "#Target Variable\n",
    "y = np.log(df['cases']) \n",
    "x_train, x_test, y_train, y_test = train_test_split(normal_df,y, test_size = .2, shuffle = True)"
   ]
  },
  {
   "cell_type": "code",
   "execution_count": 255,
   "metadata": {},
   "outputs": [
    {
     "name": "stdout",
     "output_type": "stream",
     "text": [
      "This model includes cases as a feature so there has to be overfitting\n",
      "The Mean Squared Error given normalized data: 1.4294280693351769\n",
      "Because the MSE is so small, this is an example of overfitting.\n"
     ]
    }
   ],
   "source": [
    "all_var_reg = linear_model.LinearRegression(fit_intercept = False)\n",
    "all_var_reg.fit(x_train,y_train)\n",
    "y_predicted = all_var_reg.predict(x_test)\n",
    "print('This model includes cases as a feature so there has to be overfitting')\n",
    "print(\"The Mean Squared Error given normalized data:\" , MSE(y_test, y_predicted))\n",
    "print('Because the MSE is so small, this is an example of overfitting.')"
   ]
  },
  {
   "cell_type": "markdown",
   "metadata": {},
   "source": [
    "## Linear Regression using mask use and population ONLY"
   ]
  },
  {
   "cell_type": "code",
   "execution_count": 321,
   "metadata": {},
   "outputs": [],
   "source": [
    "y = np.log(df['cases']) \n",
    "x_train, x_test, y_train, y_test = train_test_split(normal_df[['POPESTIMATE2019','NEVER','RARELY','SOMETIMES','FREQUENTLY','ALWAYS']],y, test_size = .2, shuffle = True)"
   ]
  },
  {
   "cell_type": "code",
   "execution_count": 322,
   "metadata": {},
   "outputs": [],
   "source": [
    "multi_var_reg = linear_model.LinearRegression(fit_intercept = False)\n",
    "multi_var_reg.fit(x_train,y_train)\n",
    "y_predicted = multi_var_reg.predict(x_test)"
   ]
  },
  {
   "cell_type": "code",
   "execution_count": 323,
   "metadata": {},
   "outputs": [
    {
     "name": "stdout",
     "output_type": "stream",
     "text": [
      "The Mean Squared Error given normalized data: 1.8007694500198304\n",
      "This very high MSE means that this particular variable configuration is not important\n"
     ]
    }
   ],
   "source": [
    "print(\"The Mean Squared Error given normalized data:\" , MSE(y_test, y_predicted))\n",
    "print(\"This very high MSE means that this particular variable configuration is not important\")"
   ]
  },
  {
   "cell_type": "markdown",
   "metadata": {},
   "source": [
    "## Linear Regression using Population density and mask use"
   ]
  },
  {
   "cell_type": "code",
   "execution_count": 294,
   "metadata": {},
   "outputs": [],
   "source": [
    "y = np.log(df['cases']) \n",
    "x_train, x_test, y_train, y_test = train_test_split(normal_df[['POP_DENxSOMETIMES','POP_DENxRARELY','POP_DENxALWAYS','POP_DENxFREQUENTLY','POP_DENxNEVER']],y, test_size = .2, shuffle = True)"
   ]
  },
  {
   "cell_type": "code",
   "execution_count": 295,
   "metadata": {},
   "outputs": [],
   "source": [
    "multi_var_reg = linear_model.LinearRegression(fit_intercept = False)\n",
    "multi_var_reg.fit(x_train,y_train)\n",
    "y_predicted = multi_var_reg.predict(x_test)"
   ]
  },
  {
   "cell_type": "code",
   "execution_count": 296,
   "metadata": {},
   "outputs": [
    {
     "name": "stdout",
     "output_type": "stream",
     "text": [
      "The Mean Squared Error given normalized data: 38.65759844315964\n",
      "THE MSE is still very high, continue to look for suitable features\n"
     ]
    }
   ],
   "source": [
    "print(\"The Mean Squared Error given normalized data:\" , MSE(y_test, y_predicted))\n",
    "print(\"THE MSE is still very high, continue to look for suitable features\")"
   ]
  },
  {
   "cell_type": "markdown",
   "metadata": {},
   "source": []
  },
  {
   "cell_type": "markdown",
   "metadata": {},
   "source": [
    "## Linear Regression using Area and POP x Mask use\n"
   ]
  },
  {
   "cell_type": "code",
   "execution_count": 291,
   "metadata": {},
   "outputs": [],
   "source": [
    "y = np.log(df['cases']) \n",
    "x_train, x_test, y_train, y_test = train_test_split(normal_df[['AREA','POPxSOMETIMES','POPxRARELY','POPxALWAYS','POPxFREQUENTLY','POPxNEVER']],y, test_size = .2, shuffle = True)"
   ]
  },
  {
   "cell_type": "code",
   "execution_count": 292,
   "metadata": {},
   "outputs": [],
   "source": [
    "multi_var_reg = linear_model.LinearRegression(fit_intercept = False)\n",
    "multi_var_reg.fit(x_train,y_train)\n",
    "y_predicted = multi_var_reg.predict(x_test)"
   ]
  },
  {
   "cell_type": "code",
   "execution_count": 293,
   "metadata": {},
   "outputs": [
    {
     "name": "stdout",
     "output_type": "stream",
     "text": [
      "The Mean Squared Error given normalized data: 37.53605151790012\n"
     ]
    }
   ],
   "source": [
    "print(\"The Mean Squared Error given normalized data:\" , MSE(y_test, y_predicted))"
   ]
  },
  {
   "cell_type": "markdown",
   "metadata": {},
   "source": []
  },
  {
   "cell_type": "markdown",
   "metadata": {},
   "source": [
    "## Linear Regression using Population and Population Density x Mask Use"
   ]
  },
  {
   "cell_type": "code",
   "execution_count": 288,
   "metadata": {},
   "outputs": [],
   "source": [
    "y = np.log(df['cases']) \n",
    "x_train, x_test, y_train, y_test = train_test_split(normal_df[['POPESTIMATE2019','POP_DENxSOMETIMES','POP_DENxRARELY','POP_DENxALWAYS','POP_DENxFREQUENTLY','POP_DENxNEVER']],y, test_size = .2, shuffle = True)"
   ]
  },
  {
   "cell_type": "code",
   "execution_count": 289,
   "metadata": {},
   "outputs": [],
   "source": [
    "multi_var_reg = linear_model.LinearRegression(fit_intercept = False)\n",
    "multi_var_reg.fit(x_train,y_train)\n",
    "y_predicted = multi_var_reg.predict(x_test)"
   ]
  },
  {
   "cell_type": "code",
   "execution_count": 290,
   "metadata": {},
   "outputs": [
    {
     "name": "stdout",
     "output_type": "stream",
     "text": [
      "The Mean Squared Error given normalized data: 35.41038545603391\n"
     ]
    }
   ],
   "source": [
    "print(\"The Mean Squared Error given normalized data:\" , MSE(y_test, y_predicted))"
   ]
  },
  {
   "cell_type": "markdown",
   "metadata": {},
   "source": [
    "## Linear Regression using Population, Population Density x Mask Use, and Area"
   ]
  },
  {
   "cell_type": "code",
   "execution_count": 262,
   "metadata": {},
   "outputs": [],
   "source": [
    "y = np.log(df['cases']) \n",
    "x_train, x_test, y_train, y_test = train_test_split(normal_df[['POPESTIMATE2019','POP_DENxSOMETIMES','POP_DENxRARELY','POP_DENxALWAYS','POP_DENxFREQUENTLY','POP_DENxNEVER','AREA']],y, test_size = .2, shuffle = True)"
   ]
  },
  {
   "cell_type": "code",
   "execution_count": 263,
   "metadata": {},
   "outputs": [],
   "source": [
    "multi_var_reg = linear_model.LinearRegression(fit_intercept = False)\n",
    "multi_var_reg.fit(x_train,y_train)\n",
    "y_predicted = multi_var_reg.predict(x_test)"
   ]
  },
  {
   "cell_type": "code",
   "execution_count": 264,
   "metadata": {},
   "outputs": [
    {
     "name": "stdout",
     "output_type": "stream",
     "text": [
      "The Mean Squared Error given normalized data: 37.23378271612027\n"
     ]
    },
    {
     "data": {
      "text/plain": [
       "-12.853259303172514"
      ]
     },
     "execution_count": 264,
     "metadata": {},
     "output_type": "execute_result"
    }
   ],
   "source": [
    "print(\"The Mean Squared Error given normalized data:\" , MSE(y_test, y_predicted))\n",
    "multi_var_reg.score(x_test,y_test)"
   ]
  },
  {
   "cell_type": "code",
   "execution_count": 253,
   "metadata": {},
   "outputs": [
    {
     "data": {
      "text/html": [
       "<div>\n",
       "<style scoped>\n",
       "    .dataframe tbody tr th:only-of-type {\n",
       "        vertical-align: middle;\n",
       "    }\n",
       "\n",
       "    .dataframe tbody tr th {\n",
       "        vertical-align: top;\n",
       "    }\n",
       "\n",
       "    .dataframe thead th {\n",
       "        text-align: right;\n",
       "    }\n",
       "</style>\n",
       "<table border=\"1\" class=\"dataframe\">\n",
       "  <thead>\n",
       "    <tr style=\"text-align: right;\">\n",
       "      <th></th>\n",
       "      <th>fips</th>\n",
       "      <th>cases</th>\n",
       "      <th>deaths</th>\n",
       "      <th>POPESTIMATE2019</th>\n",
       "      <th>NEVER</th>\n",
       "      <th>RARELY</th>\n",
       "      <th>SOMETIMES</th>\n",
       "      <th>FREQUENTLY</th>\n",
       "      <th>ALWAYS</th>\n",
       "      <th>AREA</th>\n",
       "      <th>...</th>\n",
       "      <th>POP_DENxALWAYS</th>\n",
       "      <th>POP_DENxFREQUENTLY</th>\n",
       "      <th>POP_DENxSOMETIMES</th>\n",
       "      <th>POP_DENxRARELY</th>\n",
       "      <th>POP_DENxNEVER</th>\n",
       "      <th>POPxALWAYS</th>\n",
       "      <th>POPxFREQUENTLY</th>\n",
       "      <th>POPxSOMETIMES</th>\n",
       "      <th>POPxRARELY</th>\n",
       "      <th>POPxNEVER</th>\n",
       "    </tr>\n",
       "  </thead>\n",
       "  <tbody>\n",
       "    <tr>\n",
       "      <th>0</th>\n",
       "      <td>1001</td>\n",
       "      <td>2059</td>\n",
       "      <td>31</td>\n",
       "      <td>0.531522</td>\n",
       "      <td>-0.189873</td>\n",
       "      <td>0.013333</td>\n",
       "      <td>0.230769</td>\n",
       "      <td>1.096386</td>\n",
       "      <td>-0.241733</td>\n",
       "      <td>-0.087260</td>\n",
       "      <td>...</td>\n",
       "      <td>0.392066</td>\n",
       "      <td>0.986415</td>\n",
       "      <td>0.686119</td>\n",
       "      <td>0.574735</td>\n",
       "      <td>0.322373</td>\n",
       "      <td>0.388149</td>\n",
       "      <td>0.963127</td>\n",
       "      <td>0.700074</td>\n",
       "      <td>0.560736</td>\n",
       "      <td>0.323106</td>\n",
       "    </tr>\n",
       "    <tr>\n",
       "      <th>1</th>\n",
       "      <td>1003</td>\n",
       "      <td>6658</td>\n",
       "      <td>69</td>\n",
       "      <td>3.482726</td>\n",
       "      <td>0.189873</td>\n",
       "      <td>-0.186667</td>\n",
       "      <td>-0.230769</td>\n",
       "      <td>1.433735</td>\n",
       "      <td>-0.278221</td>\n",
       "      <td>2.556161</td>\n",
       "      <td>...</td>\n",
       "      <td>0.524723</td>\n",
       "      <td>1.416847</td>\n",
       "      <td>0.544150</td>\n",
       "      <td>0.524210</td>\n",
       "      <td>0.961035</td>\n",
       "      <td>2.663221</td>\n",
       "      <td>5.688549</td>\n",
       "      <td>2.873971</td>\n",
       "      <td>2.793491</td>\n",
       "      <td>4.353203</td>\n",
       "    </tr>\n",
       "    <tr>\n",
       "      <th>2</th>\n",
       "      <td>1005</td>\n",
       "      <td>1033</td>\n",
       "      <td>9</td>\n",
       "      <td>-0.018339</td>\n",
       "      <td>-0.012658</td>\n",
       "      <td>0.640000</td>\n",
       "      <td>0.051282</td>\n",
       "      <td>-0.036145</td>\n",
       "      <td>-0.027366</td>\n",
       "      <td>0.470378</td>\n",
       "      <td>...</td>\n",
       "      <td>-0.133261</td>\n",
       "      <td>-0.142277</td>\n",
       "      <td>-0.126075</td>\n",
       "      <td>0.052016</td>\n",
       "      <td>-0.139840</td>\n",
       "      <td>-0.009778</td>\n",
       "      <td>-0.015499</td>\n",
       "      <td>0.016638</td>\n",
       "      <td>0.277259</td>\n",
       "      <td>-0.015276</td>\n",
       "    </tr>\n",
       "    <tr>\n",
       "      <th>3</th>\n",
       "      <td>1007</td>\n",
       "      <td>840</td>\n",
       "      <td>14</td>\n",
       "      <td>-0.058754</td>\n",
       "      <td>-0.607595</td>\n",
       "      <td>-0.520000</td>\n",
       "      <td>-0.256410</td>\n",
       "      <td>0.891566</td>\n",
       "      <td>0.342075</td>\n",
       "      <td>-0.048220</td>\n",
       "      <td>...</td>\n",
       "      <td>0.001306</td>\n",
       "      <td>0.089251</td>\n",
       "      <td>-0.111614</td>\n",
       "      <td>-0.256064</td>\n",
       "      <td>-0.307315</td>\n",
       "      <td>0.011821</td>\n",
       "      <td>0.091853</td>\n",
       "      <td>-0.106102</td>\n",
       "      <td>-0.272649</td>\n",
       "      <td>-0.327508</td>\n",
       "    </tr>\n",
       "    <tr>\n",
       "      <th>4</th>\n",
       "      <td>1009</td>\n",
       "      <td>1932</td>\n",
       "      <td>25</td>\n",
       "      <td>0.566030</td>\n",
       "      <td>-0.189873</td>\n",
       "      <td>0.546667</td>\n",
       "      <td>0.820513</td>\n",
       "      <td>-0.120482</td>\n",
       "      <td>-0.173318</td>\n",
       "      <td>-0.001487</td>\n",
       "      <td>...</td>\n",
       "      <td>0.387452</td>\n",
       "      <td>0.466975</td>\n",
       "      <td>1.008201</td>\n",
       "      <td>1.061257</td>\n",
       "      <td>0.294052</td>\n",
       "      <td>0.442616</td>\n",
       "      <td>0.516004</td>\n",
       "      <td>1.141521</td>\n",
       "      <td>1.168028</td>\n",
       "      <td>0.349958</td>\n",
       "    </tr>\n",
       "    <tr>\n",
       "      <th>...</th>\n",
       "      <td>...</td>\n",
       "      <td>...</td>\n",
       "      <td>...</td>\n",
       "      <td>...</td>\n",
       "      <td>...</td>\n",
       "      <td>...</td>\n",
       "      <td>...</td>\n",
       "      <td>...</td>\n",
       "      <td>...</td>\n",
       "      <td>...</td>\n",
       "      <td>...</td>\n",
       "      <td>...</td>\n",
       "      <td>...</td>\n",
       "      <td>...</td>\n",
       "      <td>...</td>\n",
       "      <td>...</td>\n",
       "      <td>...</td>\n",
       "      <td>...</td>\n",
       "      <td>...</td>\n",
       "      <td>...</td>\n",
       "      <td>...</td>\n",
       "    </tr>\n",
       "    <tr>\n",
       "      <th>3123</th>\n",
       "      <td>56037</td>\n",
       "      <td>462</td>\n",
       "      <td>2</td>\n",
       "      <td>0.293013</td>\n",
       "      <td>-0.088608</td>\n",
       "      <td>2.960000</td>\n",
       "      <td>1.461538</td>\n",
       "      <td>-0.698795</td>\n",
       "      <td>-1.044470</td>\n",
       "      <td>18.284960</td>\n",
       "      <td>...</td>\n",
       "      <td>-0.367398</td>\n",
       "      <td>-0.396004</td>\n",
       "      <td>-0.335278</td>\n",
       "      <td>-0.260007</td>\n",
       "      <td>-0.378054</td>\n",
       "      <td>-0.034024</td>\n",
       "      <td>0.088161</td>\n",
       "      <td>1.040339</td>\n",
       "      <td>2.625569</td>\n",
       "      <td>0.225214</td>\n",
       "    </tr>\n",
       "    <tr>\n",
       "      <th>3124</th>\n",
       "      <td>56039</td>\n",
       "      <td>747</td>\n",
       "      <td>1</td>\n",
       "      <td>-0.039887</td>\n",
       "      <td>0.341772</td>\n",
       "      <td>1.120000</td>\n",
       "      <td>0.564103</td>\n",
       "      <td>0.518072</td>\n",
       "      <td>-0.716078</td>\n",
       "      <td>6.634632</td>\n",
       "      <td>...</td>\n",
       "      <td>-0.352040</td>\n",
       "      <td>-0.355401</td>\n",
       "      <td>-0.338757</td>\n",
       "      <td>-0.307004</td>\n",
       "      <td>-0.335629</td>\n",
       "      <td>-0.139745</td>\n",
       "      <td>0.055329</td>\n",
       "      <td>0.136269</td>\n",
       "      <td>0.449436</td>\n",
       "      <td>0.133611</td>\n",
       "    </tr>\n",
       "    <tr>\n",
       "      <th>3125</th>\n",
       "      <td>56041</td>\n",
       "      <td>431</td>\n",
       "      <td>3</td>\n",
       "      <td>-0.096983</td>\n",
       "      <td>0.379747</td>\n",
       "      <td>2.733333</td>\n",
       "      <td>0.487179</td>\n",
       "      <td>0.036145</td>\n",
       "      <td>-1.062714</td>\n",
       "      <td>2.668729</td>\n",
       "      <td>...</td>\n",
       "      <td>-0.339340</td>\n",
       "      <td>-0.322609</td>\n",
       "      <td>-0.285016</td>\n",
       "      <td>-0.037933</td>\n",
       "      <td>-0.272172</td>\n",
       "      <td>-0.222502</td>\n",
       "      <td>-0.081348</td>\n",
       "      <td>0.039673</td>\n",
       "      <td>0.928522</td>\n",
       "      <td>0.069685</td>\n",
       "    </tr>\n",
       "    <tr>\n",
       "      <th>3126</th>\n",
       "      <td>56043</td>\n",
       "      <td>144</td>\n",
       "      <td>7</td>\n",
       "      <td>-0.316007</td>\n",
       "      <td>1.721519</td>\n",
       "      <td>1.093333</td>\n",
       "      <td>-0.602564</td>\n",
       "      <td>0.975904</td>\n",
       "      <td>-0.957811</td>\n",
       "      <td>2.957099</td>\n",
       "      <td>...</td>\n",
       "      <td>-0.368973</td>\n",
       "      <td>-0.375142</td>\n",
       "      <td>-0.396628</td>\n",
       "      <td>-0.356235</td>\n",
       "      <td>-0.308237</td>\n",
       "      <td>-0.319737</td>\n",
       "      <td>-0.248058</td>\n",
       "      <td>-0.349510</td>\n",
       "      <td>-0.161863</td>\n",
       "      <td>-0.031260</td>\n",
       "    </tr>\n",
       "    <tr>\n",
       "      <th>3127</th>\n",
       "      <td>56045</td>\n",
       "      <td>127</td>\n",
       "      <td>0</td>\n",
       "      <td>-0.331489</td>\n",
       "      <td>0.936709</td>\n",
       "      <td>0.746667</td>\n",
       "      <td>0.410256</td>\n",
       "      <td>0.036145</td>\n",
       "      <td>-0.561003</td>\n",
       "      <td>3.249353</td>\n",
       "      <td>...</td>\n",
       "      <td>-0.367440</td>\n",
       "      <td>-0.395580</td>\n",
       "      <td>-0.379954</td>\n",
       "      <td>-0.380926</td>\n",
       "      <td>-0.353417</td>\n",
       "      <td>-0.308737</td>\n",
       "      <td>-0.315217</td>\n",
       "      <td>-0.275994</td>\n",
       "      <td>-0.239988</td>\n",
       "      <td>-0.188811</td>\n",
       "    </tr>\n",
       "  </tbody>\n",
       "</table>\n",
       "<p>3128 rows × 21 columns</p>\n",
       "</div>"
      ],
      "text/plain": [
       "       fips  cases  deaths  POPESTIMATE2019     NEVER    RARELY  SOMETIMES  \\\n",
       "0      1001   2059      31         0.531522 -0.189873  0.013333   0.230769   \n",
       "1      1003   6658      69         3.482726  0.189873 -0.186667  -0.230769   \n",
       "2      1005   1033       9        -0.018339 -0.012658  0.640000   0.051282   \n",
       "3      1007    840      14        -0.058754 -0.607595 -0.520000  -0.256410   \n",
       "4      1009   1932      25         0.566030 -0.189873  0.546667   0.820513   \n",
       "...     ...    ...     ...              ...       ...       ...        ...   \n",
       "3123  56037    462       2         0.293013 -0.088608  2.960000   1.461538   \n",
       "3124  56039    747       1        -0.039887  0.341772  1.120000   0.564103   \n",
       "3125  56041    431       3        -0.096983  0.379747  2.733333   0.487179   \n",
       "3126  56043    144       7        -0.316007  1.721519  1.093333  -0.602564   \n",
       "3127  56045    127       0        -0.331489  0.936709  0.746667   0.410256   \n",
       "\n",
       "      FREQUENTLY    ALWAYS       AREA  ...  POP_DENxALWAYS  \\\n",
       "0       1.096386 -0.241733  -0.087260  ...        0.392066   \n",
       "1       1.433735 -0.278221   2.556161  ...        0.524723   \n",
       "2      -0.036145 -0.027366   0.470378  ...       -0.133261   \n",
       "3       0.891566  0.342075  -0.048220  ...        0.001306   \n",
       "4      -0.120482 -0.173318  -0.001487  ...        0.387452   \n",
       "...          ...       ...        ...  ...             ...   \n",
       "3123   -0.698795 -1.044470  18.284960  ...       -0.367398   \n",
       "3124    0.518072 -0.716078   6.634632  ...       -0.352040   \n",
       "3125    0.036145 -1.062714   2.668729  ...       -0.339340   \n",
       "3126    0.975904 -0.957811   2.957099  ...       -0.368973   \n",
       "3127    0.036145 -0.561003   3.249353  ...       -0.367440   \n",
       "\n",
       "      POP_DENxFREQUENTLY  POP_DENxSOMETIMES  POP_DENxRARELY  POP_DENxNEVER  \\\n",
       "0               0.986415           0.686119        0.574735       0.322373   \n",
       "1               1.416847           0.544150        0.524210       0.961035   \n",
       "2              -0.142277          -0.126075        0.052016      -0.139840   \n",
       "3               0.089251          -0.111614       -0.256064      -0.307315   \n",
       "4               0.466975           1.008201        1.061257       0.294052   \n",
       "...                  ...                ...             ...            ...   \n",
       "3123           -0.396004          -0.335278       -0.260007      -0.378054   \n",
       "3124           -0.355401          -0.338757       -0.307004      -0.335629   \n",
       "3125           -0.322609          -0.285016       -0.037933      -0.272172   \n",
       "3126           -0.375142          -0.396628       -0.356235      -0.308237   \n",
       "3127           -0.395580          -0.379954       -0.380926      -0.353417   \n",
       "\n",
       "      POPxALWAYS  POPxFREQUENTLY  POPxSOMETIMES  POPxRARELY  POPxNEVER  \n",
       "0       0.388149        0.963127       0.700074    0.560736   0.323106  \n",
       "1       2.663221        5.688549       2.873971    2.793491   4.353203  \n",
       "2      -0.009778       -0.015499       0.016638    0.277259  -0.015276  \n",
       "3       0.011821        0.091853      -0.106102   -0.272649  -0.327508  \n",
       "4       0.442616        0.516004       1.141521    1.168028   0.349958  \n",
       "...          ...             ...            ...         ...        ...  \n",
       "3123   -0.034024        0.088161       1.040339    2.625569   0.225214  \n",
       "3124   -0.139745        0.055329       0.136269    0.449436   0.133611  \n",
       "3125   -0.222502       -0.081348       0.039673    0.928522   0.069685  \n",
       "3126   -0.319737       -0.248058      -0.349510   -0.161863  -0.031260  \n",
       "3127   -0.308737       -0.315217      -0.275994   -0.239988  -0.188811  \n",
       "\n",
       "[3128 rows x 21 columns]"
      ]
     },
     "execution_count": 253,
     "metadata": {},
     "output_type": "execute_result"
    }
   ],
   "source": [
    "normal_df"
   ]
  },
  {
   "cell_type": "markdown",
   "metadata": {},
   "source": [
    "## Linear Regression using Population x Mask Use and Population Desnsity x Mask use"
   ]
  },
  {
   "cell_type": "code",
   "execution_count": 274,
   "metadata": {},
   "outputs": [],
   "source": [
    "y = np.log(df['cases']) \n",
    "x_train, x_test, y_train, y_test = train_test_split(normal_df[['POPESTIMATE2019','AREA','POPESTIMATE2019','POP_DENxSOMETIMES','POP_DENxRARELY','POP_DENxALWAYS','POP_DENxFREQUENTLY','POP_DENxNEVER','POPxSOMETIMES']],y, test_size = size, shuffle = True)"
   ]
  },
  {
   "cell_type": "code",
   "execution_count": 284,
   "metadata": {},
   "outputs": [
    {
     "name": "stdout",
     "output_type": "stream",
     "text": [
      "The best Split:  0.2\n",
      "With an avg MSE of:  2.0177172454522405\n"
     ]
    }
   ],
   "source": [
    "y = np.log(df['cases']) \n",
    "sizes = [.05,.1,.15,.2,.25,.3,.35,.4]\n",
    "outs = []\n",
    "for size in sizes:\n",
    "    avg = []\n",
    "    for i in range(20):\n",
    "        x_train, x_test, y_train, y_test = train_test_split(normal_df[['POPESTIMATE2019','POP_DENxSOMETIMES','POP_DENxRARELY','POP_DENxALWAYS','POP_DENxFREQUENTLY','POP_DENxNEVER','POPxSOMETIMES','POPxRARELY','POPxALWAYS','POPxFREQUENTLY','POPxNEVER',]],y, test_size = size, shuffle = True)\n",
    "        multi_var_reg = linear_model.LinearRegression(fit_intercept = False)\n",
    "        multi_var_reg.fit(x_train,y_train)\n",
    "        y_predicted = multi_var_reg.predict(x_test)\n",
    "        avg.append(MSE(y_test, y_predicted))\n",
    "    outs.append(sum(avg) / len(avg))\n",
    "train_splits = sizes[outs.index(min(outs))]\n",
    "print('The best Split: ', train_split)\n",
    "print('With an avg MSE of: ', min(outs))"
   ]
  },
  {
   "cell_type": "code",
   "execution_count": 285,
   "metadata": {},
   "outputs": [
    {
     "name": "stdout",
     "output_type": "stream",
     "text": [
      "The Mean Squared Error given normalized data: 2.050389461387641\n"
     ]
    }
   ],
   "source": [
    "print(\"The Mean Squared Error given normalized data:\" , MSE(y_test, y_predicted))"
   ]
  },
  {
   "cell_type": "code",
   "execution_count": 286,
   "metadata": {},
   "outputs": [
    {
     "data": {
      "text/plain": [
       "0.2683525334970642"
      ]
     },
     "execution_count": 286,
     "metadata": {},
     "output_type": "execute_result"
    }
   ],
   "source": [
    "#Predictions\n",
    "multi_var_reg.score(x_test,y_test)"
   ]
  },
  {
   "cell_type": "markdown",
   "metadata": {},
   "source": [
    "## Optimized Linear Regression"
   ]
  },
  {
   "cell_type": "code",
   "execution_count": 344,
   "metadata": {},
   "outputs": [
    {
     "name": "stdout",
     "output_type": "stream",
     "text": [
      "The best Split:  0.2\n",
      "With an avg MSE of:  1.9216489462200432\n"
     ]
    }
   ],
   "source": [
    "y = np.log(df['cases']) \n",
    "sizes = [.05,.1,.15,.2,.25,.3,.35,.4]\n",
    "outs = []\n",
    "for size in sizes:\n",
    "    avg = []\n",
    "    for i in range(20):\n",
    "        x_train, x_test, y_train, y_test = train_test_split(normal_df[['POPESTIMATE2019','AREA','NEVER','RARELY','SOMETIMES','FREQUENTLY','ALWAYS']],y, test_size = size, shuffle = True)\n",
    "        multi_var_reg = linear_model.LinearRegression(fit_intercept = False)\n",
    "        multi_var_reg.fit(x_train,y_train)\n",
    "        y_predicted = multi_var_reg.predict(x_test)\n",
    "        avg.append(MSE(y_test, y_predicted))\n",
    "    outs.append(sum(avg) / len(avg))\n",
    "train_splits = sizes[outs.index(min(outs))]\n",
    "print('The best Split: ', train_split)\n",
    "print('With an avg MSE of: ', min(outs))"
   ]
  },
  {
   "cell_type": "code",
   "execution_count": 345,
   "metadata": {},
   "outputs": [
    {
     "data": {
      "text/plain": [
       "0.1062378521882349"
      ]
     },
     "execution_count": 345,
     "metadata": {},
     "output_type": "execute_result"
    }
   ],
   "source": [
    "multi_var_reg.score(x_test,y_test)"
   ]
  },
  {
   "cell_type": "markdown",
   "metadata": {},
   "source": [
    "## SVM Regression"
   ]
  },
  {
   "cell_type": "code",
   "execution_count": null,
   "metadata": {},
   "outputs": [],
   "source": [
    "normal_svm_df = normal_df.drop(['fips','cases','deaths'], axis=1)\n",
    "sizes = [0.2,0.3]\n",
    "outs = []\n",
    "for size in sizes:\n",
    "    avg = []\n",
    "    for i in range(20):\n",
    "        x_train, x_test, y_train, y_test = split(normal_svm_df, df['cases'], size)\n",
    "        svr = SVR()\n",
    "        svr.fit(x_train, y_train)\n",
    "        svr_predict = svr.predict(x_test)\n",
    "        avg.append(MSE(y_test, svr_predict))\n",
    "    outs.append(sum(avg) / len(avg))\n",
    "train_split = sizes[outs.index(min(outs))]\n",
    "print('Best split is:', train_split)\n",
    "print('With average MSE of:', min(outs))"
   ]
  },
  {
   "cell_type": "code",
   "execution_count": null,
   "metadata": {},
   "outputs": [],
   "source": [
    "x_train, x_test, y_train, y_test = split(normal_svm_df, df['cases'], train_split)\n",
    "kernels = ['rbf', 'linear', 'poly']\n",
    "outs = []\n",
    "for k in kernels:\n",
    "    avg = []\n",
    "    for i in range(60):\n",
    "        svr = SVR(kernel=k)\n",
    "        svr.fit(x_train, y_train)\n",
    "        svr_predict = svr.predict(x_test)\n",
    "        avg.append(MSE(y_test, svr_predict))\n",
    "    outs.append(sum(avg) / len(avg))\n",
    "optimal_kernel = kernels[outs.index(min(outs))]\n",
    "print('Best kernel is:', ideal_kernel)\n",
    "print('With average MSE of:', min(outs))"
   ]
  },
  {
   "cell_type": "code",
   "execution_count": null,
   "metadata": {},
   "outputs": [],
   "source": [
    "x_train, x_test, y_train, y_test = split(normal_svm_df, df['cases'], train_split)\n",
    "regs = [1,2,5,25,125]\n",
    "outs = []\n",
    "for reg in regs:\n",
    "    avg = []\n",
    "    for i in range(20):\n",
    "        svr = SVR(kernel=optimal_kernel, C=reg)\n",
    "        svr.fit(x_train, y_train)\n",
    "        svr_predict = svr.predict(x_test)\n",
    "        avg.append(MSE(y_test, svr_predict))\n",
    "    outs.append(sum(avg) / len(avg))\n",
    "optimal_C = regs[outs.index(min(outs))]\n",
    "print('Best C value is:', optimal_C)\n",
    "print('With average MSE of:', min(outs))\n",
    "outs"
   ]
  },
  {
   "cell_type": "code",
   "execution_count": null,
   "metadata": {},
   "outputs": [],
   "source": []
  },
  {
   "cell_type": "code",
   "execution_count": null,
   "metadata": {},
   "outputs": [],
   "source": []
  }
 ],
 "metadata": {
  "kernelspec": {
   "display_name": "Python 3",
   "language": "python",
   "name": "python3"
  }
 },
 "nbformat": 4,
 "nbformat_minor": 4
}
