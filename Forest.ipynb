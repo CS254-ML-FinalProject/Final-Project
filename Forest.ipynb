{
 "cells": [
  {
   "cell_type": "code",
   "execution_count": 1,
   "metadata": {},
   "outputs": [],
   "source": [
    "import numpy as np\n",
    "import pandas as pd\n",
    "import matplotlib.pyplot as plt\n",
    "\n",
    "# sklearn utilities\n",
    "from sklearn.model_selection import train_test_split, GridSearchCV\n",
    "from sklearn.metrics import mean_squared_error as MSE\n",
    "from sklearn.metrics import mean_absolute_error as MAE\n",
    "from sklearn.preprocessing import robust_scale\n",
    "\n",
    "# sklearn models\n",
    "from sklearn.ensemble import RandomForestRegressor"
   ]
  },
  {
   "cell_type": "markdown",
   "metadata": {},
   "source": [
    "# Inputing Files"
   ]
  },
  {
   "cell_type": "code",
   "execution_count": 2,
   "metadata": {},
   "outputs": [],
   "source": [
    "county_area = pd.read_csv('county_area.csv')\n",
    "county_area = county_area.drop([\"Areaname\"], axis=1)\n",
    "county_area = county_area.rename(columns={\"STCOU\": \"fips\"})"
   ]
  },
  {
   "cell_type": "code",
   "execution_count": 3,
   "metadata": {},
   "outputs": [],
   "source": [
    "county_mask_use = pd.read_csv('mask_use.csv')\n",
    "county_mask_use = county_mask_use.rename(columns={\"COUNTYFP\": \"fips\"})"
   ]
  },
  {
   "cell_type": "code",
   "execution_count": 4,
   "metadata": {},
   "outputs": [],
   "source": [
    "county_cases = pd.read_csv('county_cases.csv')\n",
    "county_cases = county_cases.drop([\"county\",\"state\"], axis=1)"
   ]
  },
  {
   "cell_type": "code",
   "execution_count": 5,
   "metadata": {},
   "outputs": [],
   "source": [
    "county_pop = pd.read_csv('county_pop.csv', encoding='latin-1')\n",
    "county_pop = county_pop.drop(['STNAME','CTYNAME'], axis=1)\n",
    "county_pop = county_pop.rename(columns={\"COUNTY\": \"fips\"})"
   ]
  },
  {
   "cell_type": "markdown",
   "metadata": {},
   "source": [
    "## Merging Dataframes Together"
   ]
  },
  {
   "cell_type": "code",
   "execution_count": 6,
   "metadata": {},
   "outputs": [
    {
     "data": {
      "text/html": [
       "<div>\n",
       "<style scoped>\n",
       "    .dataframe tbody tr th:only-of-type {\n",
       "        vertical-align: middle;\n",
       "    }\n",
       "\n",
       "    .dataframe tbody tr th {\n",
       "        vertical-align: top;\n",
       "    }\n",
       "\n",
       "    .dataframe thead th {\n",
       "        text-align: right;\n",
       "    }\n",
       "</style>\n",
       "<table border=\"1\" class=\"dataframe\">\n",
       "  <thead>\n",
       "    <tr style=\"text-align: right;\">\n",
       "      <th></th>\n",
       "      <th>fips</th>\n",
       "      <th>POPESTIMATE2019</th>\n",
       "      <th>NEVER</th>\n",
       "      <th>RARELY</th>\n",
       "      <th>SOMETIMES</th>\n",
       "      <th>FREQUENTLY</th>\n",
       "      <th>ALWAYS</th>\n",
       "      <th>AREA</th>\n",
       "      <th>cases</th>\n",
       "      <th>deaths</th>\n",
       "    </tr>\n",
       "  </thead>\n",
       "  <tbody>\n",
       "    <tr>\n",
       "      <th>0</th>\n",
       "      <td>1001</td>\n",
       "      <td>55869</td>\n",
       "      <td>0.053</td>\n",
       "      <td>0.074</td>\n",
       "      <td>0.134</td>\n",
       "      <td>0.295</td>\n",
       "      <td>0.444</td>\n",
       "      <td>604.49</td>\n",
       "      <td>2059</td>\n",
       "      <td>31</td>\n",
       "    </tr>\n",
       "    <tr>\n",
       "      <th>1</th>\n",
       "      <td>1003</td>\n",
       "      <td>223234</td>\n",
       "      <td>0.083</td>\n",
       "      <td>0.059</td>\n",
       "      <td>0.098</td>\n",
       "      <td>0.323</td>\n",
       "      <td>0.436</td>\n",
       "      <td>2027.08</td>\n",
       "      <td>6658</td>\n",
       "      <td>69</td>\n",
       "    </tr>\n",
       "    <tr>\n",
       "      <th>2</th>\n",
       "      <td>1005</td>\n",
       "      <td>24686</td>\n",
       "      <td>0.067</td>\n",
       "      <td>0.121</td>\n",
       "      <td>0.120</td>\n",
       "      <td>0.201</td>\n",
       "      <td>0.491</td>\n",
       "      <td>904.59</td>\n",
       "      <td>1033</td>\n",
       "      <td>9</td>\n",
       "    </tr>\n",
       "    <tr>\n",
       "      <th>3</th>\n",
       "      <td>1007</td>\n",
       "      <td>22394</td>\n",
       "      <td>0.020</td>\n",
       "      <td>0.034</td>\n",
       "      <td>0.096</td>\n",
       "      <td>0.278</td>\n",
       "      <td>0.572</td>\n",
       "      <td>625.50</td>\n",
       "      <td>840</td>\n",
       "      <td>14</td>\n",
       "    </tr>\n",
       "    <tr>\n",
       "      <th>4</th>\n",
       "      <td>1009</td>\n",
       "      <td>57826</td>\n",
       "      <td>0.053</td>\n",
       "      <td>0.114</td>\n",
       "      <td>0.180</td>\n",
       "      <td>0.194</td>\n",
       "      <td>0.459</td>\n",
       "      <td>650.65</td>\n",
       "      <td>1932</td>\n",
       "      <td>25</td>\n",
       "    </tr>\n",
       "    <tr>\n",
       "      <th>...</th>\n",
       "      <td>...</td>\n",
       "      <td>...</td>\n",
       "      <td>...</td>\n",
       "      <td>...</td>\n",
       "      <td>...</td>\n",
       "      <td>...</td>\n",
       "      <td>...</td>\n",
       "      <td>...</td>\n",
       "      <td>...</td>\n",
       "      <td>...</td>\n",
       "    </tr>\n",
       "    <tr>\n",
       "      <th>3123</th>\n",
       "      <td>56037</td>\n",
       "      <td>42343</td>\n",
       "      <td>0.061</td>\n",
       "      <td>0.295</td>\n",
       "      <td>0.230</td>\n",
       "      <td>0.146</td>\n",
       "      <td>0.268</td>\n",
       "      <td>10491.73</td>\n",
       "      <td>462</td>\n",
       "      <td>2</td>\n",
       "    </tr>\n",
       "    <tr>\n",
       "      <th>3124</th>\n",
       "      <td>56039</td>\n",
       "      <td>23464</td>\n",
       "      <td>0.095</td>\n",
       "      <td>0.157</td>\n",
       "      <td>0.160</td>\n",
       "      <td>0.247</td>\n",
       "      <td>0.340</td>\n",
       "      <td>4221.96</td>\n",
       "      <td>747</td>\n",
       "      <td>1</td>\n",
       "    </tr>\n",
       "    <tr>\n",
       "      <th>3125</th>\n",
       "      <td>56041</td>\n",
       "      <td>20226</td>\n",
       "      <td>0.098</td>\n",
       "      <td>0.278</td>\n",
       "      <td>0.154</td>\n",
       "      <td>0.207</td>\n",
       "      <td>0.264</td>\n",
       "      <td>2087.66</td>\n",
       "      <td>431</td>\n",
       "      <td>3</td>\n",
       "    </tr>\n",
       "    <tr>\n",
       "      <th>3126</th>\n",
       "      <td>56043</td>\n",
       "      <td>7805</td>\n",
       "      <td>0.204</td>\n",
       "      <td>0.155</td>\n",
       "      <td>0.069</td>\n",
       "      <td>0.285</td>\n",
       "      <td>0.287</td>\n",
       "      <td>2242.85</td>\n",
       "      <td>144</td>\n",
       "      <td>7</td>\n",
       "    </tr>\n",
       "    <tr>\n",
       "      <th>3127</th>\n",
       "      <td>56045</td>\n",
       "      <td>6927</td>\n",
       "      <td>0.142</td>\n",
       "      <td>0.129</td>\n",
       "      <td>0.148</td>\n",
       "      <td>0.207</td>\n",
       "      <td>0.374</td>\n",
       "      <td>2400.13</td>\n",
       "      <td>127</td>\n",
       "      <td>0</td>\n",
       "    </tr>\n",
       "  </tbody>\n",
       "</table>\n",
       "<p>3128 rows × 10 columns</p>\n",
       "</div>"
      ],
      "text/plain": [
       "       fips  POPESTIMATE2019  NEVER  RARELY  SOMETIMES  FREQUENTLY  ALWAYS  \\\n",
       "0      1001            55869  0.053   0.074      0.134       0.295   0.444   \n",
       "1      1003           223234  0.083   0.059      0.098       0.323   0.436   \n",
       "2      1005            24686  0.067   0.121      0.120       0.201   0.491   \n",
       "3      1007            22394  0.020   0.034      0.096       0.278   0.572   \n",
       "4      1009            57826  0.053   0.114      0.180       0.194   0.459   \n",
       "...     ...              ...    ...     ...        ...         ...     ...   \n",
       "3123  56037            42343  0.061   0.295      0.230       0.146   0.268   \n",
       "3124  56039            23464  0.095   0.157      0.160       0.247   0.340   \n",
       "3125  56041            20226  0.098   0.278      0.154       0.207   0.264   \n",
       "3126  56043             7805  0.204   0.155      0.069       0.285   0.287   \n",
       "3127  56045             6927  0.142   0.129      0.148       0.207   0.374   \n",
       "\n",
       "          AREA  cases  deaths  \n",
       "0       604.49   2059      31  \n",
       "1      2027.08   6658      69  \n",
       "2       904.59   1033       9  \n",
       "3       625.50    840      14  \n",
       "4       650.65   1932      25  \n",
       "...        ...    ...     ...  \n",
       "3123  10491.73    462       2  \n",
       "3124   4221.96    747       1  \n",
       "3125   2087.66    431       3  \n",
       "3126   2242.85    144       7  \n",
       "3127   2400.13    127       0  \n",
       "\n",
       "[3128 rows x 10 columns]"
      ]
     },
     "execution_count": 6,
     "metadata": {},
     "output_type": "execute_result"
    }
   ],
   "source": [
    "df = county_pop.merge(county_mask_use, how='left', on=\"fips\")\n",
    "df = df.merge(county_area, how=\"left\", on=\"fips\")\n",
    "df = df.merge(county_cases, how=\"left\", on=\"fips\")\n",
    "df"
   ]
  },
  {
   "cell_type": "markdown",
   "metadata": {},
   "source": [
    "## Create Features"
   ]
  },
  {
   "cell_type": "code",
   "execution_count": 7,
   "metadata": {},
   "outputs": [
    {
     "data": {
      "text/html": [
       "<div>\n",
       "<style scoped>\n",
       "    .dataframe tbody tr th:only-of-type {\n",
       "        vertical-align: middle;\n",
       "    }\n",
       "\n",
       "    .dataframe tbody tr th {\n",
       "        vertical-align: top;\n",
       "    }\n",
       "\n",
       "    .dataframe thead th {\n",
       "        text-align: right;\n",
       "    }\n",
       "</style>\n",
       "<table border=\"1\" class=\"dataframe\">\n",
       "  <thead>\n",
       "    <tr style=\"text-align: right;\">\n",
       "      <th></th>\n",
       "      <th>fips</th>\n",
       "      <th>cases</th>\n",
       "      <th>deaths</th>\n",
       "      <th>POPESTIMATE2019</th>\n",
       "      <th>AREA</th>\n",
       "      <th>POP_DEN</th>\n",
       "      <th>NEVER</th>\n",
       "      <th>RARELY</th>\n",
       "      <th>SOMETIMES</th>\n",
       "      <th>FREQUENTLY</th>\n",
       "      <th>ALWAYS</th>\n",
       "    </tr>\n",
       "  </thead>\n",
       "  <tbody>\n",
       "    <tr>\n",
       "      <th>fips</th>\n",
       "      <td>1.000000</td>\n",
       "      <td>-0.061754</td>\n",
       "      <td>-0.060394</td>\n",
       "      <td>-0.059759</td>\n",
       "      <td>-0.095848</td>\n",
       "      <td>0.047470</td>\n",
       "      <td>-0.005946</td>\n",
       "      <td>-0.032730</td>\n",
       "      <td>-0.053094</td>\n",
       "      <td>-0.079669</td>\n",
       "      <td>0.067678</td>\n",
       "    </tr>\n",
       "    <tr>\n",
       "      <th>cases</th>\n",
       "      <td>-0.061754</td>\n",
       "      <td>1.000000</td>\n",
       "      <td>0.901118</td>\n",
       "      <td>0.948347</td>\n",
       "      <td>0.033832</td>\n",
       "      <td>0.357263</td>\n",
       "      <td>-0.154615</td>\n",
       "      <td>-0.171201</td>\n",
       "      <td>-0.160765</td>\n",
       "      <td>-0.125457</td>\n",
       "      <td>0.235681</td>\n",
       "    </tr>\n",
       "    <tr>\n",
       "      <th>deaths</th>\n",
       "      <td>-0.060394</td>\n",
       "      <td>0.901118</td>\n",
       "      <td>1.000000</td>\n",
       "      <td>0.882777</td>\n",
       "      <td>0.020698</td>\n",
       "      <td>0.441297</td>\n",
       "      <td>-0.164789</td>\n",
       "      <td>-0.189642</td>\n",
       "      <td>-0.182864</td>\n",
       "      <td>-0.152364</td>\n",
       "      <td>0.265965</td>\n",
       "    </tr>\n",
       "    <tr>\n",
       "      <th>POPESTIMATE2019</th>\n",
       "      <td>-0.059759</td>\n",
       "      <td>0.948347</td>\n",
       "      <td>0.882777</td>\n",
       "      <td>1.000000</td>\n",
       "      <td>0.033140</td>\n",
       "      <td>0.399141</td>\n",
       "      <td>-0.197458</td>\n",
       "      <td>-0.212442</td>\n",
       "      <td>-0.207021</td>\n",
       "      <td>-0.146798</td>\n",
       "      <td>0.293856</td>\n",
       "    </tr>\n",
       "    <tr>\n",
       "      <th>AREA</th>\n",
       "      <td>-0.095848</td>\n",
       "      <td>0.033832</td>\n",
       "      <td>0.020698</td>\n",
       "      <td>0.033140</td>\n",
       "      <td>1.000000</td>\n",
       "      <td>-0.049577</td>\n",
       "      <td>-0.031426</td>\n",
       "      <td>-0.023864</td>\n",
       "      <td>-0.043233</td>\n",
       "      <td>0.095512</td>\n",
       "      <td>-0.002344</td>\n",
       "    </tr>\n",
       "    <tr>\n",
       "      <th>POP_DEN</th>\n",
       "      <td>0.047470</td>\n",
       "      <td>0.357263</td>\n",
       "      <td>0.441297</td>\n",
       "      <td>0.399141</td>\n",
       "      <td>-0.049577</td>\n",
       "      <td>1.000000</td>\n",
       "      <td>-0.186194</td>\n",
       "      <td>-0.208296</td>\n",
       "      <td>-0.196193</td>\n",
       "      <td>-0.115999</td>\n",
       "      <td>0.271051</td>\n",
       "    </tr>\n",
       "    <tr>\n",
       "      <th>NEVER</th>\n",
       "      <td>-0.005946</td>\n",
       "      <td>-0.154615</td>\n",
       "      <td>-0.164789</td>\n",
       "      <td>-0.197458</td>\n",
       "      <td>-0.031426</td>\n",
       "      <td>-0.186194</td>\n",
       "      <td>1.000000</td>\n",
       "      <td>0.427057</td>\n",
       "      <td>0.321972</td>\n",
       "      <td>0.048232</td>\n",
       "      <td>-0.684970</td>\n",
       "    </tr>\n",
       "    <tr>\n",
       "      <th>RARELY</th>\n",
       "      <td>-0.032730</td>\n",
       "      <td>-0.171201</td>\n",
       "      <td>-0.189642</td>\n",
       "      <td>-0.212442</td>\n",
       "      <td>-0.023864</td>\n",
       "      <td>-0.208296</td>\n",
       "      <td>0.427057</td>\n",
       "      <td>1.000000</td>\n",
       "      <td>0.361163</td>\n",
       "      <td>0.144707</td>\n",
       "      <td>-0.728386</td>\n",
       "    </tr>\n",
       "    <tr>\n",
       "      <th>SOMETIMES</th>\n",
       "      <td>-0.053094</td>\n",
       "      <td>-0.160765</td>\n",
       "      <td>-0.182864</td>\n",
       "      <td>-0.207021</td>\n",
       "      <td>-0.043233</td>\n",
       "      <td>-0.196193</td>\n",
       "      <td>0.321972</td>\n",
       "      <td>0.361163</td>\n",
       "      <td>1.000000</td>\n",
       "      <td>0.073084</td>\n",
       "      <td>-0.668399</td>\n",
       "    </tr>\n",
       "    <tr>\n",
       "      <th>FREQUENTLY</th>\n",
       "      <td>-0.079669</td>\n",
       "      <td>-0.125457</td>\n",
       "      <td>-0.152364</td>\n",
       "      <td>-0.146798</td>\n",
       "      <td>0.095512</td>\n",
       "      <td>-0.115999</td>\n",
       "      <td>0.048232</td>\n",
       "      <td>0.144707</td>\n",
       "      <td>0.073084</td>\n",
       "      <td>1.000000</td>\n",
       "      <td>-0.515229</td>\n",
       "    </tr>\n",
       "    <tr>\n",
       "      <th>ALWAYS</th>\n",
       "      <td>0.067678</td>\n",
       "      <td>0.235681</td>\n",
       "      <td>0.265965</td>\n",
       "      <td>0.293856</td>\n",
       "      <td>-0.002344</td>\n",
       "      <td>0.271051</td>\n",
       "      <td>-0.684970</td>\n",
       "      <td>-0.728386</td>\n",
       "      <td>-0.668399</td>\n",
       "      <td>-0.515229</td>\n",
       "      <td>1.000000</td>\n",
       "    </tr>\n",
       "  </tbody>\n",
       "</table>\n",
       "</div>"
      ],
      "text/plain": [
       "                     fips     cases    deaths  POPESTIMATE2019      AREA  \\\n",
       "fips             1.000000 -0.061754 -0.060394        -0.059759 -0.095848   \n",
       "cases           -0.061754  1.000000  0.901118         0.948347  0.033832   \n",
       "deaths          -0.060394  0.901118  1.000000         0.882777  0.020698   \n",
       "POPESTIMATE2019 -0.059759  0.948347  0.882777         1.000000  0.033140   \n",
       "AREA            -0.095848  0.033832  0.020698         0.033140  1.000000   \n",
       "POP_DEN          0.047470  0.357263  0.441297         0.399141 -0.049577   \n",
       "NEVER           -0.005946 -0.154615 -0.164789        -0.197458 -0.031426   \n",
       "RARELY          -0.032730 -0.171201 -0.189642        -0.212442 -0.023864   \n",
       "SOMETIMES       -0.053094 -0.160765 -0.182864        -0.207021 -0.043233   \n",
       "FREQUENTLY      -0.079669 -0.125457 -0.152364        -0.146798  0.095512   \n",
       "ALWAYS           0.067678  0.235681  0.265965         0.293856 -0.002344   \n",
       "\n",
       "                  POP_DEN     NEVER    RARELY  SOMETIMES  FREQUENTLY    ALWAYS  \n",
       "fips             0.047470 -0.005946 -0.032730  -0.053094   -0.079669  0.067678  \n",
       "cases            0.357263 -0.154615 -0.171201  -0.160765   -0.125457  0.235681  \n",
       "deaths           0.441297 -0.164789 -0.189642  -0.182864   -0.152364  0.265965  \n",
       "POPESTIMATE2019  0.399141 -0.197458 -0.212442  -0.207021   -0.146798  0.293856  \n",
       "AREA            -0.049577 -0.031426 -0.023864  -0.043233    0.095512 -0.002344  \n",
       "POP_DEN          1.000000 -0.186194 -0.208296  -0.196193   -0.115999  0.271051  \n",
       "NEVER           -0.186194  1.000000  0.427057   0.321972    0.048232 -0.684970  \n",
       "RARELY          -0.208296  0.427057  1.000000   0.361163    0.144707 -0.728386  \n",
       "SOMETIMES       -0.196193  0.321972  0.361163   1.000000    0.073084 -0.668399  \n",
       "FREQUENTLY      -0.115999  0.048232  0.144707   0.073084    1.000000 -0.515229  \n",
       "ALWAYS           0.271051 -0.684970 -0.728386  -0.668399   -0.515229  1.000000  "
      ]
     },
     "execution_count": 7,
     "metadata": {},
     "output_type": "execute_result"
    }
   ],
   "source": [
    "df['POP_DEN'] = df['POPESTIMATE2019'] / df['AREA']\n",
    "#df['POP_DENxALWAYS'] = df['POP_DEN'] * df['ALWAYS']\n",
    "#df['POP_DENxFREQUENTLY'] =df['POP_DEN'] * df['FREQUENTLY']\n",
    "#df['POP_DENxSOMETIMES'] = df['POP_DEN'] * df['SOMETIMES']\n",
    "#df['POP_DENxRARELY'] = df['POP_DEN'] * df['RARELY']\n",
    "#df['POP_DENxNEVER'] = df['POP_DEN'] * df['NEVER']\n",
    "#df['POPxALWAYS'] = df['POPESTIMATE2019'] * df['ALWAYS']\n",
    "#df['POPxFREQUENTLY'] =df['POPESTIMATE2019'] * df['FREQUENTLY']\n",
    "#df['POPxSOMETIMES'] = df['POPESTIMATE2019'] * df['SOMETIMES']\n",
    "#df['POPxRARELY'] = df['POPESTIMATE2019'] * df['RARELY']\n",
    "#df['POPxNEVER'] = df['POPESTIMATE2019'] * df['NEVER']\n",
    "df = df.reindex(columns=[\"fips\",\"cases\",\"deaths\",\"POPESTIMATE2019\",\"AREA\",\"POP_DEN\",\"NEVER\",\"RARELY\",\"SOMETIMES\",\"FREQUENTLY\",\"ALWAYS\"])\n",
    "df.corr()"
   ]
  },
  {
   "cell_type": "markdown",
   "metadata": {},
   "source": [
    "## Normalize Data"
   ]
  },
  {
   "cell_type": "code",
   "execution_count": 8,
   "metadata": {},
   "outputs": [],
   "source": [
    "def normalize(column):\n",
    "    normal = []\n",
    "    for value in column:\n",
    "        value = (value - min(column)) / (max(column) - min(column))\n",
    "        normal.append(value)\n",
    "    return normal"
   ]
  },
  {
   "cell_type": "code",
   "execution_count": 9,
   "metadata": {},
   "outputs": [],
   "source": [
    "def new_normal(dataframe):\n",
    "    normal = robust_scale(dataframe)\n",
    "    return normal"
   ]
  },
  {
   "cell_type": "markdown",
   "metadata": {},
   "source": [
    "## df with outliers eliminated"
   ]
  },
  {
   "cell_type": "code",
   "execution_count": 10,
   "metadata": {},
   "outputs": [],
   "source": [
    "df_outliers = df.drop(df[df['cases']>=20000].index, axis=0)\n",
    "column_titles = [\"POPESTIMATE2019\",\"NEVER\",\"RARELY\",\"SOMETIMES\",\"FREQUENTLY\",\"ALWAYS\",\"AREA\",\"POP_DEN\"]\n",
    "df_outliers = new_normal(df_outliers.reindex(columns=column_titles))\n",
    "df_outliers = pd.DataFrame(df_outliers)\n",
    "df_outliers.columns = column_titles\n",
    "df_outliers['fips'] = df['fips']\n",
    "df_outliers = df_outliers.merge(county_cases, how=\"left\", on=\"fips\")\n",
    "column_titles = [\"fips\",\"cases\",\"deaths\",\"POPESTIMATE2019\",\"NEVER\",\"RARELY\",\"SOMETIMES\",\"FREQUENTLY\",\"ALWAYS\",\"AREA\",\"POP_DEN\"]\n",
    "df_outliers = df_outliers.reindex(columns=column_titles)"
   ]
  },
  {
   "cell_type": "markdown",
   "metadata": {},
   "source": [
    "## normal df"
   ]
  },
  {
   "cell_type": "code",
   "execution_count": 11,
   "metadata": {},
   "outputs": [],
   "source": [
    "column_titles = [\"POPESTIMATE2019\",\"NEVER\",\"RARELY\",\"SOMETIMES\",\"FREQUENTLY\",\"ALWAYS\",\"AREA\",\"POP_DEN\"]#,\"POP_DENxALWAYS\",\"POP_DENxFREQUENTLY\",\"POP_DENxSOMETIMES\",\"POP_DENxRARELY\",\"POP_DENxNEVER\",'POPxALWAYS','POPxFREQUENTLY','POPxSOMETIMES','POPxRARELY','POPxNEVER']\n",
    "normal_df = pd.DataFrame(new_normal(df.reindex(columns=column_titles)))\n",
    "normal_df.columns = column_titles\n",
    "normal_df['fips'] = df['fips']\n",
    "normal_df = normal_df.merge(county_cases, how=\"left\", on=\"fips\")\n",
    "column_titles = [\"fips\",\"cases\",\"deaths\",\"POPESTIMATE2019\",\"NEVER\",\"RARELY\",\"SOMETIMES\",\"FREQUENTLY\",\"ALWAYS\",\"AREA\",\"POP_DEN\"]#,\"POP_DENxALWAYS\",\"POP_DENxFREQUENTLY\",\"POP_DENxSOMETIMES\",\"POP_DENxRARELY\",\"POP_DENxNEVER\",'POPxALWAYS','POPxFREQUENTLY','POPxSOMETIMES','POPxRARELY','POPxNEVER']\n",
    "normal_df = normal_df.reindex(columns=column_titles)"
   ]
  },
  {
   "cell_type": "markdown",
   "metadata": {},
   "source": [
    "## Histogram of preprocessing"
   ]
  },
  {
   "cell_type": "code",
   "execution_count": 12,
   "metadata": {},
   "outputs": [
    {
     "data": {
      "image/png": "[encoded data removed]",
      "text/plain": [
       "<Figure size 720x504 with 1 Axes>"
      ]
     },
     "metadata": {
      "needs_background": "light"
     },
     "output_type": "display_data"
    }
   ],
   "source": [
    "fig, ax = plt.subplots(figsize=(10,7))\n",
    "plt.hist(df['cases'],bins=100)\n",
    "plt.ylabel('Number of Counties') \n",
    "plt.xlabel('Number of Cases')\n",
    "plt.title('Distribution of Number of cases')\n",
    "plt.show()"
   ]
  },
  {
   "cell_type": "code",
   "execution_count": 13,
   "metadata": {},
   "outputs": [
    {
     "data": {
      "image/png": "[encoded data removed]",
      "text/plain": [
       "<Figure size 720x504 with 1 Axes>"
      ]
     },
     "metadata": {
      "needs_background": "light"
     },
     "output_type": "display_data"
    }
   ],
   "source": [
    "fig, ax = plt.subplots(figsize=(10,7))\n",
    "plt.hist(np.log(normal_df['cases']),bins=100)\n",
    "plt.ylabel('Number of Counties') \n",
    "plt.xlabel('Log of Number of Cases')\n",
    "plt.title('Distribution of Number of cases using log preprocessing')\n",
    "plt.show()"
   ]
  },
  {
   "cell_type": "markdown",
   "metadata": {},
   "source": [
    "## Split Data"
   ]
  },
  {
   "cell_type": "code",
   "execution_count": 14,
   "metadata": {},
   "outputs": [],
   "source": [
    "def split(X, Y, size):\n",
    "    return train_test_split(X, Y, test_size=size, random_state=0)"
   ]
  },
  {
   "cell_type": "markdown",
   "metadata": {},
   "source": [
    "## Random Forest Regression"
   ]
  },
  {
   "cell_type": "code",
   "execution_count": 15,
   "metadata": {},
   "outputs": [],
   "source": [
    "x_df = normal_df.drop(['fips','cases','deaths'], axis=1)\n",
    "x_train, x_test, y_train, y_test = split(x_df, np.log(normal_df['cases']), 0.2)"
   ]
  },
  {
   "cell_type": "code",
   "execution_count": 16,
   "metadata": {},
   "outputs": [
    {
     "name": "stdout",
     "output_type": "stream",
     "text": [
      "Best forest size is: 170\n",
      "With average MSE of: 0.45910358587518885\n"
     ]
    }
   ],
   "source": [
    "sizes = np.arange(30, 201, 10)\n",
    "outs=[]\n",
    "for size in sizes:\n",
    "    clf = RandomForestRegressor(n_estimators=size)\n",
    "    clf.fit(x_train, y_train)\n",
    "    outs.append(MSE(clf.predict(x_test), y_test))\n",
    "best_size = sizes[outs.index(min(outs))]\n",
    "print('Best forest size is:', best_size)\n",
    "print('With average MSE of:', min(outs))"
   ]
  },
  {
   "cell_type": "code",
   "execution_count": 17,
   "metadata": {},
   "outputs": [
    {
     "name": "stdout",
     "output_type": "stream",
     "text": [
      "Best sample size is: 50\n",
      "With average MSE of: 0.4484900191138123\n"
     ]
    }
   ],
   "source": [
    "percents = np.arange(0.1, 1, 0.1)\n",
    "outs=[]\n",
    "for percent in percents:\n",
    "    clf = RandomForestRegressor(n_estimators=best_size, bootstrap=True, max_samples=percent)\n",
    "    clf.fit(x_train, y_train)\n",
    "    outs.append(MSE(clf.predict(x_test), y_test))\n",
    "clf = RandomForestRegressor(n_estimators=best_size)\n",
    "clf.fit(x_train, y_train)\n",
    "boot_off = MSE(clf.predict(x_test), y_test)\n",
    "outs.append(boot_off)\n",
    "if boot_off == min(outs):\n",
    "    ideal_samples = 1\n",
    "else:\n",
    "    ideal_samples = sizes[outs.index(min(outs))]\n",
    "print('Best sample size is:', ideal_samples)\n",
    "print('With average MSE of:', min(outs))"
   ]
  },
  {
   "cell_type": "code",
   "execution_count": 18,
   "metadata": {},
   "outputs": [
    {
     "name": "stdout",
     "output_type": "stream",
     "text": [
      "0.47525540350254725\n"
     ]
    },
    {
     "data": {
      "image/png": "[encoded data removed]",
      "text/plain": [
       "<Figure size 432x288 with 1 Axes>"
      ]
     },
     "metadata": {
      "needs_background": "light"
     },
     "output_type": "display_data"
    }
   ],
   "source": [
    "clf = RandomForestRegressor(n_estimators=50)\n",
    "clf.fit(x_train, y_train)\n",
    "y_train_pred = clf.predict(x_train)\n",
    "y_test_pred = clf.predict(x_test)\n",
    "print(MSE(clf.predict(x_test), y_test))\n",
    "plt.plot(y_train, y_train_pred,'*r')\n",
    "plt.plot(y_test, y_test_pred, '*g')\n",
    "\n",
    "\n",
    "#for i in range(0,1000):\n",
    "    #plt.plot(i/100,i/100,'*y')\n",
    "plt.show()"
   ]
  },
  {
   "cell_type": "code",
   "execution_count": 21,
   "metadata": {},
   "outputs": [
    {
     "data": {
      "text/plain": [
       "0.823340874272705"
      ]
     },
     "execution_count": 21,
     "metadata": {},
     "output_type": "execute_result"
    }
   ],
   "source": [
    "(np.std(y_test)**2 - min(outs)) / np.std(y_test)**2"
   ]
  },
  {
   "cell_type": "code",
   "execution_count": null,
   "metadata": {},
   "outputs": [],
   "source": []
  }
 ],
 "metadata": {
  "kernelspec": {
   "display_name": "Python 3",
   "language": "python",
   "name": "python3"
  },
  "language_info": {
   "codemirror_mode": {
    "name": "ipython",
    "version": 3
   },
   "file_extension": ".py",
   "mimetype": "text/x-python",
   "name": "python",
   "nbconvert_exporter": "python",
   "pygments_lexer": "ipython3",
   "version": "3.8.5"
  }
 },
 "nbformat": 4,
 "nbformat_minor": 4
}
